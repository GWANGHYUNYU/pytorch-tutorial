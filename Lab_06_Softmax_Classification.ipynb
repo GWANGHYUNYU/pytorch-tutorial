{
  "nbformat": 4,
  "nbformat_minor": 0,
  "metadata": {
    "colab": {
      "name": "Lab-06_Softmax Classification.ipynb",
      "provenance": [],
      "collapsed_sections": [],
      "toc_visible": true,
      "authorship_tag": "ABX9TyOvfz8p+fyKHmUbE0r6wSFI",
      "include_colab_link": true
    },
    "kernelspec": {
      "name": "python3",
      "display_name": "Python 3"
    },
    "language_info": {
      "name": "python"
    }
  },
  "cells": [
    {
      "cell_type": "markdown",
      "metadata": {
        "id": "view-in-github",
        "colab_type": "text"
      },
      "source": [
        "<a href=\"https://colab.research.google.com/github/GWANGHYUNYU/pytorch-tutorial/blob/master/Lab_06_Softmax_Classification.ipynb\" target=\"_parent\"><img src=\"https://colab.research.google.com/assets/colab-badge.svg\" alt=\"Open In Colab\"/></a>"
      ]
    },
    {
      "cell_type": "markdown",
      "metadata": {
        "id": "IjA4-ALiQJXt"
      },
      "source": [
        "# **Imports**"
      ]
    },
    {
      "cell_type": "code",
      "metadata": {
        "id": "iXqgIpoTQA7d"
      },
      "source": [
        "import torch\n",
        "import torch.nn as nn\n",
        "import torch.nn.functional as F\n",
        "import torch.optim as optim"
      ],
      "execution_count": null,
      "outputs": []
    },
    {
      "cell_type": "markdown",
      "metadata": {
        "id": "MOMkfozNEIFY"
      },
      "source": [
        "# **Softmax**"
      ]
    },
    {
      "cell_type": "markdown",
      "metadata": {
        "id": "VXffTnVqFKwx"
      },
      "source": [
        "![06_Softmax_1.png](data:image/png;base64,iVBORw0KGgoAAAANSUhEUgAAAWsAAAB0CAMAAAEDaNMmAAAAAXNSR0IArs4c6QAAAARnQU1BAACxjwv8YQUAAADDUExURQAAAAAAAAAAAAAAAAAAAAAAAAAAAAAAAAAAAAAAAAAAAAAAAAAAAAAAAAAAAAAAAAAAAAAAAAAAAAAAAAAAAAAAAAAAAAAAAAAAAAAAAAAAAAAAAAAAAAAAAAAAAAAAAAAAAAAAAAAAAAAAAAAAAAAAAAAAAAAAAAAAAAAAAAAAAAAAAAAAAAAAAAAAAAAAAAAAAAAAAAAAAAAAAAAAAAAAAAAAAAAAAAAAAAAAAAAAAAAAAAAAAAAAAAAAAAAAAAAAAEBwqyAAAABBdFJOUwDDXAjLZBDTbBjbh3Qg4498KOuXMPOfOPunQK9It1C/WATHYAzPaBTXg3Ac34t4JOeTgCzvmzT3ozz/q0SzTLtU9vTGwQAAAAlwSFlzAAAXEQAAFxEByibzPwAADCdJREFUeF7tnYta4joQgIO4eMXbWi3eWC6uiiioKOso6vs/1ZmZTNrSllKgXcvZ/N8nDSEtIZ1OZpJJVP974EoS6ajK0eM3/oFOerzKMUyfXk7Uh1pRG0o1OA/fTwMvD9537MtxAk3lwI2kCb9qAOFqJnKh2pJKB1XyVNLp6HclMZ0Z677UzPZLH+SYApE3n5ZSPyVp2JNjhF2s1odSG1U8yxRqTagriQI+F3jYxXe3OhOZWLqv3DaoZufav881da4TMbeeH6NxNuUo3xH/TZNIK4fhxkrkXxLZXMir+VqXSgU1ZIZ0uyVJZQ+4F5IKA6r1oRqmY0psNvzwXZKpeC/TKXRJQOlH9T6g1LZSh6rD2STmIujYrIEsnZeELoGv93IsKVdS6oASqk5QgovyC2dxXhr4lBSEy9F7Ly/tRdICh/pYU1/6B2eI9AaiOjOFmoEVL1ouFsu3MkkVZsAU+3p+Lg8zVyWGB7zybcS8ywT4k1els9esQU77U64uH/cr+jiJ2ep4xCeYc7CzTKA248X1hTuU3GvzqdtkW3delDpDSz7IF/4962Q6QB2X1C9MNN7xRLy2q3v6c/4eKuD16fxCNv2Jl5UMF6HacOIGu3lKOSM0IsJn83tyqFNSZmOGnlg6E80SPFCqtyJZAXuBulp+tg+9rET4dD4N1kGVttXo8RUcUFvq/akcsh8d9HOkvIEbB8VBE+/jf8pxKuRGBeiSw+Jde4LJ6btdSZQj4k+/Y7YhkRmQRnIwEfpNizNkC/gHfUkFPdVM0fUO3eJskIviwbujWbFOL0P8e6JEtrB8pzbELRZLvlRyUU95c9Kivnr5WMrGVjVHEsuBu6W2qaGh1lyeUYdzqnF36eQDyPxfPoAcosH0ObTJ3MkxCyZOn0SotCZNEk6g7cBO17gU9yHxeptf3NiFa8CZfpc96DIh8IYv9XAtIbUHNAnYkkTWsFztArpHVVPrfdhuuPjmRGc4Tq8CQKMu7lv5nW7Mb7goX3q/8dFHcqSxEe+aqipFCMlagBF0BwDoA+kJO2LTjDED6f4NIEUKlPcFx5SN78hFSARMH+0lYmCPIAEpFkdg4rily+2b4m26BbrCuu7YsPwOhXYINNChYadeIznqyPtKM+Quvr9GsubnMfiTdMucUVYDZb0ENH0OB6heOpSkyRFWsXQT7oInRoCRDBc8JxZLwvu9MYwL2gaU+fjwqe/sOfcCd6eYW8NkZbc+4rGli1r9LnlE4WmkR06r/EhM4tjIwbU/OGKoRGIrEii5UwbuZqIH0+Z2AfRNKUWqDTkORi/OAaxJSvjtcMt7D1hBWR9TGMCTi3gH6pvvM83C/3WcQDABQBMW7+L+ArcQfLajT2Yx2ZF+60tLCqoWAB7yKjJt2DthjiB9+NP30/KZ0W61WCwWi+WfAmqSsOTNVyj+YTn4WXAXLJ5TL9R6mYAZokqKw3IJSHvUJZXXXqpa70FDAYr0IXxcS1bxeaAmZv/xxh8BLTywTeONhR4ti7IOW3UXso4nypvmjKvaikHiHEFh+aRaXyxd1QFWaXpibg4zHCX8TBesSLz+0hMW8zHckQTTXUzgyoOYhWjZsALQPQBXr8AMz03MPz5bBZpiqZsZwczRw/TcqDvh4OekOalkxE5281jVQvDUXYm/hNsnwMrCj3VeiuEHX5cn19ka0LTWKdTTzEF/PO5TUDRyttfiWbmNTuuFMyZwYkZ3c4oGWeOaAckGvxBrw94FTfIC21+v0FFvPFXtzaab6XWmwzPlGslSHZBFbf6QupQgFjc4eIJ8k+c1Tcgrz6pT5dixqAC1KlCFOG4AP+C4pXMj86hpPCRLzxUTOkKCkBLE4toVHPxW7ayJBmlAj4+qx984pN9QAVIyJgTAiwmYyKmprH5g4pHfMBkpF6VnqohIrZumtJZzbnBuXbTZZd7KgREfJwJGUyfVen4CT6CREK9vpYgRCRkZ6mJe3IIJZCBqEpVASBYbzAxfg5ESBC+bXAT/ql4DebOV8AdfOMpon5PEgZTv+VEgMbW+kogCvIYXVyIliIVrHZw2k7vJlX/ExxP1wIvWuJvYxC9esIUXfTERrU4JmGFF/Rgm4CaOF3kQmYY2zrfgeXdIrQajNdS64Gw7Cpprr+/wpMq0hwMpxK2Ei7Ky1J+/JxU7kYeOkCyf4+RQkYDydHUgwcXnM5sl688UgLHxiTJ6doQ5JkLECxmZzBsvYlJqkDgD6ooOxKecj0GqSTEmYzSy7smSbjNSBlaoceUktCkV7akBKTMxSgzKQZ5NI0fqmChaEXb5UcuG4XRdAaCjNyORQ7UxQ79gXOmwQZ9KCQb0E9h4KCyjQHeF/EJB5y7BU/jFBLxuFDmjyrINA+XcvLcs2A9qPWiSRqBQ11NMFZgnjtbUVOB8B9xlGJ+EQNj2LEr6WxkEB2+mdEqFYSxkFg0TfBgji4ALxxUaZIwI9wDtqKkh09+Oiakue+2b6PkXg2vQwXHvCS5i4filTWtGspYAieZjJMtisVgsFovFYrFYCs6aN7tnyRn0yws9RG2xzE7TNfNIlty5g6WMTV1K+l7shiVnfsP8AY6W2diEvEJBLWcOOKerABKidgjQUu0ju+d75rTfQK+FqZppo8YmppZoo7ul4QSgq4OyLrIIrLVMpgcwJPPu6nff2tQ580ATzuBsjn5YnZE3A5gaGW/JiB0As8dQb+FwcUsiZwAH2Njts2c7spc7jRuXNPbBw/cMgFRPAVYlXSg2dsB9yHI7x7/CSVeo198exxewPgLcTAyK7q1gZ/INew3cPz7qHTo3/ixHWO4Y6C3xwopyx4HAzjrvLqwmLm2owzds/bEC4K0/2OjDwSwbmxaAJnirT7AvNsssvyAYJx0D2v7fsL38RrUaUB01CC/hLTaHKNZmxSM2u8TsPgFM+UeSaPvn9D8s01N24KDYSz/GQRPH7DNNYy6yVSiqk9DuA417lHqGN0VvY6ftS9jGA/fh8Hk/8AZ8X8zyXkcem0jGjLRL9CVjT9s7TFvjWiQqWH3xl578ybVXsx7ZsN+HPvdJn7JL8X1gfObVgS4/y3iaGfDtubJCtTfUaj2SESC46DqAfOpD6yP18JBQjikVXEQZoACjSXtaWTSOf2JLN41puQ285b5HC8zC1uqJ1pAH/ozFlq9NUPRlMf2Nd0ZPb30dyZgDrFZofS3epeXZURYtt8t6vV572NamlOaP30kS2NShRxXtAbOwGu+WuS8o18Ycv8Jmd4J760cy5gBvcKgvRGMo/X+oCCDCPj9ynVnANovbngZN6+C+iqi9g3cCuQSzW9MtfrH58FMG25l9LAODwJ5OkYxZ+eF3LQaU66XZNWo1Xi6wzwn4KRcQ3koedaL5HGXeLOZG02Rcyz9dAwyD7l0kQ5NSX2Ox0FAc9TZhl7qo+jrS2QjtsXyUJ28XCA3qGDM+0zF6o9FEfSSLW/dNm6AFzPcykjEHZ1FH9SN8d/Pn9ehovrFXNKjjzehfwcf1dgh6j4Crc1hjMUIJO0MbrI/G7T7eFlIc984TyvUF56JBKF1kCVzSsJGMecCOAevUCaipBirwkHJLSbkaS4php5K3Lc9M7GFVsf6B3SJ8UGPzP6RhaNaTGG6L147CjM6yvr9oDtIbNAfILYI+5q7j0V2tnfdhoIcsIhlzQQa+G+yz0TeIrfx0GtR3wKre3YTQauybFA1acpluHJE9Dexs5t+S447aVh42hp7eaW29i+cMU+8Ykp6NNXCKHPSDJtTbIj+b+9CguY4W1VS5Rtc6n3nfxr0Dg78/lpeC8tYQdhbdZqZCOuk6MJ6yN72tUXmm3zlxVhrz9mT54u8PtgjUDblTrYpKwEjtj/vTlvSgczDuIYc43IGdn3traFlqCxjLz2fwWVD/oksMlxPUPtpi2jxA+deOA9q8aHjNZ2ZayMXQAU9hymgGatug0gdHq3U0zrD9czBE/hHQSI/Vwag5yC7Y72Cb5/X/QP8typfgxo7KHqO4dy/rf55X4gYxLLNzAVCPVwno63z7cNX/iUZpspO/7o8IVWrLMx9RVE5cWAtODd/W64EYVbwPoydVXfk5XMw/tSCn4QCX3fEh89vTIVod/bts/KZ/mUP08sdnLe79WQ9LlqClF0NoSsSSBeQuxmD/eZ3FYrFYLJmi1H+hlcHb/zR6IwAAAABJRU5ErkJggg==)"
      ]
    },
    {
      "cell_type": "code",
      "metadata": {
        "id": "lGWani4GE8l2"
      },
      "source": [
        "z = torch.FloatTensor([1, 2, 3])"
      ],
      "execution_count": null,
      "outputs": []
    },
    {
      "cell_type": "code",
      "metadata": {
        "colab": {
          "base_uri": "https://localhost:8080/"
        },
        "id": "CNUILhv8FNjl",
        "outputId": "e0ac8cfa-0ff6-44e6-ef0b-8e16f5ef315b"
      },
      "source": [
        "hypothesis = F.softmax(z, dim=0)\n",
        "print(hypothesis)"
      ],
      "execution_count": null,
      "outputs": [
        {
          "output_type": "stream",
          "text": [
            "tensor([0.0900, 0.2447, 0.6652])\n"
          ],
          "name": "stdout"
        }
      ]
    },
    {
      "cell_type": "code",
      "metadata": {
        "colab": {
          "base_uri": "https://localhost:8080/"
        },
        "id": "dQvisqftFPkt",
        "outputId": "ac3f0fbd-05e2-4945-8ddb-4540bd9382ca"
      },
      "source": [
        "print(hypothesis.sum())"
      ],
      "execution_count": null,
      "outputs": [
        {
          "output_type": "stream",
          "text": [
            "tensor(1.)\n"
          ],
          "name": "stdout"
        }
      ]
    },
    {
      "cell_type": "markdown",
      "metadata": {
        "id": "fiel0fBpE8Ml"
      },
      "source": [
        "# **Cross Entropy Loss (Low-Level)**"
      ]
    },
    {
      "cell_type": "markdown",
      "metadata": {
        "id": "d9XXmMroFcVp"
      },
      "source": [
        "![06_Softmax_2.png](data:image/png;base64,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)"
      ]
    },
    {
      "cell_type": "code",
      "metadata": {
        "colab": {
          "base_uri": "https://localhost:8080/"
        },
        "id": "s4MgnOCWFd3F",
        "outputId": "5ef22114-d302-4ba4-92e4-8bb128ebda99"
      },
      "source": [
        "z = torch.rand(3, 5, requires_grad=True)\n",
        "print(z, z.shape)\n",
        "hypothesis = F.softmax(z, dim=1)\n",
        "print(hypothesis)"
      ],
      "execution_count": null,
      "outputs": [
        {
          "output_type": "stream",
          "text": [
            "tensor([[0.6915, 0.2099, 0.3639, 0.1891, 0.8332],\n",
            "        [0.1707, 0.9429, 0.2238, 0.5814, 0.3628],\n",
            "        [0.8757, 0.7088, 0.1245, 0.6975, 0.2763]], requires_grad=True) torch.Size([3, 5])\n",
            "tensor([[0.2442, 0.1508, 0.1760, 0.1477, 0.2813],\n",
            "        [0.1441, 0.3120, 0.1520, 0.2173, 0.1746],\n",
            "        [0.2700, 0.2285, 0.1274, 0.2259, 0.1483]], grad_fn=<SoftmaxBackward>)\n"
          ],
          "name": "stdout"
        }
      ]
    },
    {
      "cell_type": "code",
      "metadata": {
        "colab": {
          "base_uri": "https://localhost:8080/"
        },
        "id": "MpNQooROFnl1",
        "outputId": "1a93aa39-cb85-4a40-a3d4-65de92d21f7c"
      },
      "source": [
        "y = torch.randint(5, (3,)).long()\n",
        "print(y)"
      ],
      "execution_count": null,
      "outputs": [
        {
          "output_type": "stream",
          "text": [
            "tensor([0, 4, 2])\n"
          ],
          "name": "stdout"
        }
      ]
    },
    {
      "cell_type": "code",
      "metadata": {
        "colab": {
          "base_uri": "https://localhost:8080/"
        },
        "id": "Oc8_wk8nFwGX",
        "outputId": "f5f37714-ad1a-4a18-a44e-5b13c636f69b"
      },
      "source": [
        "y_one_hot = torch.zeros_like(hypothesis)\n",
        "y_one_hot.scatter_(1, y.unsqueeze(1), 1)"
      ],
      "execution_count": null,
      "outputs": [
        {
          "output_type": "execute_result",
          "data": {
            "text/plain": [
              "tensor([[1., 0., 0., 0., 0.],\n",
              "        [0., 0., 0., 0., 1.],\n",
              "        [0., 0., 1., 0., 0.]])"
            ]
          },
          "metadata": {
            "tags": []
          },
          "execution_count": 9
        }
      ]
    },
    {
      "cell_type": "code",
      "metadata": {
        "colab": {
          "base_uri": "https://localhost:8080/"
        },
        "id": "kbYpaS-HF1Wv",
        "outputId": "87bfc164-2240-495e-c651-cdff33647f48"
      },
      "source": [
        "cost = (y_one_hot * -torch.log(hypothesis)).sum(dim=1).mean()\n",
        "print(cost)"
      ],
      "execution_count": null,
      "outputs": [
        {
          "output_type": "stream",
          "text": [
            "tensor(1.7385, grad_fn=<MeanBackward0>)\n"
          ],
          "name": "stdout"
        }
      ]
    },
    {
      "cell_type": "markdown",
      "metadata": {
        "id": "JYqF-PD9F4KJ"
      },
      "source": [
        "# **Cross-entropy Loss with `torch.nn.functional`**"
      ]
    },
    {
      "cell_type": "code",
      "metadata": {
        "colab": {
          "base_uri": "https://localhost:8080/"
        },
        "id": "wz4reUgMF7Gl",
        "outputId": "ab661443-94c6-42af-a6e3-37b26375083f"
      },
      "source": [
        "# Low level\n",
        "torch.log(F.softmax(z, dim=1))"
      ],
      "execution_count": null,
      "outputs": [
        {
          "output_type": "execute_result",
          "data": {
            "text/plain": [
              "tensor([[-1.4100, -1.8915, -1.7375, -1.9124, -1.2683],\n",
              "        [-1.9371, -1.1649, -1.8841, -1.5265, -1.7450],\n",
              "        [-1.3094, -1.4763, -2.0607, -1.4876, -1.9088]], grad_fn=<LogBackward>)"
            ]
          },
          "metadata": {
            "tags": []
          },
          "execution_count": 11
        }
      ]
    },
    {
      "cell_type": "code",
      "metadata": {
        "colab": {
          "base_uri": "https://localhost:8080/"
        },
        "id": "BAELn2cqGCAj",
        "outputId": "73d56e5a-7707-435e-f3a1-0fdd99f93301"
      },
      "source": [
        "# High level\n",
        "F.log_softmax(z, dim=1)"
      ],
      "execution_count": null,
      "outputs": [
        {
          "output_type": "execute_result",
          "data": {
            "text/plain": [
              "tensor([[-1.4100, -1.8915, -1.7375, -1.9124, -1.2683],\n",
              "        [-1.9371, -1.1649, -1.8841, -1.5265, -1.7450],\n",
              "        [-1.3094, -1.4763, -2.0607, -1.4876, -1.9088]],\n",
              "       grad_fn=<LogSoftmaxBackward>)"
            ]
          },
          "metadata": {
            "tags": []
          },
          "execution_count": 12
        }
      ]
    },
    {
      "cell_type": "code",
      "metadata": {
        "colab": {
          "base_uri": "https://localhost:8080/"
        },
        "id": "rCF8-GneGD0N",
        "outputId": "139f26cc-eb0e-4f56-ec4a-32c256c1b24d"
      },
      "source": [
        "# Low level\n",
        "(y_one_hot * -torch.log(F.softmax(z, dim=1))).sum(dim=1).mean()"
      ],
      "execution_count": null,
      "outputs": [
        {
          "output_type": "execute_result",
          "data": {
            "text/plain": [
              "tensor(1.7385, grad_fn=<MeanBackward0>)"
            ]
          },
          "metadata": {
            "tags": []
          },
          "execution_count": 13
        }
      ]
    },
    {
      "cell_type": "code",
      "metadata": {
        "colab": {
          "base_uri": "https://localhost:8080/"
        },
        "id": "QdcqFnVoGFP3",
        "outputId": "842f248c-c94a-4bcb-a4e0-d4e4631edb23"
      },
      "source": [
        "# High level\n",
        "F.nll_loss(F.log_softmax(z, dim=1), y)"
      ],
      "execution_count": null,
      "outputs": [
        {
          "output_type": "execute_result",
          "data": {
            "text/plain": [
              "tensor(1.7385, grad_fn=<NllLossBackward>)"
            ]
          },
          "metadata": {
            "tags": []
          },
          "execution_count": 14
        }
      ]
    },
    {
      "cell_type": "code",
      "metadata": {
        "colab": {
          "base_uri": "https://localhost:8080/"
        },
        "id": "KkYzgqzeGHv7",
        "outputId": "f6b8048d-aff2-4102-9a07-c6b5ec0dc88f"
      },
      "source": [
        "F.cross_entropy(z, y)"
      ],
      "execution_count": null,
      "outputs": [
        {
          "output_type": "execute_result",
          "data": {
            "text/plain": [
              "tensor(1.7385, grad_fn=<NllLossBackward>)"
            ]
          },
          "metadata": {
            "tags": []
          },
          "execution_count": 15
        }
      ]
    },
    {
      "cell_type": "markdown",
      "metadata": {
        "id": "Um8Wr9M4GTtb"
      },
      "source": [
        "# **Training with Low-level Cross Entropy Loss**"
      ]
    },
    {
      "cell_type": "code",
      "metadata": {
        "id": "PYnZj5MGGWql"
      },
      "source": [
        "x_train = [[1, 2, 1, 1],\n",
        "           [2, 1, 3, 2],\n",
        "           [3, 1, 3, 4],\n",
        "           [4, 1, 5, 5],\n",
        "           [1, 7, 5, 5],\n",
        "           [1, 2, 5, 6],\n",
        "           [1, 6, 6, 6],\n",
        "           [1, 7, 7, 7]]\n",
        "y_train = [2, 2, 2, 1, 1, 1, 0, 0]\n",
        "x_train = torch.FloatTensor(x_train)\n",
        "y_train = torch.LongTensor(y_train)"
      ],
      "execution_count": null,
      "outputs": []
    },
    {
      "cell_type": "code",
      "metadata": {
        "colab": {
          "base_uri": "https://localhost:8080/"
        },
        "id": "M8nCcyohGZ_-",
        "outputId": "4d199dea-7718-47a8-9ce2-82badfe03dd0"
      },
      "source": [
        "# 모델 초기화\n",
        "W = torch.zeros((4, 3), requires_grad=True)\n",
        "b = torch.zeros(1, requires_grad=True)\n",
        "\n",
        "# optimizer 설정\n",
        "optimizer = optim.SGD([W, b], lr=0.1)\n",
        "\n",
        "nb_epochs = 1000\n",
        "for epoch in range(nb_epochs + 1):\n",
        "\n",
        "    # Cost 계산 (1)\n",
        "    hypothesis = F.softmax(x_train.matmul(W) + b, dim=1) # or .mm or @\n",
        "    y_one_hot = torch.zeros_like(hypothesis)\n",
        "    y_one_hot.scatter_(1, y_train.unsqueeze(1), 1)\n",
        "    cost = (y_one_hot * -torch.log(F.softmax(hypothesis, dim=1))).sum(dim=1).mean()\n",
        "\n",
        "    # cost로 H(x) 개선\n",
        "    optimizer.zero_grad()\n",
        "    cost.backward()\n",
        "    optimizer.step()\n",
        "\n",
        "    # 100번마다 로그 출력\n",
        "    if epoch % 100 == 0:\n",
        "        print('Epoch {:4d}/{} Cost: {:.6f}'.format(\n",
        "            epoch, nb_epochs, cost.item()\n",
        "        ))"
      ],
      "execution_count": null,
      "outputs": [
        {
          "output_type": "stream",
          "text": [
            "Epoch    0/1000 Cost: 1.098612\n",
            "Epoch  100/1000 Cost: 0.901535\n",
            "Epoch  200/1000 Cost: 0.839114\n",
            "Epoch  300/1000 Cost: 0.807826\n",
            "Epoch  400/1000 Cost: 0.788472\n",
            "Epoch  500/1000 Cost: 0.774822\n",
            "Epoch  600/1000 Cost: 0.764449\n",
            "Epoch  700/1000 Cost: 0.756191\n",
            "Epoch  800/1000 Cost: 0.749398\n",
            "Epoch  900/1000 Cost: 0.743671\n",
            "Epoch 1000/1000 Cost: 0.738749\n"
          ],
          "name": "stdout"
        }
      ]
    },
    {
      "cell_type": "markdown",
      "metadata": {
        "id": "I6_YCGjRGhSV"
      },
      "source": [
        "# **Training with `F.cross_entropy`**"
      ]
    },
    {
      "cell_type": "code",
      "metadata": {
        "colab": {
          "base_uri": "https://localhost:8080/"
        },
        "id": "wxiYIAdnGgwY",
        "outputId": "9f1c4f10-26d6-49e7-fa72-c0035a06a050"
      },
      "source": [
        "# 모델 초기화\n",
        "W = torch.zeros((4, 3), requires_grad=True)\n",
        "b = torch.zeros(1, requires_grad=True)\n",
        "# optimizer 설정\n",
        "optimizer = optim.SGD([W, b], lr=0.1)\n",
        "\n",
        "nb_epochs = 1000\n",
        "for epoch in range(nb_epochs + 1):\n",
        "\n",
        "    # Cost 계산 (2)\n",
        "    z = x_train.matmul(W) + b # or .mm or @\n",
        "    cost = F.cross_entropy(z, y_train)\n",
        "\n",
        "    # cost로 H(x) 개선\n",
        "    optimizer.zero_grad()\n",
        "    cost.backward()\n",
        "    optimizer.step()\n",
        "\n",
        "    # 100번마다 로그 출력\n",
        "    if epoch % 100 == 0:\n",
        "        print('Epoch {:4d}/{} Cost: {:.6f}'.format(\n",
        "            epoch, nb_epochs, cost.item()\n",
        "        ))"
      ],
      "execution_count": null,
      "outputs": [
        {
          "output_type": "stream",
          "text": [
            "Epoch    0/1000 Cost: 1.098612\n",
            "Epoch  100/1000 Cost: 0.761050\n",
            "Epoch  200/1000 Cost: 0.689991\n",
            "Epoch  300/1000 Cost: 0.643229\n",
            "Epoch  400/1000 Cost: 0.604117\n",
            "Epoch  500/1000 Cost: 0.568256\n",
            "Epoch  600/1000 Cost: 0.533922\n",
            "Epoch  700/1000 Cost: 0.500291\n",
            "Epoch  800/1000 Cost: 0.466908\n",
            "Epoch  900/1000 Cost: 0.433507\n",
            "Epoch 1000/1000 Cost: 0.399962\n"
          ],
          "name": "stdout"
        }
      ]
    },
    {
      "cell_type": "markdown",
      "metadata": {
        "id": "vRjFHAPiGnEi"
      },
      "source": [
        "# **High-level Implementation with `nn.Module`**"
      ]
    },
    {
      "cell_type": "code",
      "metadata": {
        "id": "6WE_IOfAGqqj"
      },
      "source": [
        "class SoftmaxClassifierModel(nn.Module):\n",
        "    def __init__(self):\n",
        "        super().__init__()\n",
        "        self.linear = nn.Linear(4, 3) # Output이 3!\n",
        "\n",
        "    def forward(self, x):\n",
        "        return self.linear(x)"
      ],
      "execution_count": null,
      "outputs": []
    },
    {
      "cell_type": "code",
      "metadata": {
        "id": "sgkmFvYDGsc_"
      },
      "source": [
        "model = SoftmaxClassifierModel()"
      ],
      "execution_count": null,
      "outputs": []
    },
    {
      "cell_type": "code",
      "metadata": {
        "colab": {
          "base_uri": "https://localhost:8080/"
        },
        "id": "qWJM0-84GvOJ",
        "outputId": "16cb22e9-23cd-48a0-e3fd-62a2314f5d36"
      },
      "source": [
        "# optimizer 설정\n",
        "optimizer = optim.SGD(model.parameters(), lr=0.1)\n",
        "\n",
        "nb_epochs = 1000\n",
        "for epoch in range(nb_epochs + 1):\n",
        "\n",
        "    # H(x) 계산\n",
        "    prediction = model(x_train)\n",
        "    \n",
        "    # Cost 계산\n",
        "    cost = F.cross_entropy(prediction, y_train)\n",
        "\n",
        "    # cost로 H(x) 개선\n",
        "    optimizer.zero_grad()\n",
        "    cost.backward()\n",
        "    optimizer.step()\n",
        "\n",
        "    # 100번마다 로그 출력\n",
        "    if epoch % 100 == 0:\n",
        "        print('Epoch {:4d}/{} Cost: {:.6f}'.format(\n",
        "            epoch, nb_epochs, cost.item()\n",
        "        ))"
      ],
      "execution_count": null,
      "outputs": [
        {
          "output_type": "stream",
          "text": [
            "Epoch    0/1000 Cost: 1.815485\n",
            "Epoch  100/1000 Cost: 0.642524\n",
            "Epoch  200/1000 Cost: 0.561113\n",
            "Epoch  300/1000 Cost: 0.507624\n",
            "Epoch  400/1000 Cost: 0.463745\n",
            "Epoch  500/1000 Cost: 0.424595\n",
            "Epoch  600/1000 Cost: 0.387937\n",
            "Epoch  700/1000 Cost: 0.352313\n",
            "Epoch  800/1000 Cost: 0.316583\n",
            "Epoch  900/1000 Cost: 0.280166\n",
            "Epoch 1000/1000 Cost: 0.247546\n"
          ],
          "name": "stdout"
        }
      ]
    },
    {
      "cell_type": "markdown",
      "metadata": {
        "id": "ZNhGgxPGVGX7"
      },
      "source": [
        "# Loading Real Data"
      ]
    },
    {
      "cell_type": "code",
      "metadata": {
        "colab": {
          "base_uri": "https://localhost:8080/"
        },
        "id": "o6eEqkK0G4AC",
        "outputId": "5629bd14-9d2e-477c-e3d1-ed88dce51d46"
      },
      "source": [
        "from google.colab import drive\n",
        "drive.mount('/gdrive')"
      ],
      "execution_count": null,
      "outputs": [
        {
          "output_type": "stream",
          "text": [
            "Mounted at /gdrive\n"
          ],
          "name": "stdout"
        }
      ]
    },
    {
      "cell_type": "markdown",
      "metadata": {
        "id": "02kpsr_EHmiE"
      },
      "source": [
        "일반적인 Colab Notebooks 경로"
      ]
    },
    {
      "cell_type": "code",
      "metadata": {
        "colab": {
          "base_uri": "https://localhost:8080/"
        },
        "id": "cPEqSB6XO45j",
        "outputId": "5fb6062c-17b6-4ec0-8bd1-2a5344c867ae"
      },
      "source": [
        "!ls /gdrive/My\\ Drive/Colab\\ Notebooks/Pytorch/pytorch_for_everyone/data/"
      ],
      "execution_count": null,
      "outputs": [
        {
          "output_type": "stream",
          "text": [
            "01_test_score.csv  03_diabetes.txt  04_zoo.txt\tfaces  Plant_dataset\n"
          ],
          "name": "stdout"
        }
      ]
    },
    {
      "cell_type": "code",
      "metadata": {
        "colab": {
          "base_uri": "https://localhost:8080/"
        },
        "id": "i5Xo98UgGtmX",
        "outputId": "be788578-69c6-40b3-a637-a39a6fe35bb2"
      },
      "source": [
        "import numpy as np\n",
        "dataset = np.loadtxt('/gdrive/My Drive/Colab Notebooks/Pytorch/pytorch_for_everyone/data/04_zoo.txt', delimiter=',', dtype=np.float32)\n",
        "# dataset = pd.read_csv('/gdrive/My\\ Drive/Colab\\ Notebooks/Pytorch/pytorch_for_everyone/data/01_test_score.csv', delimiter='\\t')\n",
        "print(dataset.shape)\n",
        "print(len(dataset))\n",
        "print(dataset[:5])"
      ],
      "execution_count": null,
      "outputs": [
        {
          "output_type": "stream",
          "text": [
            "(101, 17)\n",
            "101\n",
            "[[1. 0. 0. 1. 0. 0. 1. 1. 1. 1. 0. 0. 4. 0. 0. 1. 0.]\n",
            " [1. 0. 0. 1. 0. 0. 0. 1. 1. 1. 0. 0. 4. 1. 0. 1. 0.]\n",
            " [0. 0. 1. 0. 0. 1. 1. 1. 1. 0. 0. 1. 0. 1. 0. 0. 3.]\n",
            " [1. 0. 0. 1. 0. 0. 1. 1. 1. 1. 0. 0. 4. 0. 0. 1. 0.]\n",
            " [1. 0. 0. 1. 0. 0. 1. 1. 1. 1. 0. 0. 4. 1. 0. 1. 0.]]\n"
          ],
          "name": "stdout"
        }
      ]
    },
    {
      "cell_type": "markdown",
      "metadata": {
        "id": "e1x9G1e1HCE3"
      },
      "source": [
        "# DATA"
      ]
    },
    {
      "cell_type": "code",
      "metadata": {
        "id": "gdE_28XsHD_X"
      },
      "source": [
        "x_train = torch.FloatTensor(dataset[:, 0:-1])\n",
        "y_train = torch.LongTensor(dataset[:, [-1]]).squeeze()"
      ],
      "execution_count": null,
      "outputs": []
    },
    {
      "cell_type": "code",
      "metadata": {
        "colab": {
          "base_uri": "https://localhost:8080/"
        },
        "id": "LeqfwPTgHOkw",
        "outputId": "cf500291-3f66-420c-f4c6-3b6e0c5930ee"
      },
      "source": [
        "print(x_train.shape) # x_train shape\n",
        "print(len(x_train))  # x_train 길이\n",
        "print(x_train[:5])   # 첫 다섯 개"
      ],
      "execution_count": null,
      "outputs": [
        {
          "output_type": "stream",
          "text": [
            "torch.Size([101, 16])\n",
            "101\n",
            "tensor([[1., 0., 0., 1., 0., 0., 1., 1., 1., 1., 0., 0., 4., 0., 0., 1.],\n",
            "        [1., 0., 0., 1., 0., 0., 0., 1., 1., 1., 0., 0., 4., 1., 0., 1.],\n",
            "        [0., 0., 1., 0., 0., 1., 1., 1., 1., 0., 0., 1., 0., 1., 0., 0.],\n",
            "        [1., 0., 0., 1., 0., 0., 1., 1., 1., 1., 0., 0., 4., 0., 0., 1.],\n",
            "        [1., 0., 0., 1., 0., 0., 1., 1., 1., 1., 0., 0., 4., 1., 0., 1.]])\n"
          ],
          "name": "stdout"
        }
      ]
    },
    {
      "cell_type": "code",
      "metadata": {
        "colab": {
          "base_uri": "https://localhost:8080/"
        },
        "id": "m37k935wHPYX",
        "outputId": "fcd143fc-556f-4a40-c61e-5943d9344bcf"
      },
      "source": [
        "print(y_train.shape) # x_train shape\n",
        "print(len(y_train))  # x_train 길이\n",
        "print(y_train[:5])   # 첫 다섯 개"
      ],
      "execution_count": null,
      "outputs": [
        {
          "output_type": "stream",
          "text": [
            "torch.Size([101])\n",
            "101\n",
            "tensor([0, 0, 3, 0, 0])\n"
          ],
          "name": "stdout"
        }
      ]
    },
    {
      "cell_type": "code",
      "metadata": {
        "id": "CgsvSHJxHu75"
      },
      "source": [
        "class SoftmaxClassifierModel(nn.Module):\n",
        "    def __init__(self):\n",
        "        super().__init__()\n",
        "        self.linear = nn.Linear(16, 7)\n",
        "    def forward(self, x):\n",
        "        return self.linear(x)"
      ],
      "execution_count": null,
      "outputs": []
    },
    {
      "cell_type": "code",
      "metadata": {
        "id": "yO2bXAPBH4iX"
      },
      "source": [
        "model = SoftmaxClassifierModel()"
      ],
      "execution_count": null,
      "outputs": []
    },
    {
      "cell_type": "code",
      "metadata": {
        "colab": {
          "base_uri": "https://localhost:8080/"
        },
        "id": "4POHKO4yH5rg",
        "outputId": "c4c97869-9845-4842-e283-0e596a76427f"
      },
      "source": [
        "# optimizer 설정\n",
        "optimizer = optim.SGD(model.parameters(), lr=0.1)\n",
        "\n",
        "nb_epochs = 1000\n",
        "for epoch in range(nb_epochs + 1):\n",
        "\n",
        "    # H(x) 계산\n",
        "    prediction = model(x_train)\n",
        "\n",
        "    # cost 계산\n",
        "    cost = F.cross_entropy(prediction, y_train)\n",
        "\n",
        "    # cost로 H(x) 개선\n",
        "    optimizer.zero_grad()\n",
        "    cost.backward()\n",
        "    optimizer.step()\n",
        "    \n",
        "    # 20번마다 로그 출력\n",
        "    if epoch % 100 == 0:\n",
        "        print('Epoch {:4d}/{} Cost: {:.6f}'.format(\n",
        "            epoch, nb_epochs, cost.item()\n",
        "        ))"
      ],
      "execution_count": null,
      "outputs": [
        {
          "output_type": "stream",
          "text": [
            "Epoch    0/1000 Cost: 1.838569\n",
            "Epoch  100/1000 Cost: 0.475998\n",
            "Epoch  200/1000 Cost: 0.318837\n",
            "Epoch  300/1000 Cost: 0.245350\n",
            "Epoch  400/1000 Cost: 0.200861\n",
            "Epoch  500/1000 Cost: 0.170597\n",
            "Epoch  600/1000 Cost: 0.148521\n",
            "Epoch  700/1000 Cost: 0.131638\n",
            "Epoch  800/1000 Cost: 0.118278\n",
            "Epoch  900/1000 Cost: 0.107425\n",
            "Epoch 1000/1000 Cost: 0.098427\n"
          ],
          "name": "stdout"
        }
      ]
    }
  ]
}