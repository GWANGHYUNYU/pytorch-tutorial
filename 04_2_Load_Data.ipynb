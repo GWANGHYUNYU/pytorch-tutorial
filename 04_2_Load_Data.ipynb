{
  "nbformat": 4,
  "nbformat_minor": 0,
  "metadata": {
    "colab": {
      "name": "04_2_Load Data.ipynb",
      "provenance": [],
      "collapsed_sections": [],
      "toc_visible": true,
      "authorship_tag": "ABX9TyMkFEEqHYL/BPcN1hJWJ1tu",
      "include_colab_link": true
    },
    "kernelspec": {
      "name": "python3",
      "display_name": "Python 3"
    }
  },
  "cells": [
    {
      "cell_type": "markdown",
      "metadata": {
        "id": "view-in-github",
        "colab_type": "text"
      },
      "source": [
        "<a href=\"https://colab.research.google.com/github/GWANGHYUNYU/pytorch-tutorial/blob/master/04_2_Load_Data.ipynb\" target=\"_parent\"><img src=\"https://colab.research.google.com/assets/colab-badge.svg\" alt=\"Open In Colab\"/></a>"
      ]
    },
    {
      "cell_type": "markdown",
      "metadata": {
        "id": "c3O2DkZLFeie"
      },
      "source": [
        "# Load Data from local to Google Colab"
      ]
    },
    {
      "cell_type": "code",
      "metadata": {
        "id": "XEwBksfUMOpL"
      },
      "source": [
        "import numpy as np\n",
        "import pandas as pd"
      ],
      "execution_count": null,
      "outputs": []
    },
    {
      "cell_type": "markdown",
      "metadata": {
        "id": "Ypo33yzZHE41"
      },
      "source": [
        "구글 드라이브에서 파일을 읽는 방법 1"
      ]
    },
    {
      "cell_type": "code",
      "metadata": {
        "colab": {
          "base_uri": "https://localhost:8080/"
        },
        "id": "o6eEqkK0G4AC",
        "outputId": "8ed6c0af-9d62-4aa8-fca3-c094a81b46ac"
      },
      "source": [
        "from google.colab import drive\n",
        "drive.mount('/gdrive')"
      ],
      "execution_count": null,
      "outputs": [
        {
          "output_type": "stream",
          "text": [
            "Mounted at /gdrive\n"
          ],
          "name": "stdout"
        }
      ]
    },
    {
      "cell_type": "markdown",
      "metadata": {
        "id": "02kpsr_EHmiE"
      },
      "source": [
        "일반적인 Colab Notebooks 경로"
      ]
    },
    {
      "cell_type": "code",
      "metadata": {
        "colab": {
          "base_uri": "https://localhost:8080/"
        },
        "id": "ayEiJn_THNEM",
        "outputId": "709daf3f-1d55-4208-de5e-66aff9ee9cc6"
      },
      "source": [
        "!ls /gdrive/My\\ Drive/Colab\\ Notebooks/"
      ],
      "execution_count": null,
      "outputs": [
        {
          "output_type": "stream",
          "text": [
            "data_science  Keras\t    Prof_Kim  Untitled0.ipynb\n",
            "GH\t      NLP\t    Python    Untitled1.ipynb\n",
            "HeoMinSeok    official_tf2  Pytorch\n"
          ],
          "name": "stdout"
        }
      ]
    },
    {
      "cell_type": "code",
      "metadata": {
        "colab": {
          "base_uri": "https://localhost:8080/"
        },
        "id": "cPEqSB6XO45j",
        "outputId": "b2839a54-5965-4661-bb53-8bbd1ecddf9d"
      },
      "source": [
        "!ls /gdrive/My\\ Drive/Colab\\ Notebooks/Pytorch/pytorch_for_everyone/data/01_test_score.csv"
      ],
      "execution_count": null,
      "outputs": [
        {
          "output_type": "stream",
          "text": [
            "'/gdrive/My Drive/Colab Notebooks/Pytorch/pytorch_for_everyone/data/01_test_score.csv'\n"
          ],
          "name": "stdout"
        }
      ]
    },
    {
      "cell_type": "markdown",
      "metadata": {
        "id": "sokOdrDoLFC8"
      },
      "source": [
        "path = '/gdrive/My Drive/Colab Notebooks/data/accidents.txt'\n",
        "dataset = np.loadtxt('data-01-test-score.csv', delimiter=',', dtype=np.float32)"
      ]
    },
    {
      "cell_type": "code",
      "metadata": {
        "colab": {
          "base_uri": "https://localhost:8080/"
        },
        "id": "i5vCIEUZLjEw",
        "outputId": "b4629b78-0f18-4269-8476-6e7f61408ccb"
      },
      "source": [
        "dataset = np.loadtxt('/gdrive/My Drive/Colab Notebooks/Pytorch/pytorch_for_everyone/data/01_test_score.csv', delimiter=',', dtype=np.float32)\n",
        "# dataset = pd.read_csv('/gdrive/My\\ Drive/Colab\\ Notebooks/Pytorch/pytorch_for_everyone/data/01_test_score.csv', delimiter='\\t')\n",
        "dataset"
      ],
      "execution_count": null,
      "outputs": [
        {
          "output_type": "execute_result",
          "data": {
            "text/plain": [
              "array([[ 73.,  80.,  75., 152.],\n",
              "       [ 93.,  88.,  93., 185.],\n",
              "       [ 89.,  91.,  90., 180.],\n",
              "       [ 96.,  98., 100., 196.],\n",
              "       [ 73.,  66.,  70., 142.],\n",
              "       [ 53.,  46.,  55., 101.],\n",
              "       [ 69.,  74.,  77., 149.],\n",
              "       [ 47.,  56.,  60., 115.],\n",
              "       [ 87.,  79.,  90., 175.],\n",
              "       [ 79.,  70.,  88., 164.],\n",
              "       [ 69.,  70.,  73., 141.],\n",
              "       [ 70.,  65.,  74., 141.],\n",
              "       [ 93.,  95.,  91., 184.],\n",
              "       [ 79.,  80.,  73., 152.],\n",
              "       [ 70.,  73.,  78., 148.],\n",
              "       [ 93.,  89.,  96., 192.],\n",
              "       [ 78.,  75.,  68., 147.],\n",
              "       [ 81.,  90.,  93., 183.],\n",
              "       [ 88.,  92.,  86., 177.],\n",
              "       [ 78.,  83.,  77., 159.],\n",
              "       [ 82.,  86.,  90., 177.],\n",
              "       [ 86.,  82.,  89., 175.],\n",
              "       [ 78.,  83.,  85., 175.],\n",
              "       [ 76.,  83.,  71., 149.],\n",
              "       [ 96.,  93.,  95., 192.]], dtype=float32)"
            ]
          },
          "metadata": {
            "tags": []
          },
          "execution_count": 5
        }
      ]
    },
    {
      "cell_type": "markdown",
      "metadata": {
        "id": "jiong6QCP2Pa"
      },
      "source": [
        "구글 드라이브에서 파일을 읽는 방법 2"
      ]
    },
    {
      "cell_type": "code",
      "metadata": {
        "colab": {
          "resources": {
            "http://localhost:8080/nbextensions/google.colab/files.js": {
              "data": "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",
              "ok": true,
              "headers": [
                [
                  "content-type",
                  "application/javascript"
                ]
              ],
              "status": 200,
              "status_text": ""
            }
          },
          "base_uri": "https://localhost:8080/",
          "height": 418
        },
        "id": "FQdbDnyzQg8R",
        "outputId": "c24e4deb-aad3-4776-8406-8ba40d65b55a"
      },
      "source": [
        "from google.colab import files\n",
        "\n",
        "uploaded = files.upload()\n",
        "\n",
        "for fn in uploaded.keys():\n",
        "  print('User uploaded file \"{name}\" with length {length} bytes'.format(\n",
        "      name=fn, length=len(uploaded[fn])))"
      ],
      "execution_count": null,
      "outputs": [
        {
          "output_type": "display_data",
          "data": {
            "text/html": [
              "\n",
              "     <input type=\"file\" id=\"files-044e4506-7f0a-4188-881e-35725c54f6a5\" name=\"files[]\" multiple disabled\n",
              "        style=\"border:none\" />\n",
              "     <output id=\"result-044e4506-7f0a-4188-881e-35725c54f6a5\">\n",
              "      Upload widget is only available when the cell has been executed in the\n",
              "      current browser session. Please rerun this cell to enable.\n",
              "      </output>\n",
              "      <script src=\"/nbextensions/google.colab/files.js\"></script> "
            ],
            "text/plain": [
              "<IPython.core.display.HTML object>"
            ]
          },
          "metadata": {
            "tags": []
          }
        },
        {
          "output_type": "error",
          "ename": "KeyboardInterrupt",
          "evalue": "ignored",
          "traceback": [
            "\u001b[0;31m---------------------------------------------------------------------------\u001b[0m",
            "\u001b[0;31mKeyboardInterrupt\u001b[0m                         Traceback (most recent call last)",
            "\u001b[0;32m<ipython-input-7-292f82be1b7a>\u001b[0m in \u001b[0;36m<module>\u001b[0;34m()\u001b[0m\n\u001b[1;32m      1\u001b[0m \u001b[0;32mfrom\u001b[0m \u001b[0mgoogle\u001b[0m\u001b[0;34m.\u001b[0m\u001b[0mcolab\u001b[0m \u001b[0;32mimport\u001b[0m \u001b[0mfiles\u001b[0m\u001b[0;34m\u001b[0m\u001b[0;34m\u001b[0m\u001b[0m\n\u001b[1;32m      2\u001b[0m \u001b[0;34m\u001b[0m\u001b[0m\n\u001b[0;32m----> 3\u001b[0;31m \u001b[0muploaded\u001b[0m \u001b[0;34m=\u001b[0m \u001b[0mfiles\u001b[0m\u001b[0;34m.\u001b[0m\u001b[0mupload\u001b[0m\u001b[0;34m(\u001b[0m\u001b[0;34m)\u001b[0m\u001b[0;34m\u001b[0m\u001b[0;34m\u001b[0m\u001b[0m\n\u001b[0m\u001b[1;32m      4\u001b[0m \u001b[0;34m\u001b[0m\u001b[0m\n\u001b[1;32m      5\u001b[0m \u001b[0;32mfor\u001b[0m \u001b[0mfn\u001b[0m \u001b[0;32min\u001b[0m \u001b[0muploaded\u001b[0m\u001b[0;34m.\u001b[0m\u001b[0mkeys\u001b[0m\u001b[0;34m(\u001b[0m\u001b[0;34m)\u001b[0m\u001b[0;34m:\u001b[0m\u001b[0;34m\u001b[0m\u001b[0;34m\u001b[0m\u001b[0m\n",
            "\u001b[0;32m/usr/local/lib/python3.7/dist-packages/google/colab/files.py\u001b[0m in \u001b[0;36mupload\u001b[0;34m()\u001b[0m\n\u001b[1;32m     62\u001b[0m   result = _output.eval_js(\n\u001b[1;32m     63\u001b[0m       'google.colab._files._uploadFiles(\"{input_id}\", \"{output_id}\")'.format(\n\u001b[0;32m---> 64\u001b[0;31m           input_id=input_id, output_id=output_id))\n\u001b[0m\u001b[1;32m     65\u001b[0m   \u001b[0mfiles\u001b[0m \u001b[0;34m=\u001b[0m \u001b[0m_collections\u001b[0m\u001b[0;34m.\u001b[0m\u001b[0mdefaultdict\u001b[0m\u001b[0;34m(\u001b[0m\u001b[0m_six\u001b[0m\u001b[0;34m.\u001b[0m\u001b[0mbinary_type\u001b[0m\u001b[0;34m)\u001b[0m\u001b[0;34m\u001b[0m\u001b[0;34m\u001b[0m\u001b[0m\n\u001b[1;32m     66\u001b[0m   \u001b[0;31m# Mapping from original filename to filename as saved locally.\u001b[0m\u001b[0;34m\u001b[0m\u001b[0;34m\u001b[0m\u001b[0;34m\u001b[0m\u001b[0m\n",
            "\u001b[0;32m/usr/local/lib/python3.7/dist-packages/google/colab/output/_js.py\u001b[0m in \u001b[0;36meval_js\u001b[0;34m(script, ignore_result, timeout_sec)\u001b[0m\n\u001b[1;32m     38\u001b[0m   \u001b[0;32mif\u001b[0m \u001b[0mignore_result\u001b[0m\u001b[0;34m:\u001b[0m\u001b[0;34m\u001b[0m\u001b[0;34m\u001b[0m\u001b[0m\n\u001b[1;32m     39\u001b[0m     \u001b[0;32mreturn\u001b[0m\u001b[0;34m\u001b[0m\u001b[0;34m\u001b[0m\u001b[0m\n\u001b[0;32m---> 40\u001b[0;31m   \u001b[0;32mreturn\u001b[0m \u001b[0m_message\u001b[0m\u001b[0;34m.\u001b[0m\u001b[0mread_reply_from_input\u001b[0m\u001b[0;34m(\u001b[0m\u001b[0mrequest_id\u001b[0m\u001b[0;34m,\u001b[0m \u001b[0mtimeout_sec\u001b[0m\u001b[0;34m)\u001b[0m\u001b[0;34m\u001b[0m\u001b[0;34m\u001b[0m\u001b[0m\n\u001b[0m\u001b[1;32m     41\u001b[0m \u001b[0;34m\u001b[0m\u001b[0m\n\u001b[1;32m     42\u001b[0m \u001b[0;34m\u001b[0m\u001b[0m\n",
            "\u001b[0;32m/usr/local/lib/python3.7/dist-packages/google/colab/_message.py\u001b[0m in \u001b[0;36mread_reply_from_input\u001b[0;34m(message_id, timeout_sec)\u001b[0m\n\u001b[1;32m     99\u001b[0m     \u001b[0mreply\u001b[0m \u001b[0;34m=\u001b[0m \u001b[0m_read_next_input_message\u001b[0m\u001b[0;34m(\u001b[0m\u001b[0;34m)\u001b[0m\u001b[0;34m\u001b[0m\u001b[0;34m\u001b[0m\u001b[0m\n\u001b[1;32m    100\u001b[0m     \u001b[0;32mif\u001b[0m \u001b[0mreply\u001b[0m \u001b[0;34m==\u001b[0m \u001b[0m_NOT_READY\u001b[0m \u001b[0;32mor\u001b[0m \u001b[0;32mnot\u001b[0m \u001b[0misinstance\u001b[0m\u001b[0;34m(\u001b[0m\u001b[0mreply\u001b[0m\u001b[0;34m,\u001b[0m \u001b[0mdict\u001b[0m\u001b[0;34m)\u001b[0m\u001b[0;34m:\u001b[0m\u001b[0;34m\u001b[0m\u001b[0;34m\u001b[0m\u001b[0m\n\u001b[0;32m--> 101\u001b[0;31m       \u001b[0mtime\u001b[0m\u001b[0;34m.\u001b[0m\u001b[0msleep\u001b[0m\u001b[0;34m(\u001b[0m\u001b[0;36m0.025\u001b[0m\u001b[0;34m)\u001b[0m\u001b[0;34m\u001b[0m\u001b[0;34m\u001b[0m\u001b[0m\n\u001b[0m\u001b[1;32m    102\u001b[0m       \u001b[0;32mcontinue\u001b[0m\u001b[0;34m\u001b[0m\u001b[0;34m\u001b[0m\u001b[0m\n\u001b[1;32m    103\u001b[0m     if (reply.get('type') == 'colab_reply' and\n",
            "\u001b[0;31mKeyboardInterrupt\u001b[0m: "
          ]
        }
      ]
    },
    {
      "cell_type": "code",
      "metadata": {
        "id": "UcrB6-4EP26K"
      },
      "source": [
        "!ls"
      ],
      "execution_count": null,
      "outputs": []
    },
    {
      "cell_type": "code",
      "metadata": {
        "id": "MGW5NRdOD4Ny"
      },
      "source": [
        "import io\n",
        "\n",
        "# pd.read_csv로 csv파일 불러오기\n",
        "# io.BytesIO로 묶어서 불러와야함함\n",
        "dataset = pd.read_csv(io.BytesIO(uploaded['01_test_score.csv']), names=[\"과목1\", \"과목2\", \"과목3\", \"총합\"])\n",
        "# dataset = pd.read_csv(io.BytesIO(uploaded['01_test_score.csv']), header=None)\n",
        "dataset.head()"
      ],
      "execution_count": null,
      "outputs": []
    },
    {
      "cell_type": "code",
      "metadata": {
        "colab": {
          "base_uri": "https://localhost:8080/",
          "height": 244
        },
        "id": "86hUKtSDGqWi",
        "outputId": "b9ce8381-4ef4-4f14-a499-a2945b2a932c"
      },
      "source": [
        "# pandas dataframe을 numpy format으로 변경\n",
        "dataset_np = dataset.to_numpy()\n",
        "print(type(dataset_np))\n",
        "print(dataset_np.shape)\n",
        "print(dataset_np[0:5])"
      ],
      "execution_count": null,
      "outputs": [
        {
          "output_type": "error",
          "ename": "AttributeError",
          "evalue": "ignored",
          "traceback": [
            "\u001b[0;31m---------------------------------------------------------------------------\u001b[0m",
            "\u001b[0;31mAttributeError\u001b[0m                            Traceback (most recent call last)",
            "\u001b[0;32m<ipython-input-8-deac5f284605>\u001b[0m in \u001b[0;36m<module>\u001b[0;34m()\u001b[0m\n\u001b[1;32m      1\u001b[0m \u001b[0;31m# pandas dataframe을 numpy format으로 변경\u001b[0m\u001b[0;34m\u001b[0m\u001b[0;34m\u001b[0m\u001b[0;34m\u001b[0m\u001b[0m\n\u001b[0;32m----> 2\u001b[0;31m \u001b[0mdataset_np\u001b[0m \u001b[0;34m=\u001b[0m \u001b[0mdataset\u001b[0m\u001b[0;34m.\u001b[0m\u001b[0mto_numpy\u001b[0m\u001b[0;34m(\u001b[0m\u001b[0;34m)\u001b[0m\u001b[0;34m\u001b[0m\u001b[0;34m\u001b[0m\u001b[0m\n\u001b[0m\u001b[1;32m      3\u001b[0m \u001b[0mprint\u001b[0m\u001b[0;34m(\u001b[0m\u001b[0mtype\u001b[0m\u001b[0;34m(\u001b[0m\u001b[0mdataset_np\u001b[0m\u001b[0;34m)\u001b[0m\u001b[0;34m)\u001b[0m\u001b[0;34m\u001b[0m\u001b[0;34m\u001b[0m\u001b[0m\n\u001b[1;32m      4\u001b[0m \u001b[0mprint\u001b[0m\u001b[0;34m(\u001b[0m\u001b[0mdataset_np\u001b[0m\u001b[0;34m.\u001b[0m\u001b[0mshape\u001b[0m\u001b[0;34m)\u001b[0m\u001b[0;34m\u001b[0m\u001b[0;34m\u001b[0m\u001b[0m\n\u001b[1;32m      5\u001b[0m \u001b[0mprint\u001b[0m\u001b[0;34m(\u001b[0m\u001b[0mdataset_np\u001b[0m\u001b[0;34m[\u001b[0m\u001b[0;36m0\u001b[0m\u001b[0;34m:\u001b[0m\u001b[0;36m5\u001b[0m\u001b[0;34m]\u001b[0m\u001b[0;34m)\u001b[0m\u001b[0;34m\u001b[0m\u001b[0;34m\u001b[0m\u001b[0m\n",
            "\u001b[0;31mAttributeError\u001b[0m: 'numpy.ndarray' object has no attribute 'to_numpy'"
          ]
        }
      ]
    },
    {
      "cell_type": "markdown",
      "metadata": {
        "id": "2Hx-XG5oHcRa"
      },
      "source": [
        "# Loading Data from .csv file"
      ]
    },
    {
      "cell_type": "code",
      "metadata": {
        "id": "cDNH0BTqRFO9"
      },
      "source": [
        "x_data = dataset[:, 0:-1]\n",
        "y_data = dataset[:, [-1]]"
      ],
      "execution_count": null,
      "outputs": []
    },
    {
      "cell_type": "code",
      "metadata": {
        "id": "qhch2URhH2fi"
      },
      "source": [
        "x_data = dataset_np[:, 0:-1]\n",
        "y_data = dataset_np[:, [-1]]"
      ],
      "execution_count": null,
      "outputs": []
    },
    {
      "cell_type": "code",
      "metadata": {
        "colab": {
          "base_uri": "https://localhost:8080/"
        },
        "id": "LE_Au2whH--a",
        "outputId": "d12bad62-f401-4f0a-af48-f6a4815e3036"
      },
      "source": [
        "print(x_data.shape) # x_data shape\n",
        "print(len(x_data))  # x_data 길이\n",
        "print(x_data[:5])   # 첫 다섯 개"
      ],
      "execution_count": null,
      "outputs": [
        {
          "output_type": "stream",
          "text": [
            "(25, 3)\n",
            "25\n",
            "[[ 73.  80.  75.]\n",
            " [ 93.  88.  93.]\n",
            " [ 89.  91.  90.]\n",
            " [ 96.  98. 100.]\n",
            " [ 73.  66.  70.]]\n"
          ],
          "name": "stdout"
        }
      ]
    },
    {
      "cell_type": "code",
      "metadata": {
        "colab": {
          "base_uri": "https://localhost:8080/"
        },
        "id": "2uJfE8gwIAzC",
        "outputId": "5acbd7fc-f663-46a2-bfa7-1b08f5c70437"
      },
      "source": [
        "print(y_data.shape) # y_data shape\n",
        "print(len(y_data))  # y_data 길이\n",
        "print(y_data[:5])   # 첫 다섯 개"
      ],
      "execution_count": null,
      "outputs": [
        {
          "output_type": "stream",
          "text": [
            "(25, 1)\n",
            "25\n",
            "[[152.]\n",
            " [185.]\n",
            " [180.]\n",
            " [196.]\n",
            " [142.]]\n"
          ],
          "name": "stdout"
        }
      ]
    },
    {
      "cell_type": "code",
      "metadata": {
        "colab": {
          "base_uri": "https://localhost:8080/"
        },
        "id": "Vv1QzaasKMea",
        "outputId": "14c12e2b-f940-4c3b-fcfc-f9f789a0f64a"
      },
      "source": [
        "# pytorch must need batchsize\n",
        "bad_y_data = y_data.reshape(-1)\n",
        "print(bad_y_data.shape)\n",
        "print(bad_y_data[:5])   # 첫 다섯 개"
      ],
      "execution_count": null,
      "outputs": [
        {
          "output_type": "stream",
          "text": [
            "(25,)\n",
            "[152. 185. 180. 196. 142.]\n"
          ],
          "name": "stdout"
        }
      ]
    },
    {
      "cell_type": "markdown",
      "metadata": {
        "id": "jfngAZWjIO44"
      },
      "source": [
        "# Imports"
      ]
    },
    {
      "cell_type": "code",
      "metadata": {
        "id": "Pw5lsVdYIQWB"
      },
      "source": [
        "import torch\n",
        "import torch.nn as nn\n",
        "import torch.nn.functional as F\n",
        "import torch.optim as optim"
      ],
      "execution_count": null,
      "outputs": []
    },
    {
      "cell_type": "code",
      "metadata": {
        "colab": {
          "base_uri": "https://localhost:8080/"
        },
        "id": "39lxy2ovIS9x",
        "outputId": "4fde66fa-ca61-4b6f-9268-73896caafe6b"
      },
      "source": [
        "# For reproducibility\n",
        "torch.manual_seed(1)"
      ],
      "execution_count": null,
      "outputs": [
        {
          "output_type": "execute_result",
          "data": {
            "text/plain": [
              "<torch._C.Generator at 0x7f1b02129450>"
            ]
          },
          "metadata": {
            "tags": []
          },
          "execution_count": 14
        }
      ]
    },
    {
      "cell_type": "markdown",
      "metadata": {
        "id": "ghIvaBxzLiQz"
      },
      "source": [
        "**with nn.Module**"
      ]
    },
    {
      "cell_type": "code",
      "metadata": {
        "id": "VnsImnmDLh27"
      },
      "source": [
        "class MultivariateLinearRegressionModel(nn.Module):\n",
        "    def __init__(self):\n",
        "        super().__init__()\n",
        "        self.linear = nn.Linear(3, 1)\n",
        "\n",
        "    def forward(self, x):\n",
        "        return self.linear(x)"
      ],
      "execution_count": null,
      "outputs": []
    },
    {
      "cell_type": "code",
      "metadata": {
        "colab": {
          "base_uri": "https://localhost:8080/"
        },
        "id": "uMjHWN-fLlnC",
        "outputId": "727fa67e-6f8d-4715-e069-3b65b044de53"
      },
      "source": [
        "# 데이터\n",
        "x_train = torch.FloatTensor(x_data)\n",
        "y_train = torch.FloatTensor(y_data)\n",
        "bad_y_train = torch.FloatTensor(bad_y_data)\n",
        "\n",
        "# 모델 초기화\n",
        "model = MultivariateLinearRegressionModel()\n",
        "\n",
        "# optimizer 설정\n",
        "optimizer = optim.SGD(model.parameters(), lr=1e-5)\n",
        "\n",
        "nb_epochs = 1000\n",
        "for epoch in range(nb_epochs+1):\n",
        "    \n",
        "    # H(x) 계산\n",
        "    prediction = model(x_train)\n",
        "    \n",
        "    # cost 계산\n",
        "    cost = F.mse_loss(prediction, y_train)\n",
        "    \n",
        "    # cost로 H(x) 개선\n",
        "    optimizer.zero_grad()\n",
        "    cost.backward()\n",
        "    optimizer.step()\n",
        "\n",
        "    # 100번마다 로그 출력\n",
        "    if epoch % 100 == 0:\n",
        "        print('Epoch {:4d}/{} hypothesis: {} Cost: {:.6f}'.format(\n",
        "            epoch, nb_epochs, prediction.squeeze().detach(), cost.item()\n",
        "        ))"
      ],
      "execution_count": null,
      "outputs": [
        {
          "output_type": "stream",
          "text": [
            "Epoch    0/1000 hypothesis: tensor([11.3255, 11.7617, 12.4897, 13.7879,  8.4404,  6.4585, 11.2443,  9.6431,\n",
            "        10.8762, 10.4320, 10.0927,  9.2599, 12.6315, 10.1290, 11.0539, 12.3042,\n",
            "         8.8465, 13.9668, 12.2982, 11.2770, 12.7855, 11.3878, 12.2952, 10.8272,\n",
            "        12.3484]) Cost: 23265.921875\n",
            "Epoch  100/1000 hypothesis: tensor([154.6288, 184.1238, 182.2529, 198.7181, 139.8882, 103.4539, 149.7031,\n",
            "        112.3294, 172.0450, 159.8245, 143.4814, 140.8563, 187.9762, 155.8355,\n",
            "        150.1729, 187.2427, 147.5966, 180.1307, 179.4379, 160.8219, 175.1524,\n",
            "        173.1226, 167.0757, 155.2081, 190.9409]) Cost: 10.228635\n",
            "Epoch  200/1000 hypothesis: tensor([154.5512, 184.1492, 182.2132, 198.7184, 139.9013, 103.5444, 149.7346,\n",
            "        112.3929, 172.1494, 160.0277, 143.5025, 140.9461, 187.8929, 155.7121,\n",
            "        150.2270, 187.2990, 147.4632, 180.1684, 179.3333, 160.7233, 175.1909,\n",
            "        173.1813, 167.0900, 155.0307, 190.9282]) Cost: 9.888563\n",
            "Epoch  300/1000 hypothesis: tensor([154.4771, 184.1734, 182.1754, 198.7187, 139.9135, 103.6308, 149.7649,\n",
            "        112.4541, 172.2490, 160.2221, 143.5227, 141.0319, 187.8132, 155.5940,\n",
            "        150.2790, 187.3527, 147.3353, 180.2048, 179.2332, 160.6291, 175.2279,\n",
            "        173.2374, 167.1039, 154.8611, 190.9159]) Cost: 9.577167\n",
            "Epoch  400/1000 hypothesis: tensor([154.4065, 184.1964, 182.1391, 198.7191, 139.9250, 103.7132, 149.7941,\n",
            "        112.5130, 172.3442, 160.4080, 143.5421, 141.1140, 187.7369, 155.4808,\n",
            "        150.3288, 187.4040, 147.2126, 180.2400, 179.1375, 160.5389, 175.2635,\n",
            "        173.2909, 167.1172, 154.6989, 190.9041]) Cost: 9.291998\n",
            "Epoch  500/1000 hypothesis: tensor([154.3390, 184.2183, 182.1045, 198.7195, 139.9357, 103.7920, 149.8222,\n",
            "        112.5697, 172.4351, 160.5856, 143.5607, 141.1923, 187.6638, 155.3724,\n",
            "        150.3767, 187.4530, 147.0950, 180.2741, 179.0459, 160.4528, 175.2977,\n",
            "        173.3420, 167.1302, 154.5437, 190.8925]) Cost: 9.030892\n",
            "Epoch  600/1000 hypothesis: tensor([154.2745, 184.2390, 182.0713, 198.7199, 139.9457, 103.8672, 149.8493,\n",
            "        112.6243, 172.5218, 160.7555, 143.5785, 141.2672, 187.5939, 155.2686,\n",
            "        150.4226, 187.4998, 146.9822, 180.3069, 178.9583, 160.3704, 175.3306,\n",
            "        173.3908, 167.1429, 154.3953, 190.8814]) Cost: 8.791736\n",
            "Epoch  700/1000 hypothesis: tensor([154.2131, 184.2587, 182.0396, 198.7204, 139.9550, 103.9390, 149.8755,\n",
            "        112.6769, 172.6046, 160.9179, 143.5956, 141.3388, 187.5269, 155.1692,\n",
            "        150.4667, 187.5445, 146.8740, 180.3388, 178.8746, 160.2916, 175.3622,\n",
            "        173.4375, 167.1551, 154.2534, 190.8706]) Cost: 8.572751\n",
            "Epoch  800/1000 hypothesis: tensor([154.1544, 184.2773, 182.0093, 198.7209, 139.9637, 104.0075, 149.9006,\n",
            "        112.7276, 172.6837, 161.0732, 143.6120, 141.4071, 187.4629, 155.0739,\n",
            "        150.5090, 187.5871, 146.7703, 180.3695, 178.7944, 160.2163, 175.3926,\n",
            "        173.4820, 167.1670, 154.1176, 190.8602]) Cost: 8.372175\n",
            "Epoch  900/1000 hypothesis: tensor([154.0983, 184.2950, 181.9803, 198.7215, 139.9718, 104.0729, 149.9249,\n",
            "        112.7764, 172.7592, 161.2217, 143.6278, 141.4725, 187.4015, 154.9827,\n",
            "        150.5496, 187.6278, 146.6708, 180.3992, 178.7177, 160.1443, 175.4218,\n",
            "        173.5245, 167.1785, 153.9877, 190.8501]) Cost: 8.188481\n",
            "Epoch 1000/1000 hypothesis: tensor([154.0449, 184.3118, 181.9525, 198.7220, 139.9794, 104.1353, 149.9482,\n",
            "        112.8234, 172.8312, 161.3636, 143.6428, 141.5349, 187.3428, 154.8954,\n",
            "        150.5886, 187.6667, 146.5754, 180.4279, 178.6444, 160.0755, 175.4499,\n",
            "        173.5650, 167.1897, 153.8635, 190.8403]) Cost: 8.020245\n"
          ],
          "name": "stdout"
        }
      ]
    },
    {
      "cell_type": "markdown",
      "metadata": {
        "id": "r5a4NCbXOD0K"
      },
      "source": [
        "**mini_batch_train**\n",
        "\n",
        "![LR_figure14.png](data:image/png;base64,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)"
      ]
    },
    {
      "cell_type": "code",
      "metadata": {
        "id": "cndyXBa4OJii"
      },
      "source": [
        "import torch\n",
        "import torch.nn as nn\n",
        "import torch.nn.functional as F\n",
        "import torch.optim as optim\n",
        "from torch.utils.data import Dataset, DataLoader"
      ],
      "execution_count": null,
      "outputs": []
    },
    {
      "cell_type": "code",
      "metadata": {
        "id": "7uE76qM1OYv6"
      },
      "source": [
        "class CustomDataset(Dataset):\n",
        "# torch.utils.data.Dataset 상속\n",
        "    def __init__(self, x_data, y_data):\n",
        "        self.x_train = x_data\n",
        "        self.y_train = y_data\n",
        "\n",
        "    def __len__(self):\n",
        "    # 이 데이터셋의 총 데이터 수\n",
        "        return len(self.x_train)\n",
        "\n",
        "    def __getitem__(self, idx):\n",
        "    # 어떠한 인덱스(idx)를 받았을 때, 그에 상응하는 입출력 데이터 반환\n",
        "        x = torch.FloatTensor(self.x_train[idx])\n",
        "        y = torch.FloatTensor(self.y_train[idx])\n",
        "        return x, y"
      ],
      "execution_count": null,
      "outputs": []
    },
    {
      "cell_type": "code",
      "metadata": {
        "id": "TUPOo6zhPOvb"
      },
      "source": [
        "dataset = CustomDataset(x_data, y_data)"
      ],
      "execution_count": null,
      "outputs": []
    },
    {
      "cell_type": "code",
      "metadata": {
        "id": "ncrCJmvBPR6K"
      },
      "source": [
        "dataloader = DataLoader(dataset, batch_size=2, shuffle=True,)"
      ],
      "execution_count": null,
      "outputs": []
    },
    {
      "cell_type": "code",
      "metadata": {
        "colab": {
          "base_uri": "https://localhost:8080/"
        },
        "id": "LjtP17Ayi0vl",
        "outputId": "95690e5f-1896-4dd7-fb1f-051dae116b37"
      },
      "source": [
        "nb_epochs = 20\n",
        "for epoch in range(nb_epochs + 1):\n",
        "    for batch_idx, samples in enumerate(dataloader):\n",
        "        x_train, y_train = samples\n",
        "        # H(x) 계산\n",
        "        prediction = model(x_train)\n",
        "        # cost 계산\n",
        "        cost = F.mse_loss(prediction, y_train)\n",
        "        # cost로 H(x) 개선\n",
        "        optimizer.zero_grad()\n",
        "        cost.backward()\n",
        "        optimizer.step()\n",
        "        print('Epoch {:4d}/{} Batch {}/{} Cost: {:.6f}'.format(\n",
        "        epoch, nb_epochs, batch_idx+1, len(dataloader),\n",
        "        cost.item()\n",
        "        ))"
      ],
      "execution_count": null,
      "outputs": [
        {
          "output_type": "stream",
          "text": [
            "Epoch    0/20 Batch 1/13 Cost: 11063.976562\n",
            "Epoch    0/20 Batch 2/13 Cost: 2873.776855\n",
            "Epoch    0/20 Batch 3/13 Cost: 2313.082764\n",
            "Epoch    0/20 Batch 4/13 Cost: 615.348328\n",
            "Epoch    0/20 Batch 5/13 Cost: 95.979713\n",
            "Epoch    0/20 Batch 6/13 Cost: 69.386299\n",
            "Epoch    0/20 Batch 7/13 Cost: 2.482364\n",
            "Epoch    0/20 Batch 8/13 Cost: 30.791615\n",
            "Epoch    0/20 Batch 9/13 Cost: 2.332696\n",
            "Epoch    0/20 Batch 10/13 Cost: 6.076922\n",
            "Epoch    0/20 Batch 11/13 Cost: 34.143494\n",
            "Epoch    0/20 Batch 12/13 Cost: 0.019993\n",
            "Epoch    0/20 Batch 13/13 Cost: 54.270058\n",
            "Epoch    1/20 Batch 1/13 Cost: 9.817627\n",
            "Epoch    1/20 Batch 2/13 Cost: 32.722340\n",
            "Epoch    1/20 Batch 3/13 Cost: 16.071671\n",
            "Epoch    1/20 Batch 4/13 Cost: 10.830376\n",
            "Epoch    1/20 Batch 5/13 Cost: 3.923363\n",
            "Epoch    1/20 Batch 6/13 Cost: 50.978374\n",
            "Epoch    1/20 Batch 7/13 Cost: 2.371330\n",
            "Epoch    1/20 Batch 8/13 Cost: 22.467712\n",
            "Epoch    1/20 Batch 9/13 Cost: 1.603945\n",
            "Epoch    1/20 Batch 10/13 Cost: 8.667933\n",
            "Epoch    1/20 Batch 11/13 Cost: 29.927698\n",
            "Epoch    1/20 Batch 12/13 Cost: 8.433174\n",
            "Epoch    1/20 Batch 13/13 Cost: 1.735055\n",
            "Epoch    2/20 Batch 1/13 Cost: 7.557719\n",
            "Epoch    2/20 Batch 2/13 Cost: 11.524434\n",
            "Epoch    2/20 Batch 3/13 Cost: 24.958712\n",
            "Epoch    2/20 Batch 4/13 Cost: 12.585135\n",
            "Epoch    2/20 Batch 5/13 Cost: 9.300200\n",
            "Epoch    2/20 Batch 6/13 Cost: 30.018448\n",
            "Epoch    2/20 Batch 7/13 Cost: 57.881107\n",
            "Epoch    2/20 Batch 8/13 Cost: 28.049410\n",
            "Epoch    2/20 Batch 9/13 Cost: 20.171875\n",
            "Epoch    2/20 Batch 10/13 Cost: 1.013197\n",
            "Epoch    2/20 Batch 11/13 Cost: 4.398386\n",
            "Epoch    2/20 Batch 12/13 Cost: 1.822875\n",
            "Epoch    2/20 Batch 13/13 Cost: 0.012808\n",
            "Epoch    3/20 Batch 1/13 Cost: 3.291184\n",
            "Epoch    3/20 Batch 2/13 Cost: 8.197347\n",
            "Epoch    3/20 Batch 3/13 Cost: 87.144753\n",
            "Epoch    3/20 Batch 4/13 Cost: 14.910665\n",
            "Epoch    3/20 Batch 5/13 Cost: 15.557573\n",
            "Epoch    3/20 Batch 6/13 Cost: 1.537276\n",
            "Epoch    3/20 Batch 7/13 Cost: 0.118553\n",
            "Epoch    3/20 Batch 8/13 Cost: 37.430870\n",
            "Epoch    3/20 Batch 9/13 Cost: 6.522465\n",
            "Epoch    3/20 Batch 10/13 Cost: 21.948154\n",
            "Epoch    3/20 Batch 11/13 Cost: 19.322369\n",
            "Epoch    3/20 Batch 12/13 Cost: 1.521439\n",
            "Epoch    3/20 Batch 13/13 Cost: 6.193898\n",
            "Epoch    4/20 Batch 1/13 Cost: 43.845963\n",
            "Epoch    4/20 Batch 2/13 Cost: 8.170051\n",
            "Epoch    4/20 Batch 3/13 Cost: 32.245857\n",
            "Epoch    4/20 Batch 4/13 Cost: 12.344610\n",
            "Epoch    4/20 Batch 5/13 Cost: 1.502452\n",
            "Epoch    4/20 Batch 6/13 Cost: 7.832308\n",
            "Epoch    4/20 Batch 7/13 Cost: 5.287579\n",
            "Epoch    4/20 Batch 8/13 Cost: 1.001456\n",
            "Epoch    4/20 Batch 9/13 Cost: 2.728065\n",
            "Epoch    4/20 Batch 10/13 Cost: 25.912924\n",
            "Epoch    4/20 Batch 11/13 Cost: 7.234996\n",
            "Epoch    4/20 Batch 12/13 Cost: 23.144146\n",
            "Epoch    4/20 Batch 13/13 Cost: 52.092728\n",
            "Epoch    5/20 Batch 1/13 Cost: 17.995993\n",
            "Epoch    5/20 Batch 2/13 Cost: 22.385124\n",
            "Epoch    5/20 Batch 3/13 Cost: 2.280610\n",
            "Epoch    5/20 Batch 4/13 Cost: 31.329060\n",
            "Epoch    5/20 Batch 5/13 Cost: 3.998699\n",
            "Epoch    5/20 Batch 6/13 Cost: 2.264203\n",
            "Epoch    5/20 Batch 7/13 Cost: 6.593548\n",
            "Epoch    5/20 Batch 8/13 Cost: 14.515137\n",
            "Epoch    5/20 Batch 9/13 Cost: 12.264250\n",
            "Epoch    5/20 Batch 10/13 Cost: 7.927711\n",
            "Epoch    5/20 Batch 11/13 Cost: 0.350513\n",
            "Epoch    5/20 Batch 12/13 Cost: 65.166840\n",
            "Epoch    5/20 Batch 13/13 Cost: 1.498734\n",
            "Epoch    6/20 Batch 1/13 Cost: 23.308104\n",
            "Epoch    6/20 Batch 2/13 Cost: 18.770000\n",
            "Epoch    6/20 Batch 3/13 Cost: 2.959527\n",
            "Epoch    6/20 Batch 4/13 Cost: 11.343084\n",
            "Epoch    6/20 Batch 5/13 Cost: 1.567439\n",
            "Epoch    6/20 Batch 6/13 Cost: 3.858071\n",
            "Epoch    6/20 Batch 7/13 Cost: 23.187286\n",
            "Epoch    6/20 Batch 8/13 Cost: 0.272387\n",
            "Epoch    6/20 Batch 9/13 Cost: 55.425499\n",
            "Epoch    6/20 Batch 10/13 Cost: 18.173609\n",
            "Epoch    6/20 Batch 11/13 Cost: 23.377878\n",
            "Epoch    6/20 Batch 12/13 Cost: 5.922192\n",
            "Epoch    6/20 Batch 13/13 Cost: 0.062645\n",
            "Epoch    7/20 Batch 1/13 Cost: 62.153400\n",
            "Epoch    7/20 Batch 2/13 Cost: 2.026938\n",
            "Epoch    7/20 Batch 3/13 Cost: 14.340282\n",
            "Epoch    7/20 Batch 4/13 Cost: 1.886930\n",
            "Epoch    7/20 Batch 5/13 Cost: 0.052598\n",
            "Epoch    7/20 Batch 6/13 Cost: 28.371515\n",
            "Epoch    7/20 Batch 7/13 Cost: 8.245712\n",
            "Epoch    7/20 Batch 8/13 Cost: 20.351076\n",
            "Epoch    7/20 Batch 9/13 Cost: 1.601244\n",
            "Epoch    7/20 Batch 10/13 Cost: 28.486473\n",
            "Epoch    7/20 Batch 11/13 Cost: 1.392707\n",
            "Epoch    7/20 Batch 12/13 Cost: 3.325358\n",
            "Epoch    7/20 Batch 13/13 Cost: 13.431281\n",
            "Epoch    8/20 Batch 1/13 Cost: 5.736938\n",
            "Epoch    8/20 Batch 2/13 Cost: 6.920456\n",
            "Epoch    8/20 Batch 3/13 Cost: 9.533479\n",
            "Epoch    8/20 Batch 4/13 Cost: 10.111146\n",
            "Epoch    8/20 Batch 5/13 Cost: 8.301110\n",
            "Epoch    8/20 Batch 6/13 Cost: 70.206512\n",
            "Epoch    8/20 Batch 7/13 Cost: 3.424648\n",
            "Epoch    8/20 Batch 8/13 Cost: 9.319286\n",
            "Epoch    8/20 Batch 9/13 Cost: 13.654803\n",
            "Epoch    8/20 Batch 10/13 Cost: 2.347277\n",
            "Epoch    8/20 Batch 11/13 Cost: 26.500969\n",
            "Epoch    8/20 Batch 12/13 Cost: 4.447958\n",
            "Epoch    8/20 Batch 13/13 Cost: 40.844086\n",
            "Epoch    9/20 Batch 1/13 Cost: 11.181169\n",
            "Epoch    9/20 Batch 2/13 Cost: 1.239921\n",
            "Epoch    9/20 Batch 3/13 Cost: 6.619573\n",
            "Epoch    9/20 Batch 4/13 Cost: 8.893440\n",
            "Epoch    9/20 Batch 5/13 Cost: 12.410598\n",
            "Epoch    9/20 Batch 6/13 Cost: 0.732125\n",
            "Epoch    9/20 Batch 7/13 Cost: 13.356792\n",
            "Epoch    9/20 Batch 8/13 Cost: 30.375484\n",
            "Epoch    9/20 Batch 9/13 Cost: 11.923533\n",
            "Epoch    9/20 Batch 10/13 Cost: 58.283661\n",
            "Epoch    9/20 Batch 11/13 Cost: 23.223343\n",
            "Epoch    9/20 Batch 12/13 Cost: 19.789270\n",
            "Epoch    9/20 Batch 13/13 Cost: 3.964739\n",
            "Epoch   10/20 Batch 1/13 Cost: 19.696859\n",
            "Epoch   10/20 Batch 2/13 Cost: 16.372196\n",
            "Epoch   10/20 Batch 3/13 Cost: 12.258375\n",
            "Epoch   10/20 Batch 4/13 Cost: 5.200327\n",
            "Epoch   10/20 Batch 5/13 Cost: 13.542212\n",
            "Epoch   10/20 Batch 6/13 Cost: 6.909127\n",
            "Epoch   10/20 Batch 7/13 Cost: 14.659288\n",
            "Epoch   10/20 Batch 8/13 Cost: 0.226315\n",
            "Epoch   10/20 Batch 9/13 Cost: 56.330147\n",
            "Epoch   10/20 Batch 10/13 Cost: 20.811506\n",
            "Epoch   10/20 Batch 11/13 Cost: 15.372730\n",
            "Epoch   10/20 Batch 12/13 Cost: 0.408933\n",
            "Epoch   10/20 Batch 13/13 Cost: 0.281481\n",
            "Epoch   11/20 Batch 1/13 Cost: 14.180376\n",
            "Epoch   11/20 Batch 2/13 Cost: 2.288492\n",
            "Epoch   11/20 Batch 3/13 Cost: 0.859273\n",
            "Epoch   11/20 Batch 4/13 Cost: 22.685879\n",
            "Epoch   11/20 Batch 5/13 Cost: 2.559162\n",
            "Epoch   11/20 Batch 6/13 Cost: 10.722792\n",
            "Epoch   11/20 Batch 7/13 Cost: 9.788481\n",
            "Epoch   11/20 Batch 8/13 Cost: 4.538595\n",
            "Epoch   11/20 Batch 9/13 Cost: 7.597114\n",
            "Epoch   11/20 Batch 10/13 Cost: 70.042519\n",
            "Epoch   11/20 Batch 11/13 Cost: 2.313761\n",
            "Epoch   11/20 Batch 12/13 Cost: 8.194292\n",
            "Epoch   11/20 Batch 13/13 Cost: 38.791367\n",
            "Epoch   12/20 Batch 1/13 Cost: 29.441866\n",
            "Epoch   12/20 Batch 2/13 Cost: 2.713830\n",
            "Epoch   12/20 Batch 3/13 Cost: 1.709667\n",
            "Epoch   12/20 Batch 4/13 Cost: 22.882092\n",
            "Epoch   12/20 Batch 5/13 Cost: 6.065002\n",
            "Epoch   12/20 Batch 6/13 Cost: 10.913857\n",
            "Epoch   12/20 Batch 7/13 Cost: 12.712126\n",
            "Epoch   12/20 Batch 8/13 Cost: 8.983898\n",
            "Epoch   12/20 Batch 9/13 Cost: 27.804266\n",
            "Epoch   12/20 Batch 10/13 Cost: 1.871191\n",
            "Epoch   12/20 Batch 11/13 Cost: 15.825045\n",
            "Epoch   12/20 Batch 12/13 Cost: 60.555782\n",
            "Epoch   12/20 Batch 13/13 Cost: 7.423330\n",
            "Epoch   13/20 Batch 1/13 Cost: 0.365853\n",
            "Epoch   13/20 Batch 2/13 Cost: 8.359367\n",
            "Epoch   13/20 Batch 3/13 Cost: 2.789723\n",
            "Epoch   13/20 Batch 4/13 Cost: 9.563032\n",
            "Epoch   13/20 Batch 5/13 Cost: 38.259979\n",
            "Epoch   13/20 Batch 6/13 Cost: 8.839364\n",
            "Epoch   13/20 Batch 7/13 Cost: 17.258369\n",
            "Epoch   13/20 Batch 8/13 Cost: 7.576557\n",
            "Epoch   13/20 Batch 9/13 Cost: 0.307487\n",
            "Epoch   13/20 Batch 10/13 Cost: 5.693929\n",
            "Epoch   13/20 Batch 11/13 Cost: 65.591248\n",
            "Epoch   13/20 Batch 12/13 Cost: 19.616859\n",
            "Epoch   13/20 Batch 13/13 Cost: 11.268491\n",
            "Epoch   14/20 Batch 1/13 Cost: 0.445512\n",
            "Epoch   14/20 Batch 2/13 Cost: 3.153246\n",
            "Epoch   14/20 Batch 3/13 Cost: 13.421505\n",
            "Epoch   14/20 Batch 4/13 Cost: 11.645761\n",
            "Epoch   14/20 Batch 5/13 Cost: 60.035175\n",
            "Epoch   14/20 Batch 6/13 Cost: 8.110384\n",
            "Epoch   14/20 Batch 7/13 Cost: 24.027025\n",
            "Epoch   14/20 Batch 8/13 Cost: 1.435910\n",
            "Epoch   14/20 Batch 9/13 Cost: 0.065000\n",
            "Epoch   14/20 Batch 10/13 Cost: 25.929268\n",
            "Epoch   14/20 Batch 11/13 Cost: 3.257046\n",
            "Epoch   14/20 Batch 12/13 Cost: 23.392879\n",
            "Epoch   14/20 Batch 13/13 Cost: 27.283152\n",
            "Epoch   15/20 Batch 1/13 Cost: 63.442577\n",
            "Epoch   15/20 Batch 2/13 Cost: 19.954193\n",
            "Epoch   15/20 Batch 3/13 Cost: 22.011925\n",
            "Epoch   15/20 Batch 4/13 Cost: 1.093396\n",
            "Epoch   15/20 Batch 5/13 Cost: 9.834083\n",
            "Epoch   15/20 Batch 6/13 Cost: 1.029057\n",
            "Epoch   15/20 Batch 7/13 Cost: 23.508667\n",
            "Epoch   15/20 Batch 8/13 Cost: 2.889277\n",
            "Epoch   15/20 Batch 9/13 Cost: 11.807219\n",
            "Epoch   15/20 Batch 10/13 Cost: 8.244576\n",
            "Epoch   15/20 Batch 11/13 Cost: 5.117176\n",
            "Epoch   15/20 Batch 12/13 Cost: 20.579430\n",
            "Epoch   15/20 Batch 13/13 Cost: 0.439966\n",
            "Epoch   16/20 Batch 1/13 Cost: 28.240294\n",
            "Epoch   16/20 Batch 2/13 Cost: 33.901711\n",
            "Epoch   16/20 Batch 3/13 Cost: 1.962975\n",
            "Epoch   16/20 Batch 4/13 Cost: 4.222993\n",
            "Epoch   16/20 Batch 5/13 Cost: 0.942647\n",
            "Epoch   16/20 Batch 6/13 Cost: 0.525809\n",
            "Epoch   16/20 Batch 7/13 Cost: 3.181882\n",
            "Epoch   16/20 Batch 8/13 Cost: 1.960505\n",
            "Epoch   16/20 Batch 9/13 Cost: 51.062695\n",
            "Epoch   16/20 Batch 10/13 Cost: 3.213656\n",
            "Epoch   16/20 Batch 11/13 Cost: 27.672581\n",
            "Epoch   16/20 Batch 12/13 Cost: 6.488356\n",
            "Epoch   16/20 Batch 13/13 Cost: 11.135403\n",
            "Epoch   17/20 Batch 1/13 Cost: 16.586399\n",
            "Epoch   17/20 Batch 2/13 Cost: 0.044006\n",
            "Epoch   17/20 Batch 3/13 Cost: 52.908039\n",
            "Epoch   17/20 Batch 4/13 Cost: 13.149839\n",
            "Epoch   17/20 Batch 5/13 Cost: 0.829993\n",
            "Epoch   17/20 Batch 6/13 Cost: 6.740923\n",
            "Epoch   17/20 Batch 7/13 Cost: 11.654107\n",
            "Epoch   17/20 Batch 8/13 Cost: 22.225784\n",
            "Epoch   17/20 Batch 9/13 Cost: 5.332966\n",
            "Epoch   17/20 Batch 10/13 Cost: 20.641310\n",
            "Epoch   17/20 Batch 11/13 Cost: 20.513725\n",
            "Epoch   17/20 Batch 12/13 Cost: 9.046371\n",
            "Epoch   17/20 Batch 13/13 Cost: 1.364258\n",
            "Epoch   18/20 Batch 1/13 Cost: 31.275331\n",
            "Epoch   18/20 Batch 2/13 Cost: 3.592850\n",
            "Epoch   18/20 Batch 3/13 Cost: 1.240228\n",
            "Epoch   18/20 Batch 4/13 Cost: 0.032547\n",
            "Epoch   18/20 Batch 5/13 Cost: 7.907246\n",
            "Epoch   18/20 Batch 6/13 Cost: 0.351587\n",
            "Epoch   18/20 Batch 7/13 Cost: 19.913111\n",
            "Epoch   18/20 Batch 8/13 Cost: 66.207344\n",
            "Epoch   18/20 Batch 9/13 Cost: 14.313433\n",
            "Epoch   18/20 Batch 10/13 Cost: 28.636875\n",
            "Epoch   18/20 Batch 11/13 Cost: 16.444950\n",
            "Epoch   18/20 Batch 12/13 Cost: 1.927511\n",
            "Epoch   18/20 Batch 13/13 Cost: 1.756062\n",
            "Epoch   19/20 Batch 1/13 Cost: 0.083135\n",
            "Epoch   19/20 Batch 2/13 Cost: 32.166958\n",
            "Epoch   19/20 Batch 3/13 Cost: 12.856862\n",
            "Epoch   19/20 Batch 4/13 Cost: 11.746620\n",
            "Epoch   19/20 Batch 5/13 Cost: 13.499408\n",
            "Epoch   19/20 Batch 6/13 Cost: 3.533533\n",
            "Epoch   19/20 Batch 7/13 Cost: 8.558739\n",
            "Epoch   19/20 Batch 8/13 Cost: 0.388030\n",
            "Epoch   19/20 Batch 9/13 Cost: 29.656046\n",
            "Epoch   19/20 Batch 10/13 Cost: 0.861247\n",
            "Epoch   19/20 Batch 11/13 Cost: 68.626732\n",
            "Epoch   19/20 Batch 12/13 Cost: 18.272173\n",
            "Epoch   19/20 Batch 13/13 Cost: 0.001328\n",
            "Epoch   20/20 Batch 1/13 Cost: 61.909317\n",
            "Epoch   20/20 Batch 2/13 Cost: 32.979919\n",
            "Epoch   20/20 Batch 3/13 Cost: 4.711492\n",
            "Epoch   20/20 Batch 4/13 Cost: 8.111403\n",
            "Epoch   20/20 Batch 5/13 Cost: 4.762432\n",
            "Epoch   20/20 Batch 6/13 Cost: 7.854638\n",
            "Epoch   20/20 Batch 7/13 Cost: 8.187524\n",
            "Epoch   20/20 Batch 8/13 Cost: 0.609236\n",
            "Epoch   20/20 Batch 9/13 Cost: 31.534294\n",
            "Epoch   20/20 Batch 10/13 Cost: 6.512943\n",
            "Epoch   20/20 Batch 11/13 Cost: 7.881567\n",
            "Epoch   20/20 Batch 12/13 Cost: 2.051287\n",
            "Epoch   20/20 Batch 13/13 Cost: 21.506094\n"
          ],
          "name": "stdout"
        }
      ]
    }
  ]
}