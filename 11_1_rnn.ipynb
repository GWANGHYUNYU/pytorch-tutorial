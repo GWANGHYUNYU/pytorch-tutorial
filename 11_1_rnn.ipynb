{
  "nbformat": 4,
  "nbformat_minor": 0,
  "metadata": {
    "colab": {
      "name": "11_1_rnn.ipynb",
      "provenance": [],
      "collapsed_sections": [],
      "authorship_tag": "ABX9TyM1QQcW31KR3lKxCNC+4XNY",
      "include_colab_link": true
    },
    "kernelspec": {
      "name": "python3",
      "display_name": "Python 3"
    },
    "language_info": {
      "name": "python"
    }
  },
  "cells": [
    {
      "cell_type": "markdown",
      "metadata": {
        "id": "view-in-github",
        "colab_type": "text"
      },
      "source": [
        "<a href=\"https://colab.research.google.com/github/GWANGHYUNYU/pytorch-tutorial/blob/master/11_1_rnn.ipynb\" target=\"_parent\"><img src=\"https://colab.research.google.com/assets/colab-badge.svg\" alt=\"Open In Colab\"/></a>"
      ]
    },
    {
      "cell_type": "code",
      "metadata": {
        "id": "ceBKV7NtD2wg"
      },
      "source": [
        "import torch\n",
        "import torch.optim as optim\n",
        "import numpy as np"
      ],
      "execution_count": null,
      "outputs": []
    },
    {
      "cell_type": "code",
      "metadata": {
        "colab": {
          "base_uri": "https://localhost:8080/"
        },
        "id": "6oZ-l9XhG9PE",
        "outputId": "5f26003b-09a4-4d00-ab6b-eaa39a988ae0"
      },
      "source": [
        "# Random seed to make results deterministic and reproducible\n",
        "torch.manual_seed(0)"
      ],
      "execution_count": null,
      "outputs": [
        {
          "output_type": "execute_result",
          "data": {
            "text/plain": [
              "<torch._C.Generator at 0x7f7ee5f717b0>"
            ]
          },
          "metadata": {
            "tags": []
          },
          "execution_count": 2
        }
      ]
    },
    {
      "cell_type": "code",
      "metadata": {
        "id": "Rj2ABekiG_Xu"
      },
      "source": [
        "sample = \" if you want you\""
      ],
      "execution_count": null,
      "outputs": []
    },
    {
      "cell_type": "code",
      "metadata": {
        "colab": {
          "base_uri": "https://localhost:8080/"
        },
        "id": "qL7sUNRyHFtN",
        "outputId": "22b0b582-d2fc-4c39-8096-82be121d4254"
      },
      "source": [
        "# make dictionary\n",
        "char_set = list(set(sample))\n",
        "char_dic = {c: i for i, c in enumerate(char_set)}\n",
        "\n",
        "char_dic_ = {}\n",
        "for i, c in enumerate(char_set):\n",
        "    # print(c, i)\n",
        "    char_dic_[c] = i\n",
        "\n",
        "print(char_dic)\n",
        "print(char_dic_)"
      ],
      "execution_count": null,
      "outputs": [
        {
          "output_type": "stream",
          "text": [
            "{'n': 0, 'u': 1, 'o': 2, ' ': 3, 'w': 4, 'f': 5, 'i': 6, 'y': 7, 'a': 8, 't': 9}\n",
            "{'n': 0, 'u': 1, 'o': 2, ' ': 3, 'w': 4, 'f': 5, 'i': 6, 'y': 7, 'a': 8, 't': 9}\n"
          ],
          "name": "stdout"
        }
      ]
    },
    {
      "cell_type": "code",
      "metadata": {
        "colab": {
          "base_uri": "https://localhost:8080/"
        },
        "id": "XE-BLUUkKXO0",
        "outputId": "6f54e87f-8900-4d56-8c2d-a888f0e04a5c"
      },
      "source": [
        "# hyper parameters\n",
        "dic_size = len(char_dic)    #dic_size = 10\n",
        "hidden_size = len(char_dic)\n",
        "learning_rate = 0.1"
      ],
      "execution_count": null,
      "outputs": [
        {
          "output_type": "stream",
          "text": [
            "10\n"
          ],
          "name": "stdout"
        }
      ]
    },
    {
      "cell_type": "code",
      "metadata": {
        "id": "ZZIIr1fJKaOU"
      },
      "source": [
        "# data setting\n",
        "\n",
        "# shape : (1, 1, 10)\n",
        "# input_data_np = np.array([[[1., 0., 0., 0., 0., 0., 0., 0., 0., 0.]]])\n",
        "\n",
        "# sequential example\n",
        "# shape : (1, 15, 10)\n",
        "sample_idx = [char_dic[c] for c in sample]\n",
        "# print(sample_idx)\n",
        "x_data = [sample_idx[:-1]]\n",
        "# print(x_data)\n",
        "x_one_hot = [np.eye(dic_size)[x] for x in x_data]\n",
        "# print(x_one_hot)\n",
        "y_data = [sample_idx[1:]]\n",
        "# print(y_data)"
      ],
      "execution_count": null,
      "outputs": []
    },
    {
      "cell_type": "code",
      "metadata": {
        "id": "soodFavULMB1"
      },
      "source": [
        "# transform as torch tensor variable\n",
        "X = torch.FloatTensor(x_one_hot)\n",
        "Y = torch.LongTensor(y_data)"
      ],
      "execution_count": null,
      "outputs": []
    },
    {
      "cell_type": "code",
      "metadata": {
        "colab": {
          "base_uri": "https://localhost:8080/"
        },
        "id": "r2M6-wT3LOSU",
        "outputId": "0e88cae0-34b8-4556-9b32-7b924acead7b"
      },
      "source": [
        "print(X.size(), Y.size())"
      ],
      "execution_count": null,
      "outputs": [
        {
          "output_type": "stream",
          "text": [
            "torch.Size([1, 15, 10]) torch.Size([1, 15])\n"
          ],
          "name": "stdout"
        }
      ]
    },
    {
      "cell_type": "code",
      "metadata": {
        "id": "EY2wTRnhLY8s"
      },
      "source": [
        "# declare RNN\n",
        "rnn = torch.nn.RNN(dic_size, hidden_size, batch_first=True)"
      ],
      "execution_count": null,
      "outputs": []
    },
    {
      "cell_type": "code",
      "metadata": {
        "colab": {
          "base_uri": "https://localhost:8080/"
        },
        "id": "6FXMFkFdL38L",
        "outputId": "e841dc11-f925-480f-f70c-1ac32ee6a3f1"
      },
      "source": [
        "outputs, _status = rnn(X)\n",
        "print(outputs)\n",
        "print(outputs.size())\n",
        "print(_status)\n",
        "print(_status.size())\n",
        "print(outputs.view(-1, dic_size).size())\n",
        "print(Y.view(-1).size())"
      ],
      "execution_count": null,
      "outputs": [
        {
          "output_type": "stream",
          "text": [
            "tensor([[[ 0.1949,  0.0758,  0.1177, -0.2268, -0.2964, -0.0616,  0.0544,\n",
            "           0.4081, -0.5592, -0.2159],\n",
            "         [-0.1768, -0.2266,  0.1294, -0.5625, -0.4528, -0.3889, -0.0956,\n",
            "           0.2468,  0.1589, -0.0476],\n",
            "         [ 0.2048,  0.4284,  0.4860, -0.5623, -0.1085,  0.0095, -0.3655,\n",
            "           0.6144, -0.3639, -0.1494],\n",
            "         [ 0.3145,  0.0472, -0.2586, -0.2503, -0.6024, -0.3639, -0.3814,\n",
            "           0.3658, -0.3287, -0.1919],\n",
            "         [ 0.0307, -0.1674, -0.0536, -0.1262, -0.3092, -0.1150, -0.0374,\n",
            "           0.2127, -0.3411, -0.1858],\n",
            "         [-0.1224,  0.1791,  0.3344, -0.1846, -0.6452,  0.1956,  0.0907,\n",
            "           0.3319, -0.1764, -0.2432],\n",
            "         [-0.3206,  0.0967,  0.2590, -0.0150, -0.6899, -0.1051,  0.0336,\n",
            "           0.6488, -0.2410,  0.1707],\n",
            "         [ 0.2606,  0.0933,  0.2038, -0.4658, -0.2755, -0.1052,  0.1194,\n",
            "           0.3454, -0.3846, -0.4120],\n",
            "         [-0.4113, -0.3558,  0.1094, -0.2269, -0.6478, -0.0263, -0.0363,\n",
            "           0.5171, -0.2526, -0.2382],\n",
            "         [ 0.0050, -0.1524,  0.2581, -0.6400, -0.3987,  0.3658, -0.1092,\n",
            "           0.6379, -0.2608, -0.3611],\n",
            "         [-0.2189,  0.2930, -0.0065, -0.1866, -0.7224, -0.0989, -0.6144,\n",
            "           0.5625, -0.1586,  0.1104],\n",
            "         [-0.0792, -0.2286,  0.3458, -0.1033, -0.5297,  0.4829, -0.1075,\n",
            "           0.2539, -0.4210, -0.0423],\n",
            "         [ 0.3368,  0.1549,  0.2600, -0.2887, -0.4645, -0.1639,  0.0107,\n",
            "           0.5007, -0.5426, -0.2812],\n",
            "         [-0.0237, -0.1156, -0.2105, -0.2263, -0.5163, -0.3941, -0.1460,\n",
            "           0.3873, -0.1645, -0.1719],\n",
            "         [-0.1545,  0.1766,  0.3441, -0.2322, -0.5562,  0.2653,  0.1001,\n",
            "           0.2402, -0.1462, -0.3402]]], grad_fn=<TransposeBackward1>)\n",
            "torch.Size([1, 15, 10])\n",
            "tensor([[[-0.1545,  0.1766,  0.3441, -0.2322, -0.5562,  0.2653,  0.1001,\n",
            "           0.2402, -0.1462, -0.3402]]], grad_fn=<StackBackward>)\n",
            "torch.Size([1, 1, 10])\n",
            "torch.Size([15, 10])\n",
            "torch.Size([15])\n"
          ],
          "name": "stdout"
        }
      ]
    },
    {
      "cell_type": "code",
      "metadata": {
        "id": "MZpibgksLb8s"
      },
      "source": [
        "# loss & optimizer setting\n",
        "criterion = torch.nn.CrossEntropyLoss()\n",
        "optimizer = optim.Adam(rnn.parameters(), learning_rate)"
      ],
      "execution_count": null,
      "outputs": []
    },
    {
      "cell_type": "code",
      "metadata": {
        "colab": {
          "base_uri": "https://localhost:8080/"
        },
        "id": "5XSRFV1HLfNs",
        "outputId": "7033b97a-04c5-47f1-c8d4-fd1421a57bd7"
      },
      "source": [
        "# start training\n",
        "for i in range(50):\n",
        "\n",
        "    outputs, _status = rnn(X)\n",
        "    loss = criterion(outputs.view(-1, dic_size), Y.view(-1))\n",
        "    \n",
        "    optimizer.zero_grad()\n",
        "    loss.backward()\n",
        "    optimizer.step()\n",
        "\n",
        "    result = outputs.data.numpy().argmax(axis=2)\n",
        "    result_str = ''.join([char_set[c] for c in np.squeeze(result)])\n",
        "    print(i, \"loss: \", loss.item(), \"prediction: \", result, \"true Y: \", y_data, \"prediction str: \", result_str)"
      ],
      "execution_count": null,
      "outputs": [
        {
          "output_type": "stream",
          "text": [
            "0 loss:  2.3031198978424072 prediction:  [[7 7 7 7 7 2 7 7 7 7 7 5 7 7 2]] true Y:  [[6, 5, 3, 7, 2, 1, 3, 4, 8, 0, 9, 3, 7, 2, 1]] prediction str:  yyyyyoyyyyyfyyo\n",
            "1 loss:  1.9755443334579468 prediction:  [[7 2 2 7 2 1 3 1 8 2 9 2 7 2 1]] true Y:  [[6, 5, 3, 7, 2, 1, 3, 4, 8, 0, 9, 3, 7, 2, 1]] prediction str:  yooyou uaotoyou\n",
            "2 loss:  1.7143094539642334 prediction:  [[7 1 2 7 2 1 3 4 8 3 9 3 7 2 1]] true Y:  [[6, 5, 3, 7, 2, 1, 3, 4, 8, 0, 9, 3, 7, 2, 1]] prediction str:  yuoyou wa t you\n",
            "3 loss:  1.5392426252365112 prediction:  [[7 9 3 7 2 1 3 4 8 3 9 3 7 2 1]] true Y:  [[6, 5, 3, 7, 2, 1, 3, 4, 8, 0, 9, 3, 7, 2, 1]] prediction str:  yt you wa t you\n",
            "4 loss:  1.4273772239685059 prediction:  [[7 5 3 7 2 1 3 4 8 3 9 3 7 2 1]] true Y:  [[6, 5, 3, 7, 2, 1, 3, 4, 8, 0, 9, 3, 7, 2, 1]] prediction str:  yf you wa t you\n",
            "5 loss:  1.318697214126587 prediction:  [[7 5 3 7 2 1 3 4 8 3 9 3 7 2 1]] true Y:  [[6, 5, 3, 7, 2, 1, 3, 4, 8, 0, 9, 3, 7, 2, 1]] prediction str:  yf you wa t you\n",
            "6 loss:  1.239377737045288 prediction:  [[7 5 3 7 2 1 3 4 8 3 9 3 7 2 1]] true Y:  [[6, 5, 3, 7, 2, 1, 3, 4, 8, 0, 9, 3, 7, 2, 1]] prediction str:  yf you wa t you\n",
            "7 loss:  1.1843199729919434 prediction:  [[7 5 3 7 2 1 3 4 8 3 9 3 7 2 1]] true Y:  [[6, 5, 3, 7, 2, 1, 3, 4, 8, 0, 9, 3, 7, 2, 1]] prediction str:  yf you wa t you\n",
            "8 loss:  1.1240508556365967 prediction:  [[7 5 3 7 2 1 3 4 8 3 9 3 7 2 1]] true Y:  [[6, 5, 3, 7, 2, 1, 3, 4, 8, 0, 9, 3, 7, 2, 1]] prediction str:  yf you wa t you\n",
            "9 loss:  1.0905157327651978 prediction:  [[7 5 3 7 2 1 3 4 8 3 9 3 7 2 1]] true Y:  [[6, 5, 3, 7, 2, 1, 3, 4, 8, 0, 9, 3, 7, 2, 1]] prediction str:  yf you wa t you\n",
            "10 loss:  1.0518743991851807 prediction:  [[7 5 3 7 2 1 3 4 8 3 9 3 7 2 1]] true Y:  [[6, 5, 3, 7, 2, 1, 3, 4, 8, 0, 9, 3, 7, 2, 1]] prediction str:  yf you wa t you\n",
            "11 loss:  1.03632390499115 prediction:  [[7 5 3 7 2 1 3 4 8 3 9 3 7 2 1]] true Y:  [[6, 5, 3, 7, 2, 1, 3, 4, 8, 0, 9, 3, 7, 2, 1]] prediction str:  yf you wa t you\n",
            "12 loss:  1.0091097354888916 prediction:  [[6 5 3 7 2 1 3 4 8 3 9 3 7 2 1]] true Y:  [[6, 5, 3, 7, 2, 1, 3, 4, 8, 0, 9, 3, 7, 2, 1]] prediction str:  if you wa t you\n",
            "13 loss:  0.9889474511146545 prediction:  [[6 5 3 7 2 1 3 4 8 0 9 3 7 2 1]] true Y:  [[6, 5, 3, 7, 2, 1, 3, 4, 8, 0, 9, 3, 7, 2, 1]] prediction str:  if you want you\n",
            "14 loss:  0.9769733548164368 prediction:  [[6 5 3 7 2 1 3 4 8 0 9 3 7 2 1]] true Y:  [[6, 5, 3, 7, 2, 1, 3, 4, 8, 0, 9, 3, 7, 2, 1]] prediction str:  if you want you\n",
            "15 loss:  0.958217442035675 prediction:  [[6 5 3 7 2 1 3 4 8 0 9 3 7 2 1]] true Y:  [[6, 5, 3, 7, 2, 1, 3, 4, 8, 0, 9, 3, 7, 2, 1]] prediction str:  if you want you\n",
            "16 loss:  0.9346122145652771 prediction:  [[6 5 3 7 2 1 3 4 8 0 9 3 7 2 1]] true Y:  [[6, 5, 3, 7, 2, 1, 3, 4, 8, 0, 9, 3, 7, 2, 1]] prediction str:  if you want you\n",
            "17 loss:  0.9241092205047607 prediction:  [[6 5 3 7 2 1 3 4 8 0 9 3 7 2 1]] true Y:  [[6, 5, 3, 7, 2, 1, 3, 4, 8, 0, 9, 3, 7, 2, 1]] prediction str:  if you want you\n",
            "18 loss:  0.9128236174583435 prediction:  [[6 5 3 7 2 1 3 4 8 0 9 3 7 2 1]] true Y:  [[6, 5, 3, 7, 2, 1, 3, 4, 8, 0, 9, 3, 7, 2, 1]] prediction str:  if you want you\n",
            "19 loss:  0.8991459012031555 prediction:  [[6 5 3 7 2 1 3 4 8 0 9 3 7 2 1]] true Y:  [[6, 5, 3, 7, 2, 1, 3, 4, 8, 0, 9, 3, 7, 2, 1]] prediction str:  if you want you\n",
            "20 loss:  0.8930690288543701 prediction:  [[6 5 3 7 2 1 3 4 8 0 9 3 7 2 1]] true Y:  [[6, 5, 3, 7, 2, 1, 3, 4, 8, 0, 9, 3, 7, 2, 1]] prediction str:  if you want you\n",
            "21 loss:  0.8876168727874756 prediction:  [[6 5 3 7 2 1 3 4 8 0 9 3 7 2 1]] true Y:  [[6, 5, 3, 7, 2, 1, 3, 4, 8, 0, 9, 3, 7, 2, 1]] prediction str:  if you want you\n",
            "22 loss:  0.8803192973136902 prediction:  [[6 5 3 7 2 1 3 4 8 0 9 3 7 2 1]] true Y:  [[6, 5, 3, 7, 2, 1, 3, 4, 8, 0, 9, 3, 7, 2, 1]] prediction str:  if you want you\n",
            "23 loss:  0.8733896613121033 prediction:  [[6 5 3 7 2 1 3 4 8 0 9 3 7 2 1]] true Y:  [[6, 5, 3, 7, 2, 1, 3, 4, 8, 0, 9, 3, 7, 2, 1]] prediction str:  if you want you\n",
            "24 loss:  0.8681018352508545 prediction:  [[6 5 3 7 2 1 3 4 8 0 9 3 7 2 1]] true Y:  [[6, 5, 3, 7, 2, 1, 3, 4, 8, 0, 9, 3, 7, 2, 1]] prediction str:  if you want you\n",
            "25 loss:  0.8648175597190857 prediction:  [[6 5 3 7 2 1 3 4 8 0 9 3 7 2 1]] true Y:  [[6, 5, 3, 7, 2, 1, 3, 4, 8, 0, 9, 3, 7, 2, 1]] prediction str:  if you want you\n",
            "26 loss:  0.8621273040771484 prediction:  [[6 5 3 7 2 1 3 4 8 0 9 3 7 2 1]] true Y:  [[6, 5, 3, 7, 2, 1, 3, 4, 8, 0, 9, 3, 7, 2, 1]] prediction str:  if you want you\n",
            "27 loss:  0.8579688668251038 prediction:  [[6 5 3 7 2 1 3 4 8 0 9 3 7 2 1]] true Y:  [[6, 5, 3, 7, 2, 1, 3, 4, 8, 0, 9, 3, 7, 2, 1]] prediction str:  if you want you\n",
            "28 loss:  0.8536354899406433 prediction:  [[6 5 3 7 2 1 3 4 8 0 9 3 7 2 1]] true Y:  [[6, 5, 3, 7, 2, 1, 3, 4, 8, 0, 9, 3, 7, 2, 1]] prediction str:  if you want you\n",
            "29 loss:  0.8504868745803833 prediction:  [[6 5 3 7 2 1 3 4 8 0 9 3 7 2 1]] true Y:  [[6, 5, 3, 7, 2, 1, 3, 4, 8, 0, 9, 3, 7, 2, 1]] prediction str:  if you want you\n",
            "30 loss:  0.8481385111808777 prediction:  [[6 5 3 7 2 1 3 4 8 0 9 3 7 2 1]] true Y:  [[6, 5, 3, 7, 2, 1, 3, 4, 8, 0, 9, 3, 7, 2, 1]] prediction str:  if you want you\n",
            "31 loss:  0.8459281325340271 prediction:  [[6 5 3 7 2 1 3 4 8 0 9 3 7 2 1]] true Y:  [[6, 5, 3, 7, 2, 1, 3, 4, 8, 0, 9, 3, 7, 2, 1]] prediction str:  if you want you\n",
            "32 loss:  0.8437607884407043 prediction:  [[6 5 3 7 2 1 3 4 8 0 9 3 7 2 1]] true Y:  [[6, 5, 3, 7, 2, 1, 3, 4, 8, 0, 9, 3, 7, 2, 1]] prediction str:  if you want you\n",
            "33 loss:  0.8417901396751404 prediction:  [[6 5 3 7 2 1 3 4 8 0 9 3 7 2 1]] true Y:  [[6, 5, 3, 7, 2, 1, 3, 4, 8, 0, 9, 3, 7, 2, 1]] prediction str:  if you want you\n",
            "34 loss:  0.8399644494056702 prediction:  [[6 5 3 7 2 1 3 4 8 0 9 3 7 2 1]] true Y:  [[6, 5, 3, 7, 2, 1, 3, 4, 8, 0, 9, 3, 7, 2, 1]] prediction str:  if you want you\n",
            "35 loss:  0.8382864594459534 prediction:  [[6 5 3 7 2 1 3 4 8 0 9 3 7 2 1]] true Y:  [[6, 5, 3, 7, 2, 1, 3, 4, 8, 0, 9, 3, 7, 2, 1]] prediction str:  if you want you\n",
            "36 loss:  0.8368504643440247 prediction:  [[6 5 3 7 2 1 3 4 8 0 9 3 7 2 1]] true Y:  [[6, 5, 3, 7, 2, 1, 3, 4, 8, 0, 9, 3, 7, 2, 1]] prediction str:  if you want you\n",
            "37 loss:  0.8354165554046631 prediction:  [[6 5 3 7 2 1 3 4 8 0 9 3 7 2 1]] true Y:  [[6, 5, 3, 7, 2, 1, 3, 4, 8, 0, 9, 3, 7, 2, 1]] prediction str:  if you want you\n",
            "38 loss:  0.8339900970458984 prediction:  [[6 5 3 7 2 1 3 4 8 0 9 3 7 2 1]] true Y:  [[6, 5, 3, 7, 2, 1, 3, 4, 8, 0, 9, 3, 7, 2, 1]] prediction str:  if you want you\n",
            "39 loss:  0.8328894972801208 prediction:  [[6 5 3 7 2 1 3 4 8 0 9 3 7 2 1]] true Y:  [[6, 5, 3, 7, 2, 1, 3, 4, 8, 0, 9, 3, 7, 2, 1]] prediction str:  if you want you\n",
            "40 loss:  0.8319143652915955 prediction:  [[6 5 3 7 2 1 3 4 8 0 9 3 7 2 1]] true Y:  [[6, 5, 3, 7, 2, 1, 3, 4, 8, 0, 9, 3, 7, 2, 1]] prediction str:  if you want you\n",
            "41 loss:  0.830792248249054 prediction:  [[6 5 3 7 2 1 3 4 8 0 9 3 7 2 1]] true Y:  [[6, 5, 3, 7, 2, 1, 3, 4, 8, 0, 9, 3, 7, 2, 1]] prediction str:  if you want you\n",
            "42 loss:  0.8296474814414978 prediction:  [[6 5 3 7 2 1 3 4 8 0 9 3 7 2 1]] true Y:  [[6, 5, 3, 7, 2, 1, 3, 4, 8, 0, 9, 3, 7, 2, 1]] prediction str:  if you want you\n",
            "43 loss:  0.8286982178688049 prediction:  [[6 5 3 7 2 1 3 4 8 0 9 3 7 2 1]] true Y:  [[6, 5, 3, 7, 2, 1, 3, 4, 8, 0, 9, 3, 7, 2, 1]] prediction str:  if you want you\n",
            "44 loss:  0.827920138835907 prediction:  [[6 5 3 7 2 1 3 4 8 0 9 3 7 2 1]] true Y:  [[6, 5, 3, 7, 2, 1, 3, 4, 8, 0, 9, 3, 7, 2, 1]] prediction str:  if you want you\n",
            "45 loss:  0.8271780014038086 prediction:  [[6 5 3 7 2 1 3 4 8 0 9 3 7 2 1]] true Y:  [[6, 5, 3, 7, 2, 1, 3, 4, 8, 0, 9, 3, 7, 2, 1]] prediction str:  if you want you\n",
            "46 loss:  0.8264039158821106 prediction:  [[6 5 3 7 2 1 3 4 8 0 9 3 7 2 1]] true Y:  [[6, 5, 3, 7, 2, 1, 3, 4, 8, 0, 9, 3, 7, 2, 1]] prediction str:  if you want you\n",
            "47 loss:  0.82565838098526 prediction:  [[6 5 3 7 2 1 3 4 8 0 9 3 7 2 1]] true Y:  [[6, 5, 3, 7, 2, 1, 3, 4, 8, 0, 9, 3, 7, 2, 1]] prediction str:  if you want you\n",
            "48 loss:  0.8250229358673096 prediction:  [[6 5 3 7 2 1 3 4 8 0 9 3 7 2 1]] true Y:  [[6, 5, 3, 7, 2, 1, 3, 4, 8, 0, 9, 3, 7, 2, 1]] prediction str:  if you want you\n",
            "49 loss:  0.8244422078132629 prediction:  [[6 5 3 7 2 1 3 4 8 0 9 3 7 2 1]] true Y:  [[6, 5, 3, 7, 2, 1, 3, 4, 8, 0, 9, 3, 7, 2, 1]] prediction str:  if you want you\n"
          ],
          "name": "stdout"
        }
      ]
    }
  ]
}