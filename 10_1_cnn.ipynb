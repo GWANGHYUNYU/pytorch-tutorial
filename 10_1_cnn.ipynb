{
  "nbformat": 4,
  "nbformat_minor": 0,
  "metadata": {
    "colab": {
      "name": "10_1_cnn.ipynb",
      "provenance": [],
      "collapsed_sections": [],
      "authorship_tag": "ABX9TyOD2tnX5hnfSqcSN4ofXeZl",
      "include_colab_link": true
    },
    "kernelspec": {
      "name": "python3",
      "display_name": "Python 3"
    },
    "language_info": {
      "name": "python"
    }
  },
  "cells": [
    {
      "cell_type": "markdown",
      "metadata": {
        "id": "view-in-github",
        "colab_type": "text"
      },
      "source": [
        "<a href=\"https://colab.research.google.com/github/GWANGHYUNYU/pytorch-tutorial/blob/master/10_1_cnn.ipynb\" target=\"_parent\"><img src=\"https://colab.research.google.com/assets/colab-badge.svg\" alt=\"Open In Colab\"/></a>"
      ]
    },
    {
      "cell_type": "code",
      "metadata": {
        "id": "5DKEtQLX5HV1"
      },
      "source": [
        "# Lab 11 MNIST and Convolutional Neural Network\n",
        "import torch\n",
        "import torchvision\n",
        "import torchvision.transforms as transforms\n",
        "import torch.nn.init\n",
        "import torch.nn.functional as F\n",
        "\n",
        "import matplotlib.pyplot as plt\n",
        "import numpy as np\n",
        "from tqdm import tqdm\n",
        "import os"
      ],
      "execution_count": 128,
      "outputs": []
    },
    {
      "cell_type": "code",
      "metadata": {
        "id": "U2P12r_Y7_Mb"
      },
      "source": [
        "device = 'cuda' if torch.cuda.is_available() else 'cpu'\n",
        "\n",
        "# for reproducibility\n",
        "torch.manual_seed(777)\n",
        "if device == 'cuda':\n",
        "    torch.cuda.manual_seed_all(777)"
      ],
      "execution_count": 37,
      "outputs": []
    },
    {
      "cell_type": "code",
      "metadata": {
        "id": "9QF0rOCF8Af1"
      },
      "source": [
        "# parameters\n",
        "learning_rate = 0.001\n",
        "training_epochs = 15\n",
        "batch_size = 8"
      ],
      "execution_count": 81,
      "outputs": []
    },
    {
      "cell_type": "code",
      "metadata": {
        "id": "E_XnPp5O9ooD"
      },
      "source": [
        "transform = transforms.Compose(\n",
        "    [transforms.ToTensor(),\n",
        "     transforms.Normalize((0.5, 0.5, 0.5), (0.5, 0.5, 0.5))])"
      ],
      "execution_count": 82,
      "outputs": []
    },
    {
      "cell_type": "code",
      "metadata": {
        "colab": {
          "base_uri": "https://localhost:8080/"
        },
        "id": "Y0_HgeC78keD",
        "outputId": "530855aa-d9a4-4fdf-f3db-587efda8a7fe"
      },
      "source": [
        "trainset = torchvision.datasets.CIFAR10(root='./cifar10', train=True,\n",
        "                                        download=True, transform=transform)\n",
        "\n",
        "testset = torchvision.datasets.CIFAR10(root='./cifar10', train=False,\n",
        "                                       download=True, transform=transform)"
      ],
      "execution_count": 83,
      "outputs": [
        {
          "output_type": "stream",
          "text": [
            "Files already downloaded and verified\n",
            "Files already downloaded and verified\n"
          ],
          "name": "stdout"
        }
      ]
    },
    {
      "cell_type": "code",
      "metadata": {
        "id": "uY032YLh9jKb"
      },
      "source": [
        "Train_dataloader = torch.utils.data.DataLoader(trainset, batch_size=batch_size,\n",
        "                                          shuffle=True, num_workers=0)\n",
        "Test_dataloader = torch.utils.data.DataLoader(testset, batch_size=batch_size,\n",
        "                                         shuffle=False, num_workers=0)"
      ],
      "execution_count": 84,
      "outputs": []
    },
    {
      "cell_type": "code",
      "metadata": {
        "id": "XVdqbsPc9l6b"
      },
      "source": [
        "classes = ('plane', 'car', 'bird', 'cat', 'deer', 'dog', 'frog', 'horse', 'ship', 'truck')"
      ],
      "execution_count": 85,
      "outputs": []
    },
    {
      "cell_type": "code",
      "metadata": {
        "id": "4UuPD8HZ-P0D"
      },
      "source": [
        "dataiter = iter(Test_dataloader)\n",
        "images, labels = dataiter.next()"
      ],
      "execution_count": 86,
      "outputs": []
    },
    {
      "cell_type": "code",
      "metadata": {
        "colab": {
          "base_uri": "https://localhost:8080/",
          "height": 102
        },
        "id": "NS6FA1pLC2Lk",
        "outputId": "9645fbcb-c775-4b23-ffde-202d809a33c6"
      },
      "source": [
        "plt.figure(figsize=(5,5))\n",
        "plt.axis(\"off\")\n",
        "plt.title(\"CIFAR10 Images\")\n",
        "plt.imshow(np.transpose(torchvision.utils.make_grid(images, padding=2, normalize=True),(1,2,0)))"
      ],
      "execution_count": 94,
      "outputs": [
        {
          "output_type": "execute_result",
          "data": {
            "text/plain": [
              "<matplotlib.image.AxesImage at 0x7f64ec7c6fd0>"
            ]
          },
          "metadata": {
            "tags": []
          },
          "execution_count": 94
        },
        {
          "output_type": "display_data",
          "data": {
            "image/png": "[encoded data removed]",
            "text/plain": [
              "<Figure size 360x360 with 1 Axes>"
            ]
          },
          "metadata": {
            "tags": [],
            "needs_background": "light"
          }
        }
      ]
    },
    {
      "cell_type": "code",
      "metadata": {
        "id": "BMsSbR0YCZ5m"
      },
      "source": [
        "def imshow(img, labels):\n",
        "    # xlabels = []\n",
        "    # for i in range(len(labels)):\n",
        "    #     xlabels.append(classes[labels[i]])\n",
        "    img = img / 2 + 0.5     # unnormalize\n",
        "    npimg = img.numpy()\n",
        "    row, _, __, ___ = img.size()\n",
        "    for i in range(len(npimg)):\n",
        "        plt.subplot(1,row,i+1)\n",
        "        plt.imshow(np.transpose(npimg[i], (1, 2, 0)))\n",
        "        plt.title(classes[labels[i]])  # 제목 추가\n",
        "        plt.axis(\"off\")  # 축 제거\n",
        "    plt.show()"
      ],
      "execution_count": 95,
      "outputs": []
    },
    {
      "cell_type": "code",
      "metadata": {
        "colab": {
          "base_uri": "https://localhost:8080/",
          "height": 83
        },
        "id": "Vm2UBcHvCbkC",
        "outputId": "6a85a134-ceb4-4644-da4a-ef52f786a3aa"
      },
      "source": [
        "imshow(images, labels)"
      ],
      "execution_count": 96,
      "outputs": [
        {
          "output_type": "display_data",
          "data": {
            "image/png": "[encoded data removed]",
            "text/plain": [
              "<Figure size 432x288 with 8 Axes>"
            ]
          },
          "metadata": {
            "tags": [],
            "needs_background": "light"
          }
        }
      ]
    },
    {
      "cell_type": "code",
      "metadata": {
        "id": "I-25EAN0EUlC"
      },
      "source": [
        "class CNN_basic_style(torch.nn.Module):\n",
        "    def __init__(self, num_classes=10, init_weights=True):\n",
        "        super(CNN_basic_style, self).__init__()\n",
        "        self.conv1 = torch.nn.Conv2d(3, 32, kernel_size=3, stride=1, padding=1)\n",
        "        self.conv2 = torch.nn.Conv2d(32, 64, kernel_size=3, stride=1, padding=1)\n",
        "        self.fc1 = torch.nn.Linear(64 * 8 * 8, num_classes)\n",
        "        self.pool = torch.nn.MaxPool2d(kernel_size=2)\n",
        "\n",
        "    def forward(self, x):\n",
        "        # print(\"연산 전\", x.size())\n",
        "        x = F.relu(self.conv1(x))\n",
        "        # print(\"conv1 연산 후\", x.size())\n",
        "        x = self.pool(x)\n",
        "        # print(\"max_pool 연산 후\", x.size())\n",
        "        x = F.relu(self.conv2(x))\n",
        "        # print(\"conv2 연산 후\", x.size())\n",
        "        x = self.pool(x)\n",
        "        # print(\"max_pool 연산 후\", x.size())\n",
        "        x = x.view(-1, 64 * 8 * 8)\n",
        "        x = F.relu(self.fc1(x))\n",
        "        # print(\"fc1 연산 후\", x.size())\n",
        "        return x\n",
        "\n",
        "    def _initialize_weights(self):\n",
        "        for m in self.modules():\n",
        "            if isinstance(m, nn.Conv2d):\n",
        "                nn.init.kaiming_normal_(m.weight, mode='fan_out', nonlinearity='relu')\n",
        "                if m.bias is not None:\n",
        "                    nn.init.constant_(m.bias, 0)\n",
        "            elif isinstance(m, nn.BatchNorm2d):\n",
        "                nn.init.constant_(m.weight, 1)\n",
        "                nn.init.constant_(m.bias, 0)\n",
        "            elif isinstance(m, nn.Linear):\n",
        "                nn.init.normal_(m.weight, 0, 0.01)\n",
        "                nn.init.constant_(m.bias, 0)"
      ],
      "execution_count": 136,
      "outputs": []
    },
    {
      "cell_type": "code",
      "metadata": {
        "id": "_aXmel4RHtuE"
      },
      "source": [
        "net = CNN_basic_style()\n",
        "output = net(images).to(device)"
      ],
      "execution_count": 137,
      "outputs": []
    },
    {
      "cell_type": "code",
      "metadata": {
        "id": "viDKBktY91f7"
      },
      "source": [
        "# CNN Model (2 conv layers)\n",
        "class CNN_Sequential_style(torch.nn.Module):\n",
        "\n",
        "    def __init__(self):\n",
        "        super(CNN_Sequential_style, self).__init__()\n",
        "        # L1 ImgIn shape=(?, 32, 32, 3)\n",
        "        #    Conv     -> (?, 32, 32, 32)\n",
        "        #    Pool     -> (?, 16, 16, 32)\n",
        "        self.layer1 = torch.nn.Sequential(\n",
        "            torch.nn.Conv2d(3, 32, kernel_size=3, stride=1, padding=1),\n",
        "            torch.nn.ReLU(),\n",
        "            torch.nn.MaxPool2d(kernel_size=2, stride=2))\n",
        "        # L2 ImgIn shape=(?, 16, 16, 32)\n",
        "        #    Conv      ->(?, 16, 16, 64)\n",
        "        #    Pool      ->(?, 8, 8, 64)\n",
        "        self.layer2 = torch.nn.Sequential(\n",
        "            torch.nn.Conv2d(32, 64, kernel_size=3, stride=1, padding=1),\n",
        "            torch.nn.ReLU(),\n",
        "            torch.nn.MaxPool2d(kernel_size=2, stride=2))\n",
        "        # Final FC 8x8x64 inputs -> 10 outputs\n",
        "        self.fc = torch.nn.Linear(8 * 8 * 64, 10, bias=True)\n",
        "        torch.nn.init.xavier_uniform_(self.fc.weight)\n",
        "\n",
        "    def forward(self, x):\n",
        "        out = self.layer1(x)\n",
        "        out = self.layer2(out)\n",
        "        out = out.view(out.size(0), -1)   # Flatten them for FC\n",
        "        out = self.fc(out)\n",
        "        return out"
      ],
      "execution_count": 112,
      "outputs": []
    },
    {
      "cell_type": "code",
      "metadata": {
        "id": "E7A_epT2K0qD"
      },
      "source": [
        "# instantiate CNN model\n",
        "model = CNN_Sequential_style().to(device)"
      ],
      "execution_count": 116,
      "outputs": []
    },
    {
      "cell_type": "code",
      "metadata": {
        "id": "wNBtuyeULB6T"
      },
      "source": [
        "# define cost/loss & optimizer\n",
        "criterion = torch.nn.CrossEntropyLoss().to(device)    # Softmax is internally computed.\n",
        "optimizer = torch.optim.Adam(model.parameters(), lr=learning_rate)\n",
        "scheduler = torch.optim.lr_scheduler.StepLR(optimizer, step_size=10, gamma=0.5)"
      ],
      "execution_count": 126,
      "outputs": []
    },
    {
      "cell_type": "code",
      "metadata": {
        "colab": {
          "base_uri": "https://localhost:8080/"
        },
        "id": "hbJQcLE1LDBK",
        "outputId": "987ef0e0-2981-4298-e91b-389a48c46f58"
      },
      "source": [
        "file_name = 'CNN_Sequential_style_cifar10.pt'\n",
        "# train my model\n",
        "for epoch in range(1, training_epochs + 1):\n",
        "    print(\"epoch: [%d/%d]\" % (epoch, training_epochs + 1))\n",
        "\n",
        "    model.train()\n",
        "\n",
        "    for i, data in enumerate(tqdm(Train_dataloader)):\n",
        "        images, labels = data[0].to(device), data[1].to(device)\n",
        "\n",
        "        # 순전파 + 역전파 + 최적화를 한 후\n",
        "        outputs = model(images)\n",
        "        loss = criterion(outputs, labels)\n",
        "\n",
        "        # 변화도(Gradient) 매개변수를 0으로 만들고\n",
        "        optimizer.zero_grad()\n",
        "        loss.backward()\n",
        "        optimizer.step()\n",
        "\n",
        "    if not os.path.isdir('checkpoint'):\n",
        "        os.mkdir('checkpoint')\n",
        "    torch.save(model.state_dict(), './checkpoint/' + file_name)\n",
        "    print('Model Saved!')\n",
        "\n",
        "    correct = 0\n",
        "    total = 0\n",
        "    count = 0\n",
        "\n",
        "    model.eval()\n",
        "    for i, data in enumerate(Train_dataloader, 0):\n",
        "        # [inputs, labels]의 목록인 data로부터 입력을 받은 후;\n",
        "        # inputs, labels = data\n",
        "        images, labels = data[0].to(device), data[1].to(device)\n",
        "\n",
        "        # 순전파 + 역전파 + 최적화를 한 후\n",
        "        outputs = model(images)\n",
        "        loss = criterion(outputs, labels)\n",
        "\n",
        "        predicted = torch.argmax(outputs, dim=1)\n",
        "        total += labels.size(0)\n",
        "        correct += (predicted == labels).sum().item()\n",
        "\n",
        "    print(\"LOSS: {}\".format(loss.item()))\n",
        "    print(\"Validating Accuracy of the model {} %\".format(100 * correct / total))\n",
        "\n",
        "    scheduler.step()\n",
        "print('Finished Training')"
      ],
      "execution_count": 130,
      "outputs": [
        {
          "output_type": "stream",
          "text": [
            "  0%|          | 7/6250 [00:00<01:33, 66.60it/s]"
          ],
          "name": "stderr"
        },
        {
          "output_type": "stream",
          "text": [
            "epoch: [1/16]\n"
          ],
          "name": "stdout"
        },
        {
          "output_type": "stream",
          "text": [
            "100%|██████████| 6250/6250 [01:31<00:00, 68.02it/s]\n"
          ],
          "name": "stderr"
        },
        {
          "output_type": "stream",
          "text": [
            "Model Saved!\n"
          ],
          "name": "stdout"
        },
        {
          "output_type": "stream",
          "text": [
            "  0%|          | 7/6250 [00:00<01:39, 62.51it/s]"
          ],
          "name": "stderr"
        },
        {
          "output_type": "stream",
          "text": [
            "LOSS: 0.582895040512085\n",
            "Validating Accuracy of the model 77.752 %\n",
            "epoch: [2/16]\n"
          ],
          "name": "stdout"
        },
        {
          "output_type": "stream",
          "text": [
            "100%|██████████| 6250/6250 [01:35<00:00, 65.74it/s]\n"
          ],
          "name": "stderr"
        },
        {
          "output_type": "stream",
          "text": [
            "Model Saved!\n"
          ],
          "name": "stdout"
        },
        {
          "output_type": "stream",
          "text": [
            "  0%|          | 7/6250 [00:00<01:33, 66.63it/s]"
          ],
          "name": "stderr"
        },
        {
          "output_type": "stream",
          "text": [
            "LOSS: 1.0470467805862427\n",
            "Validating Accuracy of the model 79.52 %\n",
            "epoch: [3/16]\n"
          ],
          "name": "stdout"
        },
        {
          "output_type": "stream",
          "text": [
            "100%|██████████| 6250/6250 [01:35<00:00, 65.69it/s]\n"
          ],
          "name": "stderr"
        },
        {
          "output_type": "stream",
          "text": [
            "Model Saved!\n"
          ],
          "name": "stdout"
        },
        {
          "output_type": "stream",
          "text": [
            "  0%|          | 7/6250 [00:00<01:34, 66.12it/s]"
          ],
          "name": "stderr"
        },
        {
          "output_type": "stream",
          "text": [
            "LOSS: 0.7742131352424622\n",
            "Validating Accuracy of the model 81.372 %\n",
            "epoch: [4/16]\n"
          ],
          "name": "stdout"
        },
        {
          "output_type": "stream",
          "text": [
            "100%|██████████| 6250/6250 [01:34<00:00, 66.46it/s]\n"
          ],
          "name": "stderr"
        },
        {
          "output_type": "stream",
          "text": [
            "Model Saved!\n"
          ],
          "name": "stdout"
        },
        {
          "output_type": "stream",
          "text": [
            "  0%|          | 7/6250 [00:00<01:30, 68.82it/s]"
          ],
          "name": "stderr"
        },
        {
          "output_type": "stream",
          "text": [
            "LOSS: 0.37501850724220276\n",
            "Validating Accuracy of the model 81.796 %\n",
            "epoch: [5/16]\n"
          ],
          "name": "stdout"
        },
        {
          "output_type": "stream",
          "text": [
            "100%|██████████| 6250/6250 [01:34<00:00, 65.85it/s]\n"
          ],
          "name": "stderr"
        },
        {
          "output_type": "stream",
          "text": [
            "Model Saved!\n"
          ],
          "name": "stdout"
        },
        {
          "output_type": "stream",
          "text": [
            "  0%|          | 7/6250 [00:00<01:41, 61.57it/s]"
          ],
          "name": "stderr"
        },
        {
          "output_type": "stream",
          "text": [
            "LOSS: 0.7783605456352234\n",
            "Validating Accuracy of the model 83.344 %\n",
            "epoch: [6/16]\n"
          ],
          "name": "stdout"
        },
        {
          "output_type": "stream",
          "text": [
            "100%|██████████| 6250/6250 [01:34<00:00, 65.94it/s]\n"
          ],
          "name": "stderr"
        },
        {
          "output_type": "stream",
          "text": [
            "Model Saved!\n"
          ],
          "name": "stdout"
        },
        {
          "output_type": "stream",
          "text": [
            "  0%|          | 7/6250 [00:00<01:35, 65.30it/s]"
          ],
          "name": "stderr"
        },
        {
          "output_type": "stream",
          "text": [
            "LOSS: 0.7814105749130249\n",
            "Validating Accuracy of the model 82.958 %\n",
            "epoch: [7/16]\n"
          ],
          "name": "stdout"
        },
        {
          "output_type": "stream",
          "text": [
            "100%|██████████| 6250/6250 [01:35<00:00, 65.78it/s]\n"
          ],
          "name": "stderr"
        },
        {
          "output_type": "stream",
          "text": [
            "Model Saved!\n"
          ],
          "name": "stdout"
        },
        {
          "output_type": "stream",
          "text": [
            "  0%|          | 7/6250 [00:00<01:37, 63.71it/s]"
          ],
          "name": "stderr"
        },
        {
          "output_type": "stream",
          "text": [
            "LOSS: 0.22499291598796844\n",
            "Validating Accuracy of the model 84.588 %\n",
            "epoch: [8/16]\n"
          ],
          "name": "stdout"
        },
        {
          "output_type": "stream",
          "text": [
            "100%|██████████| 6250/6250 [01:35<00:00, 65.16it/s]\n"
          ],
          "name": "stderr"
        },
        {
          "output_type": "stream",
          "text": [
            "Model Saved!\n"
          ],
          "name": "stdout"
        },
        {
          "output_type": "stream",
          "text": [
            "  0%|          | 7/6250 [00:00<01:32, 67.25it/s]"
          ],
          "name": "stderr"
        },
        {
          "output_type": "stream",
          "text": [
            "LOSS: 0.2176942229270935\n",
            "Validating Accuracy of the model 84.814 %\n",
            "epoch: [9/16]\n"
          ],
          "name": "stdout"
        },
        {
          "output_type": "stream",
          "text": [
            "100%|██████████| 6250/6250 [01:36<00:00, 65.05it/s]\n"
          ],
          "name": "stderr"
        },
        {
          "output_type": "stream",
          "text": [
            "Model Saved!\n"
          ],
          "name": "stdout"
        },
        {
          "output_type": "stream",
          "text": [
            "  0%|          | 7/6250 [00:00<01:33, 66.60it/s]"
          ],
          "name": "stderr"
        },
        {
          "output_type": "stream",
          "text": [
            "LOSS: 0.2915728986263275\n",
            "Validating Accuracy of the model 86.404 %\n",
            "epoch: [10/16]\n"
          ],
          "name": "stdout"
        },
        {
          "output_type": "stream",
          "text": [
            "100%|██████████| 6250/6250 [01:37<00:00, 64.32it/s]\n"
          ],
          "name": "stderr"
        },
        {
          "output_type": "stream",
          "text": [
            "Model Saved!\n"
          ],
          "name": "stdout"
        },
        {
          "output_type": "stream",
          "text": [
            "  0%|          | 7/6250 [00:00<01:33, 66.42it/s]"
          ],
          "name": "stderr"
        },
        {
          "output_type": "stream",
          "text": [
            "LOSS: 0.2247917503118515\n",
            "Validating Accuracy of the model 85.344 %\n",
            "epoch: [11/16]\n"
          ],
          "name": "stdout"
        },
        {
          "output_type": "stream",
          "text": [
            "100%|██████████| 6250/6250 [01:38<00:00, 63.68it/s]\n"
          ],
          "name": "stderr"
        },
        {
          "output_type": "stream",
          "text": [
            "Model Saved!\n"
          ],
          "name": "stdout"
        },
        {
          "output_type": "stream",
          "text": [
            "  0%|          | 6/6250 [00:00<01:44, 59.84it/s]"
          ],
          "name": "stderr"
        },
        {
          "output_type": "stream",
          "text": [
            "LOSS: 0.37814998626708984\n",
            "Validating Accuracy of the model 91.53 %\n",
            "epoch: [12/16]\n"
          ],
          "name": "stdout"
        },
        {
          "output_type": "stream",
          "text": [
            "100%|██████████| 6250/6250 [01:35<00:00, 65.52it/s]\n"
          ],
          "name": "stderr"
        },
        {
          "output_type": "stream",
          "text": [
            "Model Saved!\n"
          ],
          "name": "stdout"
        },
        {
          "output_type": "stream",
          "text": [
            "  0%|          | 7/6250 [00:00<01:35, 65.18it/s]"
          ],
          "name": "stderr"
        },
        {
          "output_type": "stream",
          "text": [
            "LOSS: 0.18033087253570557\n",
            "Validating Accuracy of the model 91.594 %\n",
            "epoch: [13/16]\n"
          ],
          "name": "stdout"
        },
        {
          "output_type": "stream",
          "text": [
            "100%|██████████| 6250/6250 [01:35<00:00, 65.76it/s]\n"
          ],
          "name": "stderr"
        },
        {
          "output_type": "stream",
          "text": [
            "Model Saved!\n"
          ],
          "name": "stdout"
        },
        {
          "output_type": "stream",
          "text": [
            "  0%|          | 7/6250 [00:00<01:41, 61.24it/s]"
          ],
          "name": "stderr"
        },
        {
          "output_type": "stream",
          "text": [
            "LOSS: 0.045928940176963806\n",
            "Validating Accuracy of the model 92.104 %\n",
            "epoch: [14/16]\n"
          ],
          "name": "stdout"
        },
        {
          "output_type": "stream",
          "text": [
            "100%|██████████| 6250/6250 [01:35<00:00, 65.67it/s]\n"
          ],
          "name": "stderr"
        },
        {
          "output_type": "stream",
          "text": [
            "Model Saved!\n"
          ],
          "name": "stdout"
        },
        {
          "output_type": "stream",
          "text": [
            "  0%|          | 7/6250 [00:00<01:37, 63.81it/s]"
          ],
          "name": "stderr"
        },
        {
          "output_type": "stream",
          "text": [
            "LOSS: 0.07024110108613968\n",
            "Validating Accuracy of the model 92.57 %\n",
            "epoch: [15/16]\n"
          ],
          "name": "stdout"
        },
        {
          "output_type": "stream",
          "text": [
            "100%|██████████| 6250/6250 [01:38<00:00, 63.73it/s]\n"
          ],
          "name": "stderr"
        },
        {
          "output_type": "stream",
          "text": [
            "Model Saved!\n",
            "LOSS: 0.4482453763484955\n",
            "Validating Accuracy of the model 92.764 %\n",
            "Finished Training\n"
          ],
          "name": "stdout"
        }
      ]
    },
    {
      "cell_type": "code",
      "metadata": {
        "colab": {
          "base_uri": "https://localhost:8080/"
        },
        "id": "wAQE3xZUM7sa",
        "outputId": "8ec04eb6-1f78-4455-d6de-4e11995d47eb"
      },
      "source": [
        "file_name = 'CNN_basic_style_cifar10.pt'\n",
        "\n",
        "best_valid_loss = float('inf')\n",
        "\n",
        "# train my model\n",
        "for epoch in range(1, training_epochs + 1):\n",
        "    print(\"epoch: [%d/%d]\" % (epoch, training_epochs + 1))\n",
        "\n",
        "    net.train()\n",
        "\n",
        "    for i, data in enumerate(tqdm(Train_dataloader)):\n",
        "        images, labels = data[0].to(device), data[1].to(device)\n",
        "\n",
        "        # 순전파 + 역전파 + 최적화를 한 후\n",
        "        outputs = net(images)\n",
        "        loss = criterion(outputs, labels)\n",
        "\n",
        "        # 변화도(Gradient) 매개변수를 0으로 만들고\n",
        "        optimizer.zero_grad()\n",
        "        loss.backward()\n",
        "        optimizer.step()\n",
        "\n",
        "    correct = 0\n",
        "    total = 0\n",
        "    count = 0\n",
        "\n",
        "    net.eval()\n",
        "    for i, data in enumerate(Train_dataloader, 0):\n",
        "        # [inputs, labels]의 목록인 data로부터 입력을 받은 후;\n",
        "        # inputs, labels = data\n",
        "        images, labels = data[0].to(device), data[1].to(device)\n",
        "\n",
        "        # 순전파 + 역전파 + 최적화를 한 후\n",
        "        outputs = net(images)\n",
        "        loss = criterion(outputs, labels)\n",
        "\n",
        "        predicted = torch.argmax(outputs, dim=1)\n",
        "        total += labels.size(0)\n",
        "        correct += (predicted == labels).sum().item()\n",
        "\n",
        "    print(\"LOSS: {}\".format(loss.item()))\n",
        "    print(\"Validating Accuracy of the model {} %\".format(100 * correct / total))\n",
        "    valid_loss = loss.item()\n",
        "\n",
        "    if valid_loss < best_valid_loss:\n",
        "        best_valid_loss = valid_loss\n",
        "        torch.save(net.state_dict(), file_name)\n",
        "        print('Model Saved!')\n",
        "\n",
        "    scheduler.step()\n",
        "print('Finished Training')"
      ],
      "execution_count": null,
      "outputs": [
        {
          "output_type": "stream",
          "text": [
            "  0%|          | 6/6250 [00:00<01:56, 53.73it/s]"
          ],
          "name": "stderr"
        },
        {
          "output_type": "stream",
          "text": [
            "epoch: [1/16]\n"
          ],
          "name": "stdout"
        },
        {
          "output_type": "stream",
          "text": [
            " 74%|███████▎  | 4603/6250 [01:16<00:28, 57.64it/s]"
          ],
          "name": "stderr"
        }
      ]
    },
    {
      "cell_type": "code",
      "metadata": {
        "id": "eCs18W0vZn4h"
      },
      "source": [
        "# 학습된 모델 저장\n",
        "from google.colab import files\n",
        "\n",
        "files.download('CNN_basic_style_cifar10.pt')"
      ],
      "execution_count": null,
      "outputs": []
    }
  ]
}