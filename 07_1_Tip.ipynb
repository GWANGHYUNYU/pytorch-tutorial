{
  "nbformat": 4,
  "nbformat_minor": 0,
  "metadata": {
    "colab": {
      "name": "07_1_Tip.ipynb",
      "provenance": [],
      "collapsed_sections": [],
      "toc_visible": true,
      "authorship_tag": "ABX9TyNsUaYrKMn1D6qS52qK4SVs",
      "include_colab_link": true
    },
    "kernelspec": {
      "name": "python3",
      "display_name": "Python 3"
    },
    "language_info": {
      "name": "python"
    }
  },
  "cells": [
    {
      "cell_type": "markdown",
      "metadata": {
        "id": "view-in-github",
        "colab_type": "text"
      },
      "source": [
        "<a href=\"https://colab.research.google.com/github/GWANGHYUNYU/pytorch-tutorial/blob/master/07_1_Tip.ipynb\" target=\"_parent\"><img src=\"https://colab.research.google.com/assets/colab-badge.svg\" alt=\"Open In Colab\"/></a>"
      ]
    },
    {
      "cell_type": "code",
      "metadata": {
        "id": "upAIM-HnIxO-"
      },
      "source": [
        "import torch\n",
        "import torch.nn as nn\n",
        "import torch.nn.functional as F\n",
        "import torch.optim as optim"
      ],
      "execution_count": null,
      "outputs": []
    },
    {
      "cell_type": "markdown",
      "metadata": {
        "id": "Sqh78mjEI8C3"
      },
      "source": [
        "# **Training and Test Datasets**"
      ]
    },
    {
      "cell_type": "code",
      "metadata": {
        "id": "2Mbl1sm7I7WL"
      },
      "source": [
        "x_train = torch.FloatTensor([[1, 2, 1],\n",
        "                             [1, 3, 2],\n",
        "                             [1, 3, 4],\n",
        "                             [1, 5, 5],\n",
        "                             [1, 7, 5],\n",
        "                             [1, 2, 5],\n",
        "                             [1, 6, 6],\n",
        "                             [1, 7, 7]\n",
        "                            ])\n",
        "y_train = torch.LongTensor([2, 2, 2, 1, 1, 1, 0, 0])"
      ],
      "execution_count": null,
      "outputs": []
    },
    {
      "cell_type": "code",
      "metadata": {
        "id": "CPb--WD8JBkN"
      },
      "source": [
        "x_test = torch.FloatTensor([[2, 1, 1], [3, 1, 2], [3, 3, 4]])\n",
        "y_test = torch.LongTensor([2, 2, 2])"
      ],
      "execution_count": null,
      "outputs": []
    },
    {
      "cell_type": "markdown",
      "metadata": {
        "id": "NKuaYqfHJE0R"
      },
      "source": [
        "# **Model**"
      ]
    },
    {
      "cell_type": "code",
      "metadata": {
        "id": "b5rex8CkJF8l"
      },
      "source": [
        "class SoftmaxClassifierModel(nn.Module):\n",
        "    def __init__(self):\n",
        "        super().__init__()\n",
        "        self.linear = nn.Linear(3, 3)\n",
        "    def forward(self, x):\n",
        "        return self.linear(x)"
      ],
      "execution_count": null,
      "outputs": []
    },
    {
      "cell_type": "code",
      "metadata": {
        "id": "UQiaXHlUJH-2"
      },
      "source": [
        "model = SoftmaxClassifierModel()"
      ],
      "execution_count": null,
      "outputs": []
    },
    {
      "cell_type": "code",
      "metadata": {
        "id": "yIgOV1Z7JJan"
      },
      "source": [
        "# optimizer 설정\n",
        "optimizer = optim.SGD(model.parameters(), lr=0.1)"
      ],
      "execution_count": null,
      "outputs": []
    },
    {
      "cell_type": "code",
      "metadata": {
        "id": "bWn7PvBaJKRn"
      },
      "source": [
        "def train(model, optimizer, x_train, y_train):\n",
        "    nb_epochs = 20\n",
        "    for epoch in range(nb_epochs):\n",
        "\n",
        "        # H(x) 계산\n",
        "        prediction = model(x_train)\n",
        "\n",
        "        # cost 계산\n",
        "        cost = F.cross_entropy(prediction, y_train)\n",
        "\n",
        "        # cost로 H(x) 개선\n",
        "        optimizer.zero_grad()\n",
        "        cost.backward()\n",
        "        optimizer.step()\n",
        "\n",
        "        print('Epoch {:4d}/{} Cost: {:.6f}'.format(\n",
        "            epoch, nb_epochs, cost.item()\n",
        "        ))"
      ],
      "execution_count": null,
      "outputs": []
    },
    {
      "cell_type": "code",
      "metadata": {
        "id": "NjyzQzuPJWK8"
      },
      "source": [
        "def test(model, optimizer, x_test, y_test):\n",
        "      prediction = model(x_test)\n",
        "      predicted_classes = prediction.max(1)[1]\n",
        "      correct_count = (predicted_classes == y_test).sum().item()\n",
        "      cost = F.cross_entropy(prediction, y_test)\n",
        "\n",
        "      print('Accuracy: {}% Cost: {:.6f}'.format(\n",
        "          correct_count/len(y_test) *100, cost.item()\n",
        "      ))"
      ],
      "execution_count": null,
      "outputs": []
    },
    {
      "cell_type": "code",
      "metadata": {
        "colab": {
          "base_uri": "https://localhost:8080/"
        },
        "id": "oaaT8yFdKCGO",
        "outputId": "73cca71e-8075-4f8e-fc76-07a7b96b5837"
      },
      "source": [
        "train(model, optimizer, x_train, y_train)"
      ],
      "execution_count": null,
      "outputs": [
        {
          "output_type": "stream",
          "text": [
            "Epoch    0/20 Cost: 2.285584\n",
            "Epoch    1/20 Cost: 1.189724\n",
            "Epoch    2/20 Cost: 1.116259\n",
            "Epoch    3/20 Cost: 1.101707\n",
            "Epoch    4/20 Cost: 1.092549\n",
            "Epoch    5/20 Cost: 1.083811\n",
            "Epoch    6/20 Cost: 1.075348\n",
            "Epoch    7/20 Cost: 1.067117\n",
            "Epoch    8/20 Cost: 1.059093\n",
            "Epoch    9/20 Cost: 1.051258\n",
            "Epoch   10/20 Cost: 1.043602\n",
            "Epoch   11/20 Cost: 1.036115\n",
            "Epoch   12/20 Cost: 1.028791\n",
            "Epoch   13/20 Cost: 1.021625\n",
            "Epoch   14/20 Cost: 1.014613\n",
            "Epoch   15/20 Cost: 1.007750\n",
            "Epoch   16/20 Cost: 1.001032\n",
            "Epoch   17/20 Cost: 0.994455\n",
            "Epoch   18/20 Cost: 0.988017\n",
            "Epoch   19/20 Cost: 0.981714\n"
          ],
          "name": "stdout"
        }
      ]
    },
    {
      "cell_type": "code",
      "metadata": {
        "colab": {
          "base_uri": "https://localhost:8080/"
        },
        "id": "z-iN_yvtKDmS",
        "outputId": "bd653140-47bd-4cfc-b927-9caa868aaee0"
      },
      "source": [
        "test(model, optimizer, x_test, y_test)"
      ],
      "execution_count": null,
      "outputs": [
        {
          "output_type": "stream",
          "text": [
            "Accuracy: 100.0% Cost: 0.739520\n"
          ],
          "name": "stdout"
        }
      ]
    },
    {
      "cell_type": "markdown",
      "metadata": {
        "id": "Yh5rpSyw4jO3"
      },
      "source": [
        "# **Learning Rate**"
      ]
    },
    {
      "cell_type": "code",
      "metadata": {
        "id": "LoaHMlOX4lA_"
      },
      "source": [
        "model = SoftmaxClassifierModel()"
      ],
      "execution_count": null,
      "outputs": []
    },
    {
      "cell_type": "code",
      "metadata": {
        "id": "7CPqNfvK4oAn"
      },
      "source": [
        "optimizer = optim.SGD(model.parameters(), lr=1e5)"
      ],
      "execution_count": null,
      "outputs": []
    },
    {
      "cell_type": "code",
      "metadata": {
        "colab": {
          "base_uri": "https://localhost:8080/"
        },
        "id": "S7WpJSqQ4qCe",
        "outputId": "979c1c81-ba40-41e4-8932-2e8cee7de720"
      },
      "source": [
        "train(model, optimizer, x_train, y_train)"
      ],
      "execution_count": null,
      "outputs": [
        {
          "output_type": "stream",
          "text": [
            "Epoch    0/20 Cost: 2.130595\n",
            "Epoch    1/20 Cost: 1546145.250000\n",
            "Epoch    2/20 Cost: 1648716.375000\n",
            "Epoch    3/20 Cost: 558758.000000\n",
            "Epoch    4/20 Cost: 1461770.250000\n",
            "Epoch    5/20 Cost: 600035.875000\n",
            "Epoch    6/20 Cost: 1021819.875000\n",
            "Epoch    7/20 Cost: 1361216.375000\n",
            "Epoch    8/20 Cost: 801157.125000\n",
            "Epoch    9/20 Cost: 2096145.375000\n",
            "Epoch   10/20 Cost: 40364.398438\n",
            "Epoch   11/20 Cost: 829602.375000\n",
            "Epoch   12/20 Cost: 1087778.750000\n",
            "Epoch   13/20 Cost: 1362094.625000\n",
            "Epoch   14/20 Cost: 1672707.750000\n",
            "Epoch   15/20 Cost: 562535.937500\n",
            "Epoch   16/20 Cost: 1218664.875000\n",
            "Epoch   17/20 Cost: 1109653.750000\n",
            "Epoch   18/20 Cost: 805844.625000\n",
            "Epoch   19/20 Cost: 2061770.250000\n"
          ],
          "name": "stdout"
        }
      ]
    },
    {
      "cell_type": "code",
      "metadata": {
        "id": "XzUrmtxX4p--"
      },
      "source": [
        "optimizer = optim.SGD(model.parameters(), lr=1e-10)"
      ],
      "execution_count": null,
      "outputs": []
    },
    {
      "cell_type": "code",
      "metadata": {
        "colab": {
          "base_uri": "https://localhost:8080/"
        },
        "id": "CyrQNS4y4tmP",
        "outputId": "6d9ae9f9-ed69-4c4e-b6a7-0aca6103a6a9"
      },
      "source": [
        "train(model, optimizer, x_train, y_train)"
      ],
      "execution_count": null,
      "outputs": [
        {
          "output_type": "stream",
          "text": [
            "Epoch    0/20 Cost: 87239.398438\n",
            "Epoch    1/20 Cost: 87239.398438\n",
            "Epoch    2/20 Cost: 87239.398438\n",
            "Epoch    3/20 Cost: 87239.398438\n",
            "Epoch    4/20 Cost: 87239.398438\n",
            "Epoch    5/20 Cost: 87239.398438\n",
            "Epoch    6/20 Cost: 87239.398438\n",
            "Epoch    7/20 Cost: 87239.398438\n",
            "Epoch    8/20 Cost: 87239.398438\n",
            "Epoch    9/20 Cost: 87239.398438\n",
            "Epoch   10/20 Cost: 87239.398438\n",
            "Epoch   11/20 Cost: 87239.398438\n",
            "Epoch   12/20 Cost: 87239.398438\n",
            "Epoch   13/20 Cost: 87239.398438\n",
            "Epoch   14/20 Cost: 87239.398438\n",
            "Epoch   15/20 Cost: 87239.398438\n",
            "Epoch   16/20 Cost: 87239.398438\n",
            "Epoch   17/20 Cost: 87239.398438\n",
            "Epoch   18/20 Cost: 87239.398438\n",
            "Epoch   19/20 Cost: 87239.398438\n"
          ],
          "name": "stdout"
        }
      ]
    },
    {
      "cell_type": "code",
      "metadata": {
        "id": "4Y19j5hm4whZ"
      },
      "source": [
        "optimizer = optim.SGD(model.parameters(), lr=1e-1)"
      ],
      "execution_count": null,
      "outputs": []
    },
    {
      "cell_type": "code",
      "metadata": {
        "colab": {
          "base_uri": "https://localhost:8080/"
        },
        "id": "o3XyQFOW4xJX",
        "outputId": "9a5129ab-fcc0-4091-9872-aacbbbebf157"
      },
      "source": [
        "train(model, optimizer, x_train, y_train)"
      ],
      "execution_count": null,
      "outputs": [
        {
          "output_type": "stream",
          "text": [
            "Epoch    0/20 Cost: 2.244725\n",
            "Epoch    1/20 Cost: 1.002123\n",
            "Epoch    2/20 Cost: 0.954051\n",
            "Epoch    3/20 Cost: 0.944081\n",
            "Epoch    4/20 Cost: 0.935441\n",
            "Epoch    5/20 Cost: 0.928011\n",
            "Epoch    6/20 Cost: 0.921136\n",
            "Epoch    7/20 Cost: 0.914785\n",
            "Epoch    8/20 Cost: 0.908753\n",
            "Epoch    9/20 Cost: 0.903010\n",
            "Epoch   10/20 Cost: 0.897481\n",
            "Epoch   11/20 Cost: 0.892147\n",
            "Epoch   12/20 Cost: 0.886975\n",
            "Epoch   13/20 Cost: 0.881954\n",
            "Epoch   14/20 Cost: 0.877068\n",
            "Epoch   15/20 Cost: 0.872308\n",
            "Epoch   16/20 Cost: 0.867667\n",
            "Epoch   17/20 Cost: 0.863139\n",
            "Epoch   18/20 Cost: 0.858718\n",
            "Epoch   19/20 Cost: 0.854399\n"
          ],
          "name": "stdout"
        }
      ]
    },
    {
      "cell_type": "code",
      "metadata": {
        "colab": {
          "base_uri": "https://localhost:8080/"
        },
        "id": "uNTiF6Hxzezb",
        "outputId": "0b408a1b-c398-4619-fe8a-df801f0ab0a9"
      },
      "source": [
        "for param in model.parameters():\n",
        "    print(param.size())"
      ],
      "execution_count": null,
      "outputs": [
        {
          "output_type": "stream",
          "text": [
            "torch.Size([3, 3])\n",
            "torch.Size([3])\n"
          ],
          "name": "stdout"
        }
      ]
    },
    {
      "cell_type": "markdown",
      "metadata": {
        "id": "8q1Up_hT1xcI"
      },
      "source": [
        "# **Data Preprocessing**"
      ]
    },
    {
      "cell_type": "code",
      "metadata": {
        "id": "tl_ZJEuA1vlC"
      },
      "source": [
        "x_train = torch.FloatTensor([[73, 80, 75],\n",
        "                             [93, 88, 93],\n",
        "                             [89, 91, 90],\n",
        "                             [96, 98, 100],\n",
        "                             [73, 66, 70]])\n",
        "y_train = torch.FloatTensor([[152], [185], [180], [196], [142]])"
      ],
      "execution_count": null,
      "outputs": []
    },
    {
      "cell_type": "markdown",
      "metadata": {
        "id": "ZX4g2bz213Ep"
      },
      "source": [
        " Standardization\n",
        "\n",
        " $$ x'_j = \\frac{x_j - \\mu_j}{\\sigma_j} $$\n",
        "\n",
        " 여기서 $\\sigma$ 는 standard deviation, $\\mu$ 는 평균값 이다."
      ]
    },
    {
      "cell_type": "code",
      "metadata": {
        "id": "T8_CPED412KY"
      },
      "source": [
        "mu = x_train.mean(dim=0)"
      ],
      "execution_count": null,
      "outputs": []
    },
    {
      "cell_type": "code",
      "metadata": {
        "id": "Fm5G1M5s2EFB"
      },
      "source": [
        "sigma = x_train.std(dim=0)"
      ],
      "execution_count": null,
      "outputs": []
    },
    {
      "cell_type": "code",
      "metadata": {
        "id": "d5rvd5QQ2FvJ"
      },
      "source": [
        "norm_x_train = (x_train - mu) / sigma"
      ],
      "execution_count": null,
      "outputs": []
    },
    {
      "cell_type": "code",
      "metadata": {
        "colab": {
          "base_uri": "https://localhost:8080/"
        },
        "id": "6aAJ5qnY2HUp",
        "outputId": "8da18a74-d9f8-4c1e-cdbe-017099820bcb"
      },
      "source": [
        "print(norm_x_train)"
      ],
      "execution_count": null,
      "outputs": [
        {
          "output_type": "stream",
          "text": [
            "tensor([[-1.0674, -0.3758, -0.8398],\n",
            "        [ 0.7418,  0.2778,  0.5863],\n",
            "        [ 0.3799,  0.5229,  0.3486],\n",
            "        [ 1.0132,  1.0948,  1.1409],\n",
            "        [-1.0674, -1.5197, -1.2360]])\n"
          ],
          "name": "stdout"
        }
      ]
    },
    {
      "cell_type": "code",
      "metadata": {
        "id": "IZuCPTnK2JdS"
      },
      "source": [
        "class MultivariateLinearRegressionModel(nn.Module):\n",
        "    def __init__(self):\n",
        "        super().__init__()\n",
        "        self.linear = nn.Linear(3, 1)\n",
        "\n",
        "    def forward(self, x):\n",
        "        return self.linear(x)"
      ],
      "execution_count": null,
      "outputs": []
    },
    {
      "cell_type": "code",
      "metadata": {
        "id": "bH-7xPm52K8g"
      },
      "source": [
        "model = MultivariateLinearRegressionModel()"
      ],
      "execution_count": null,
      "outputs": []
    },
    {
      "cell_type": "code",
      "metadata": {
        "id": "e1rRMHeB2MOq"
      },
      "source": [
        "optimizer = optim.SGD(model.parameters(), lr=1e-1)"
      ],
      "execution_count": null,
      "outputs": []
    },
    {
      "cell_type": "code",
      "metadata": {
        "id": "7ZSC0t8c2Nhw"
      },
      "source": [
        "def train(model, optimizer, x_train, y_train):\n",
        "    nb_epochs = 20\n",
        "    for epoch in range(nb_epochs):\n",
        "\n",
        "        # H(x) 계산\n",
        "        prediction = model(x_train)\n",
        "\n",
        "        # cost 계산\n",
        "        cost = F.mse_loss(prediction, y_train)\n",
        "\n",
        "        # cost로 H(x) 개선\n",
        "        optimizer.zero_grad()\n",
        "        cost.backward()\n",
        "        optimizer.step()\n",
        "\n",
        "        print('Epoch {:4d}/{} Cost: {:.6f}'.format(\n",
        "            epoch, nb_epochs, cost.item()\n",
        "        ))"
      ],
      "execution_count": null,
      "outputs": []
    },
    {
      "cell_type": "code",
      "metadata": {
        "colab": {
          "base_uri": "https://localhost:8080/"
        },
        "id": "6K_AKreT2P7h",
        "outputId": "52ee0410-8d5e-4e85-ea39-26f994641abf"
      },
      "source": [
        "train(model, optimizer, norm_x_train, y_train)"
      ],
      "execution_count": null,
      "outputs": [
        {
          "output_type": "stream",
          "text": [
            "Epoch    0/20 Cost: 29645.462891\n",
            "Epoch    1/20 Cost: 18829.482422\n",
            "Epoch    2/20 Cost: 12009.268555\n",
            "Epoch    3/20 Cost: 7674.019531\n",
            "Epoch    4/20 Cost: 4908.094727\n",
            "Epoch    5/20 Cost: 3140.409668\n",
            "Epoch    6/20 Cost: 2009.814453\n",
            "Epoch    7/20 Cost: 1286.439453\n",
            "Epoch    8/20 Cost: 823.533203\n",
            "Epoch    9/20 Cost: 527.283691\n",
            "Epoch   10/20 Cost: 337.681946\n",
            "Epoch   11/20 Cost: 216.331955\n",
            "Epoch   12/20 Cost: 138.661346\n",
            "Epoch   13/20 Cost: 88.945976\n",
            "Epoch   14/20 Cost: 57.121925\n",
            "Epoch   15/20 Cost: 36.748646\n",
            "Epoch   16/20 Cost: 23.704090\n",
            "Epoch   17/20 Cost: 15.350082\n",
            "Epoch   18/20 Cost: 9.998285\n",
            "Epoch   19/20 Cost: 6.567992\n"
          ],
          "name": "stdout"
        }
      ]
    },
    {
      "cell_type": "code",
      "metadata": {
        "id": "GJG3RSj42TAY"
      },
      "source": [
        "def train_with_regularization(model, optimizer, x_train, y_train):\n",
        "    nb_epochs = 20\n",
        "    for epoch in range(nb_epochs):\n",
        "\n",
        "        # H(x) 계산\n",
        "        prediction = model(x_train)\n",
        "\n",
        "        # cost 계산\n",
        "        cost = F.mse_loss(prediction, y_train)\n",
        "        \n",
        "        # l2 norm 계산\n",
        "        l2_reg = 0\n",
        "        for param in model.parameters():\n",
        "            l2_reg += torch.norm(param)\n",
        "            \n",
        "        cost += l2_reg\n",
        "\n",
        "        # cost로 H(x) 개선\n",
        "        optimizer.zero_grad()\n",
        "        cost.backward()\n",
        "        optimizer.step()\n",
        "\n",
        "        print('Epoch {:4d}/{} Cost: {:.6f}'.format(\n",
        "            epoch+1, nb_epochs, cost.item()\n",
        "        ))"
      ],
      "execution_count": null,
      "outputs": []
    },
    {
      "cell_type": "code",
      "metadata": {
        "colab": {
          "base_uri": "https://localhost:8080/"
        },
        "id": "JS-e7ZX12XkA",
        "outputId": "d6bbb038-f5db-4fd6-92a2-13e170cdc10e"
      },
      "source": [
        "train_with_regularization(model, optimizer, norm_x_train, y_train)"
      ],
      "execution_count": null,
      "outputs": [
        {
          "output_type": "stream",
          "text": [
            "Epoch    1/20 Cost: 186.944336\n",
            "Epoch    2/20 Cost: 186.079269\n",
            "Epoch    3/20 Cost: 185.549454\n",
            "Epoch    4/20 Cost: 185.215393\n",
            "Epoch    5/20 Cost: 185.001251\n",
            "Epoch    6/20 Cost: 184.862411\n",
            "Epoch    7/20 Cost: 184.771362\n",
            "Epoch    8/20 Cost: 184.710968\n",
            "Epoch    9/20 Cost: 184.670212\n",
            "Epoch   10/20 Cost: 184.642136\n",
            "Epoch   11/20 Cost: 184.622269\n",
            "Epoch   12/20 Cost: 184.607773\n",
            "Epoch   13/20 Cost: 184.596786\n",
            "Epoch   14/20 Cost: 184.588120\n",
            "Epoch   15/20 Cost: 184.581070\n",
            "Epoch   16/20 Cost: 184.575073\n",
            "Epoch   17/20 Cost: 184.569870\n",
            "Epoch   18/20 Cost: 184.565216\n",
            "Epoch   19/20 Cost: 184.560989\n",
            "Epoch   20/20 Cost: 184.557114\n"
          ],
          "name": "stdout"
        }
      ]
    }
  ]
}