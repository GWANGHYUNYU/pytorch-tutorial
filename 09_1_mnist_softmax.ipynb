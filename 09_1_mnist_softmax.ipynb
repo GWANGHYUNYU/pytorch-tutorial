{
  "nbformat": 4,
  "nbformat_minor": 0,
  "metadata": {
    "colab": {
      "name": "09_1_mnist_softmax.ipynb",
      "provenance": [],
      "collapsed_sections": [],
      "authorship_tag": "ABX9TyP/YXVL1As1NbbD3029nSrD",
      "include_colab_link": true
    },
    "kernelspec": {
      "name": "python3",
      "display_name": "Python 3"
    },
    "language_info": {
      "name": "python"
    }
  },
  "cells": [
    {
      "cell_type": "markdown",
      "metadata": {
        "id": "view-in-github",
        "colab_type": "text"
      },
      "source": [
        "<a href=\"https://colab.research.google.com/github/GWANGHYUNYU/pytorch-tutorial/blob/master/09_1_mnist_softmax.ipynb\" target=\"_parent\"><img src=\"https://colab.research.google.com/assets/colab-badge.svg\" alt=\"Open In Colab\"/></a>"
      ]
    },
    {
      "cell_type": "code",
      "metadata": {
        "id": "WOrKmegjG5Ww"
      },
      "source": [
        "import torch\n",
        "import torch.nn as nn\n",
        "import torchvision.datasets\n",
        "import torchvision.transforms as transforms\n",
        "import matplotlib.pyplot as plt\n",
        "import random"
      ],
      "execution_count": 24,
      "outputs": []
    },
    {
      "cell_type": "code",
      "metadata": {
        "id": "HEnN1gwFzaj5"
      },
      "source": [
        "device = 'cuda' if torch.cuda.is_available() else 'cpu'\n",
        "\n",
        "# for reproducibility\n",
        "random.seed(777)\n",
        "torch.manual_seed(777)\n",
        "if device == 'cuda':\n",
        "    torch.cuda.manual_seed_all(777)"
      ],
      "execution_count": 25,
      "outputs": []
    },
    {
      "cell_type": "code",
      "metadata": {
        "id": "XyI9Ke1VzcHp"
      },
      "source": [
        "# parameters\n",
        "training_epochs = 15\n",
        "batch_size = 100\n",
        "learning_rate = 0.001"
      ],
      "execution_count": 26,
      "outputs": []
    },
    {
      "cell_type": "code",
      "metadata": {
        "id": "DLwKSVwwze15"
      },
      "source": [
        "# MNIST dataset\n",
        "mnist_train = torchvision.datasets.MNIST(root='MNIST_data/',\n",
        "                          train=True,\n",
        "                          transform=transforms.ToTensor(),\n",
        "                          download=True)\n",
        "\n",
        "mnist_test = torchvision.datasets.MNIST(root='MNIST_data/',\n",
        "                         train=False,\n",
        "                         transform=transforms.ToTensor(),\n",
        "                         download=True)"
      ],
      "execution_count": 27,
      "outputs": []
    },
    {
      "cell_type": "code",
      "metadata": {
        "id": "j7RZzT0Mzexg"
      },
      "source": [
        "# dataset loader\n",
        "data_loader = torch.utils.data.DataLoader(dataset=mnist_train,\n",
        "                                          batch_size=batch_size,\n",
        "                                          shuffle=True,\n",
        "                                          drop_last=True)"
      ],
      "execution_count": 28,
      "outputs": []
    },
    {
      "cell_type": "code",
      "metadata": {
        "id": "YRKXtyevznRZ"
      },
      "source": [
        "# MNIST data image of shape 28 * 28 = 784\n",
        "class MNIST_Classifier(nn.Module):\n",
        "    def __init__(self):\n",
        "        super().__init__()\n",
        "        self.linear1 = nn.Linear(784, 10, bias=True).to(device)\n",
        "\n",
        "    def forward(self, x):\n",
        "        x = self.linear1(x)\n",
        "        return x"
      ],
      "execution_count": 34,
      "outputs": []
    },
    {
      "cell_type": "code",
      "metadata": {
        "id": "UKq5RiePz_Lh"
      },
      "source": [
        "# Initialization\n",
        "def init_weights(m):\n",
        "    if type(m) == nn.Linear:\n",
        "        torch.nn.init.normal_(linear.weight)"
      ],
      "execution_count": 52,
      "outputs": []
    },
    {
      "cell_type": "code",
      "metadata": {
        "id": "qJWQTGBU188h"
      },
      "source": [
        "net = MNIST_Classifier()"
      ],
      "execution_count": 54,
      "outputs": []
    },
    {
      "cell_type": "code",
      "metadata": {
        "colab": {
          "base_uri": "https://localhost:8080/"
        },
        "id": "IV5tX41CSOoC",
        "outputId": "480c7e84-fc79-4107-ffbc-f48a089490ea"
      },
      "source": [
        "count = 1\n",
        "for para in net.parameters():\n",
        "    print(count, \"'th layer \", para.size())\n",
        "    print(para)\n",
        "    count += 1"
      ],
      "execution_count": 61,
      "outputs": [
        {
          "output_type": "stream",
          "text": [
            "1 'th layer  torch.Size([10, 784])\n",
            "Parameter containing:\n",
            "tensor([[-0.0126, -0.0108,  0.0192,  ..., -0.0202,  0.0116,  0.0023],\n",
            "        [ 0.0236, -0.0265, -0.0022,  ..., -0.0116, -0.0242, -0.0086],\n",
            "        [-0.0117, -0.0229,  0.0271,  ..., -0.0288, -0.0227, -0.0229],\n",
            "        ...,\n",
            "        [-0.0013,  0.0028, -0.0226,  ...,  0.0331,  0.0037, -0.0327],\n",
            "        [ 0.0322, -0.0093, -0.0009,  ..., -0.0144, -0.0043,  0.0283],\n",
            "        [-0.0200,  0.0134, -0.0019,  ..., -0.0229,  0.0081, -0.0333]],\n",
            "       requires_grad=True)\n",
            "2 'th layer  torch.Size([10])\n",
            "Parameter containing:\n",
            "tensor([ 0.0027, -0.0155,  0.0239, -0.0052,  0.0252, -0.0149, -0.0339, -0.0151,\n",
            "         0.0311, -0.0115], requires_grad=True)\n"
          ],
          "name": "stdout"
        }
      ]
    },
    {
      "cell_type": "code",
      "metadata": {
        "colab": {
          "base_uri": "https://localhost:8080/"
        },
        "id": "BCnY99X2SZPB",
        "outputId": "db5ff42a-8b44-4cc8-cb0c-69b6dc4e1c56"
      },
      "source": [
        "net2 = MNIST_Classifier()\n",
        "net2.apply(init_weights)"
      ],
      "execution_count": 62,
      "outputs": [
        {
          "output_type": "execute_result",
          "data": {
            "text/plain": [
              "MNIST_Classifier(\n",
              "  (linear1): Linear(in_features=784, out_features=10, bias=True)\n",
              ")"
            ]
          },
          "metadata": {
            "tags": []
          },
          "execution_count": 62
        }
      ]
    },
    {
      "cell_type": "code",
      "metadata": {
        "colab": {
          "base_uri": "https://localhost:8080/"
        },
        "id": "r1nMQdWdShCJ",
        "outputId": "9bb168a4-b209-4636-a5c0-33f900238652"
      },
      "source": [
        "count = 1\n",
        "for para in net2.parameters():\n",
        "    print(count, \"'th layer \", para.size())\n",
        "    print(para)\n",
        "    count += 1"
      ],
      "execution_count": 63,
      "outputs": [
        {
          "output_type": "stream",
          "text": [
            "1 'th layer  torch.Size([10, 784])\n",
            "Parameter containing:\n",
            "tensor([[ 0.0316, -0.0102, -0.0135,  ...,  0.0246, -0.0275,  0.0076],\n",
            "        [ 0.0174,  0.0349,  0.0288,  ...,  0.0078,  0.0041,  0.0349],\n",
            "        [ 0.0203,  0.0101,  0.0184,  ...,  0.0067,  0.0057, -0.0196],\n",
            "        ...,\n",
            "        [-0.0353, -0.0286,  0.0180,  ...,  0.0158,  0.0013, -0.0055],\n",
            "        [ 0.0247,  0.0348,  0.0157,  ..., -0.0083, -0.0155, -0.0130],\n",
            "        [-0.0329, -0.0271,  0.0289,  ..., -0.0206,  0.0287,  0.0161]],\n",
            "       requires_grad=True)\n",
            "2 'th layer  torch.Size([10])\n",
            "Parameter containing:\n",
            "tensor([-0.0109,  0.0345, -0.0181, -0.0039, -0.0317, -0.0239, -0.0274, -0.0074,\n",
            "         0.0100, -0.0307], requires_grad=True)\n"
          ],
          "name": "stdout"
        }
      ]
    },
    {
      "cell_type": "code",
      "metadata": {
        "id": "Ro1j5Xmu2Sgw"
      },
      "source": [
        "# define cost/loss & optimizer\n",
        "criterion = torch.nn.CrossEntropyLoss().to(device)    # Softmax is internally computed.\n",
        "optimizer = torch.optim.Adam(linear.parameters(), lr=learning_rate)"
      ],
      "execution_count": 64,
      "outputs": []
    },
    {
      "cell_type": "code",
      "metadata": {
        "colab": {
          "base_uri": "https://localhost:8080/"
        },
        "id": "LQ4LhPah2gVw",
        "outputId": "a76cf92b-e403-4917-ffe9-97fc8a649b85"
      },
      "source": [
        "total_batch = len(data_loader)\n",
        "for epoch in range(training_epochs):\n",
        "    avg_cost = 0\n",
        "\n",
        "    for X, Y in data_loader:\n",
        "        # reshape input image into [batch_size by 784]\n",
        "        # label is not one-hot encoded\n",
        "        X = X.view(-1, 28 * 28).to(device)\n",
        "        Y = Y.to(device)\n",
        "\n",
        "        optimizer.zero_grad()\n",
        "        hypothesis = linear(X)\n",
        "        cost = criterion(hypothesis, Y)\n",
        "        cost.backward()\n",
        "        optimizer.step()\n",
        "\n",
        "        avg_cost += cost / total_batch\n",
        "\n",
        "    print('Epoch:', '%04d' % (epoch + 1), 'cost =', '{:.9f}'.format(avg_cost))\n",
        "\n",
        "print('Learning finished')"
      ],
      "execution_count": 65,
      "outputs": [
        {
          "output_type": "stream",
          "text": [
            "Epoch: 0001 cost = 5.121769428\n",
            "Epoch: 0002 cost = 1.531380534\n",
            "Epoch: 0003 cost = 1.033073068\n",
            "Epoch: 0004 cost = 0.831098557\n",
            "Epoch: 0005 cost = 0.715820551\n",
            "Epoch: 0006 cost = 0.639230490\n",
            "Epoch: 0007 cost = 0.583988726\n",
            "Epoch: 0008 cost = 0.540780365\n",
            "Epoch: 0009 cost = 0.508075655\n",
            "Epoch: 0010 cost = 0.480787814\n",
            "Epoch: 0011 cost = 0.458990157\n",
            "Epoch: 0012 cost = 0.439993888\n",
            "Epoch: 0013 cost = 0.424095601\n",
            "Epoch: 0014 cost = 0.410545319\n",
            "Epoch: 0015 cost = 0.398283571\n",
            "Learning finished\n"
          ],
          "name": "stdout"
        }
      ]
    },
    {
      "cell_type": "code",
      "metadata": {
        "colab": {
          "base_uri": "https://localhost:8080/",
          "height": 391
        },
        "id": "Bqo02K9j2pr5",
        "outputId": "8dc03b61-1f9a-4473-cf0a-88d6aaac1beb"
      },
      "source": [
        "# Test the model using test sets\n",
        "with torch.no_grad():\n",
        "    X_test = mnist_test.test_data.view(-1, 28 * 28).float().to(device)\n",
        "    Y_test = mnist_test.test_labels.to(device)\n",
        "\n",
        "    prediction = linear(X_test)\n",
        "    correct_prediction = torch.argmax(prediction, 1) == Y_test\n",
        "    accuracy = correct_prediction.float().mean()\n",
        "    print('Accuracy:', accuracy.item())\n",
        "\n",
        "    # Get one and predict\n",
        "    r = random.randint(0, len(mnist_test) - 1)\n",
        "    X_single_data = mnist_test.test_data[r:r + 1].view(-1, 28 * 28).float().to(device)\n",
        "    Y_single_data = mnist_test.test_labels[r:r + 1].to(device)\n",
        "\n",
        "    print('Label: ', Y_single_data.item())\n",
        "    single_prediction = linear(X_single_data)\n",
        "    print('Prediction: ', torch.argmax(single_prediction, 1).item())\n",
        "\n",
        "    \n",
        "    plt.imshow(mnist_test.test_data[r:r + 1].view(28, 28), cmap='Greys', interpolation='nearest')\n",
        "    plt.show()"
      ],
      "execution_count": 66,
      "outputs": [
        {
          "output_type": "stream",
          "text": [
            "Accuracy: 0.8662999868392944\n",
            "Label:  8\n",
            "Prediction:  3\n"
          ],
          "name": "stdout"
        },
        {
          "output_type": "stream",
          "text": [
            "/usr/local/lib/python3.7/dist-packages/torchvision/datasets/mnist.py:69: UserWarning: test_data has been renamed data\n",
            "  warnings.warn(\"test_data has been renamed data\")\n",
            "/usr/local/lib/python3.7/dist-packages/torchvision/datasets/mnist.py:59: UserWarning: test_labels has been renamed targets\n",
            "  warnings.warn(\"test_labels has been renamed targets\")\n"
          ],
          "name": "stderr"
        },
        {
          "output_type": "display_data",
          "data": {
            "image/png": "[encoded data removed]",
            "text/plain": [
              "<Figure size 432x288 with 1 Axes>"
            ]
          },
          "metadata": {
            "tags": [],
            "needs_background": "light"
          }
        }
      ]
    }
  ]
}