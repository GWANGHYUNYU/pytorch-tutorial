{
  "nbformat": 4,
  "nbformat_minor": 0,
  "metadata": {
    "colab": {
      "name": "08_1_xor.ipynb",
      "provenance": [],
      "collapsed_sections": [],
      "authorship_tag": "ABX9TyMJYQuZdmLsQSz4/Kn7xRxh",
      "include_colab_link": true
    },
    "kernelspec": {
      "name": "python3",
      "display_name": "Python 3"
    },
    "language_info": {
      "name": "python"
    }
  },
  "cells": [
    {
      "cell_type": "markdown",
      "metadata": {
        "id": "view-in-github",
        "colab_type": "text"
      },
      "source": [
        "<a href=\"https://colab.research.google.com/github/GWANGHYUNYU/pytorch-tutorial/blob/master/08_1_xor.ipynb\" target=\"_parent\"><img src=\"https://colab.research.google.com/assets/colab-badge.svg\" alt=\"Open In Colab\"/></a>"
      ]
    },
    {
      "cell_type": "code",
      "metadata": {
        "id": "azdWfsgifAvk"
      },
      "source": [
        "import torch\n",
        "import torch.nn as nn\n",
        "import torch.nn.functional as F\n",
        "import torch.optim as optim"
      ],
      "execution_count": 101,
      "outputs": []
    },
    {
      "cell_type": "code",
      "metadata": {
        "id": "904uCP8llXCf"
      },
      "source": [
        "device = 'cuda' if torch.cuda.is_available() else 'cpu'\n",
        "\n",
        "# for reproducibility\n",
        "torch.manual_seed(777)\n",
        "if device == 'cuda':\n",
        "    torch.cuda.manual_seed_all(777)"
      ],
      "execution_count": 102,
      "outputs": []
    },
    {
      "cell_type": "code",
      "metadata": {
        "id": "jpBDBc67kxqw"
      },
      "source": [
        "def get_AND_data():\n",
        "    X = [[0, 0], [0, 1], [1, 0], [1, 1]]\n",
        "    Y = [[0],[0],[0],[1]]\n",
        "    return X, Y\n",
        "\n",
        "def get_OR_data():\n",
        "    X = [[0, 0], [0, 1], [1, 0], [1, 1]]\n",
        "    Y = [[0],[1],[1],[1]]\n",
        "    return X, Y\n",
        "\n",
        "def get_XOR_data():\n",
        "    X = [[0, 0], [0, 1], [1, 0], [1, 1]]\n",
        "    Y = [[0], [1], [1], [0]]\n",
        "    return X, Y"
      ],
      "execution_count": 103,
      "outputs": []
    },
    {
      "cell_type": "code",
      "metadata": {
        "id": "rWEJxM8YlOlo"
      },
      "source": [
        "# X, Y = get_AND_data()\n",
        "# X, Y = get_OR_data()\n",
        "X, Y = get_XOR_data()"
      ],
      "execution_count": 116,
      "outputs": []
    },
    {
      "cell_type": "code",
      "metadata": {
        "id": "zxROFoV6lUJP"
      },
      "source": [
        "x_train = torch.FloatTensor(X)\n",
        "y_train = torch.FloatTensor(Y)"
      ],
      "execution_count": 117,
      "outputs": []
    },
    {
      "cell_type": "code",
      "metadata": {
        "colab": {
          "base_uri": "https://localhost:8080/"
        },
        "id": "XiHRpn7SleQP",
        "outputId": "47dca202-774e-4a88-dc7f-11477c7a95e8"
      },
      "source": [
        "print(x_train.shape)\n",
        "print(y_train.shape)"
      ],
      "execution_count": 118,
      "outputs": [
        {
          "output_type": "stream",
          "text": [
            "torch.Size([4, 2])\n",
            "torch.Size([4, 1])\n"
          ],
          "name": "stdout"
        }
      ]
    },
    {
      "cell_type": "code",
      "metadata": {
        "id": "T1SSC_u5lfbP"
      },
      "source": [
        "class Classifier(nn.Module):\n",
        "    def __init__(self):\n",
        "        super().__init__()\n",
        "        self.linear = nn.Linear(2, 1)\n",
        "        self.sigmoid = nn.Sigmoid()\n",
        "\n",
        "    def forward(self, x):\n",
        "        return self.sigmoid(self.linear(x))"
      ],
      "execution_count": 119,
      "outputs": []
    },
    {
      "cell_type": "code",
      "metadata": {
        "id": "nyKt-s3LlsOY"
      },
      "source": [
        "model = Classifier()"
      ],
      "execution_count": 120,
      "outputs": []
    },
    {
      "cell_type": "code",
      "metadata": {
        "colab": {
          "base_uri": "https://localhost:8080/"
        },
        "id": "_wBnQQvZlulQ",
        "outputId": "d8908c2e-9654-4944-dcff-fae82563a25c"
      },
      "source": [
        "# optimizer 설정\n",
        "optimizer = optim.SGD(model.parameters(), lr=1)\n",
        "\n",
        "nb_epochs = 100\n",
        "for epoch in range(nb_epochs + 1):\n",
        "\n",
        "    # H(x) 계산\n",
        "    hypothesis = model(x_train)\n",
        "    # cost 계산\n",
        "    cost = F.binary_cross_entropy(hypothesis, y_train)\n",
        "\n",
        "    # cost로 H(x) 개선\n",
        "    optimizer.zero_grad()\n",
        "    cost.backward()\n",
        "    optimizer.step()\n",
        "    \n",
        "    # 20번마다 로그 출력\n",
        "    if epoch % 10 == 0:\n",
        "        prediction = hypothesis >= torch.FloatTensor([0.5])\n",
        "        correct_prediction = prediction.float() == y_train\n",
        "        accuracy = correct_prediction.sum().item() / len(correct_prediction)\n",
        "        print('Epoch {:4d}/{} Cost: {:.6f} Accuracy {:2.2f}%'.format(\n",
        "            epoch, nb_epochs, cost.item(), accuracy * 100,\n",
        "        ))"
      ],
      "execution_count": 121,
      "outputs": [
        {
          "output_type": "stream",
          "text": [
            "Epoch    0/100 Cost: 0.743351 Accuracy 50.00%\n",
            "Epoch   10/100 Cost: 0.693706 Accuracy 50.00%\n",
            "Epoch   20/100 Cost: 0.693323 Accuracy 50.00%\n",
            "Epoch   30/100 Cost: 0.693205 Accuracy 50.00%\n",
            "Epoch   40/100 Cost: 0.693168 Accuracy 50.00%\n",
            "Epoch   50/100 Cost: 0.693155 Accuracy 50.00%\n",
            "Epoch   60/100 Cost: 0.693150 Accuracy 50.00%\n",
            "Epoch   70/100 Cost: 0.693148 Accuracy 50.00%\n",
            "Epoch   80/100 Cost: 0.693148 Accuracy 50.00%\n",
            "Epoch   90/100 Cost: 0.693147 Accuracy 50.00%\n",
            "Epoch  100/100 Cost: 0.693147 Accuracy 50.00%\n"
          ],
          "name": "stdout"
        }
      ]
    },
    {
      "cell_type": "code",
      "metadata": {
        "colab": {
          "base_uri": "https://localhost:8080/"
        },
        "id": "SKcd4m6Cm2c5",
        "outputId": "3e35ccc7-14d6-4902-c1ff-9eff4c15b240"
      },
      "source": [
        "# Accuracy computation\n",
        "# True if hypothesis>0.5 else False\n",
        "with torch.no_grad():\n",
        "    hypothesis = model(x_train)\n",
        "    # print(type(hypothesis))\n",
        "    predicted = (hypothesis > 0.5)\n",
        "    # print(predicted)\n",
        "    correct_prediction = (predicted == y_train)\n",
        "    # print(correct_prediction, type(correct_prediction))\n",
        "    accuracy = correct_prediction.sum().item() / len(correct_prediction)\n",
        "    # print(accuracy)\n",
        "    print('\\nHypothesis: ', hypothesis.detach().cpu().numpy(), '\\nCorrect: ', predicted.detach().cpu().numpy(), '\\nAccuracy: ', accuracy)"
      ],
      "execution_count": 35,
      "outputs": [
        {
          "output_type": "stream",
          "text": [
            "\n",
            "Hypothesis:  [[0.18594174]\n",
            " [0.92929256]\n",
            " [0.92633486]\n",
            " [0.9986198 ]] \n",
            "Correct:  [[False]\n",
            " [ True]\n",
            " [ True]\n",
            " [ True]] \n",
            "Accuracy:  1.0\n"
          ],
          "name": "stdout"
        }
      ]
    },
    {
      "cell_type": "markdown",
      "metadata": {
        "id": "Mu3G66U5mSeg"
      },
      "source": [
        "XOR 문제를 해결하기 위한 MLP"
      ]
    },
    {
      "cell_type": "code",
      "metadata": {
        "id": "ihVys0apmXAH"
      },
      "source": [
        "X, Y = get_XOR_data()"
      ],
      "execution_count": 86,
      "outputs": []
    },
    {
      "cell_type": "code",
      "metadata": {
        "colab": {
          "base_uri": "https://localhost:8080/"
        },
        "id": "--4WBitqqcLP",
        "outputId": "ae3396de-2871-4547-c15a-4f18dce923f7"
      },
      "source": [
        "print(X, Y)"
      ],
      "execution_count": 87,
      "outputs": [
        {
          "output_type": "stream",
          "text": [
            "[[0, 0], [0, 1], [1, 0], [1, 1]] [[0], [1], [1], [0]]\n"
          ],
          "name": "stdout"
        }
      ]
    },
    {
      "cell_type": "code",
      "metadata": {
        "id": "GWD80PeSosHg"
      },
      "source": [
        "x_train = torch.FloatTensor(X)\n",
        "y_train = torch.FloatTensor(Y)"
      ],
      "execution_count": 88,
      "outputs": []
    },
    {
      "cell_type": "markdown",
      "metadata": {
        "id": "_s0QyJM4reEl"
      },
      "source": [
        "XOR 모델을 torch.nn.Sequential 로 만드는 방법"
      ]
    },
    {
      "cell_type": "code",
      "metadata": {
        "id": "wIBUCHR7rEIf"
      },
      "source": [
        "# nn layers\n",
        "linear1 = torch.nn.Linear(2, 2, bias=True)\n",
        "linear2 = torch.nn.Linear(2, 1, bias=True)\n",
        "sigmoid = torch.nn.Sigmoid()\n",
        "\n",
        "# model\n",
        "model = torch.nn.Sequential(linear1, sigmoid, linear2, sigmoid).to(device)"
      ],
      "execution_count": 66,
      "outputs": []
    },
    {
      "cell_type": "markdown",
      "metadata": {
        "id": "ibgjMLMGrle2"
      },
      "source": [
        "XOR 모델을 torch.nn.Module 로 만드는 방법"
      ]
    },
    {
      "cell_type": "code",
      "metadata": {
        "id": "FL9zPqEnmRjY"
      },
      "source": [
        "class XOR_Classifier(nn.Module):\n",
        "    def __init__(self):\n",
        "        super().__init__()\n",
        "        self.linear1 = nn.Linear(2, 2, bias=True)\n",
        "        self.linear2 = nn.Linear(2, 1, bias=True)\n",
        "        self.sigmoid = nn.Sigmoid()\n",
        "\n",
        "    def forward(self, x):\n",
        "        x = self.sigmoid(self.linear1(x))\n",
        "        x = self.sigmoid(self.linear2(x))\n",
        "        return x"
      ],
      "execution_count": 72,
      "outputs": []
    },
    {
      "cell_type": "code",
      "metadata": {
        "id": "A2j42KbWovTX"
      },
      "source": [
        "model = XOR_Classifier()"
      ],
      "execution_count": 73,
      "outputs": []
    },
    {
      "cell_type": "code",
      "metadata": {
        "colab": {
          "base_uri": "https://localhost:8080/"
        },
        "id": "5G4Z5g-woysO",
        "outputId": "2c5d7329-0ac7-4378-ae2b-5fa4049792df"
      },
      "source": [
        "# optimizer 설정\n",
        "optimizer = optim.SGD(model.parameters(), lr=1)\n",
        "\n",
        "nb_epochs = 1000\n",
        "for epoch in range(nb_epochs + 1):\n",
        "\n",
        "    # H(x) 계산\n",
        "    hypothesis = model(x_train)\n",
        "    # cost 계산\n",
        "    cost = F.binary_cross_entropy(hypothesis, y_train)\n",
        "\n",
        "    # cost로 H(x) 개선\n",
        "    optimizer.zero_grad()\n",
        "    cost.backward()\n",
        "    optimizer.step()\n",
        "    \n",
        "    # 20번마다 로그 출력\n",
        "    if epoch % 100 == 0:\n",
        "        prediction = hypothesis >= torch.FloatTensor([0.5])\n",
        "        correct_prediction = prediction.float() == y_train\n",
        "        accuracy = correct_prediction.sum().item() / len(correct_prediction)\n",
        "        print('Epoch {:4d}/{} Cost: {:.6f} Accuracy {:2.2f}%'.format(\n",
        "            epoch, nb_epochs, cost.item(), accuracy * 100,\n",
        "        ))"
      ],
      "execution_count": 74,
      "outputs": [
        {
          "output_type": "stream",
          "text": [
            "Epoch    0/1000 Cost: 0.705488 Accuracy 50.00%\n",
            "Epoch  100/1000 Cost: 0.689583 Accuracy 50.00%\n",
            "Epoch  200/1000 Cost: 0.669506 Accuracy 75.00%\n",
            "Epoch  300/1000 Cost: 0.569690 Accuracy 75.00%\n",
            "Epoch  400/1000 Cost: 0.462867 Accuracy 75.00%\n",
            "Epoch  500/1000 Cost: 0.390877 Accuracy 75.00%\n",
            "Epoch  600/1000 Cost: 0.124521 Accuracy 100.00%\n",
            "Epoch  700/1000 Cost: 0.059425 Accuracy 100.00%\n",
            "Epoch  800/1000 Cost: 0.037897 Accuracy 100.00%\n",
            "Epoch  900/1000 Cost: 0.027592 Accuracy 100.00%\n",
            "Epoch 1000/1000 Cost: 0.021615 Accuracy 100.00%\n"
          ],
          "name": "stdout"
        }
      ]
    },
    {
      "cell_type": "code",
      "metadata": {
        "colab": {
          "base_uri": "https://localhost:8080/"
        },
        "id": "SydSnWOZraaP",
        "outputId": "51cd35f0-502e-4648-e268-d3f7cb1190a1"
      },
      "source": [
        "# Accuracy computation\n",
        "# True if hypothesis>0.5 else False\n",
        "with torch.no_grad():\n",
        "    hypothesis = model(x_train)\n",
        "    # print(type(hypothesis))\n",
        "    predicted = (hypothesis > 0.5)\n",
        "    # print(predicted)\n",
        "    correct_prediction = (predicted == y_train)\n",
        "    # print(correct_prediction, type(correct_prediction))\n",
        "    accuracy = correct_prediction.sum().item() / len(correct_prediction)\n",
        "    # print(accuracy)\n",
        "    print('\\nHypothesis: ', hypothesis.detach().cpu().numpy(), '\\nCorrect: ', predicted.detach().cpu().numpy(), '\\nAccuracy: ', accuracy)"
      ],
      "execution_count": 75,
      "outputs": [
        {
          "output_type": "stream",
          "text": [
            "\n",
            "Hypothesis:  [[0.02366739]\n",
            " [0.98067653]\n",
            " [0.98017913]\n",
            " [0.02252991]] \n",
            "Correct:  [[False]\n",
            " [ True]\n",
            " [ True]\n",
            " [False]] \n",
            "Accuracy:  1.0\n"
          ],
          "name": "stdout"
        }
      ]
    },
    {
      "cell_type": "markdown",
      "metadata": {
        "id": "zWQ0_wbPvrwp"
      },
      "source": [
        "MLP"
      ]
    },
    {
      "cell_type": "code",
      "metadata": {
        "id": "Sq1zdCAbwZ_V"
      },
      "source": [
        "X, Y = get_XOR_data()"
      ],
      "execution_count": 92,
      "outputs": []
    },
    {
      "cell_type": "code",
      "metadata": {
        "id": "7sZizxWzwcD9"
      },
      "source": [
        "x_train = torch.FloatTensor(X)\n",
        "y_train = torch.FloatTensor(Y)"
      ],
      "execution_count": 93,
      "outputs": []
    },
    {
      "cell_type": "code",
      "metadata": {
        "id": "rH-srRAcvs6F"
      },
      "source": [
        "class MLP_Classifier(nn.Module):\n",
        "    def __init__(self):\n",
        "        super().__init__()\n",
        "        self.linear1 = nn.Linear(2, 5, bias=True)\n",
        "        self.linear2 = nn.Linear(5, 10, bias=True)\n",
        "        self.linear3 = nn.Linear(10, 5, bias=True)\n",
        "        self.linear4 = nn.Linear(5, 1, bias=True)\n",
        "        self.sigmoid = nn.Sigmoid()\n",
        "\n",
        "    def forward(self, x):\n",
        "        x = self.sigmoid(self.linear1(x))\n",
        "        x = self.sigmoid(self.linear2(x))\n",
        "        x = self.sigmoid(self.linear3(x))\n",
        "        x = self.sigmoid(self.linear4(x))\n",
        "        return x"
      ],
      "execution_count": 94,
      "outputs": []
    },
    {
      "cell_type": "code",
      "metadata": {
        "id": "5ZDM5I8twCxl"
      },
      "source": [
        "model = MLP_Classifier()"
      ],
      "execution_count": 95,
      "outputs": []
    },
    {
      "cell_type": "code",
      "metadata": {
        "colab": {
          "base_uri": "https://localhost:8080/"
        },
        "id": "Jxqv1R2jwFLF",
        "outputId": "49868f55-321a-4903-8266-8e341bc3d7b9"
      },
      "source": [
        "# optimizer 설정\n",
        "optimizer = optim.SGD(model.parameters(), lr=0.1)\n",
        "\n",
        "nb_epochs = 1000\n",
        "for epoch in range(nb_epochs + 1):\n",
        "\n",
        "    # H(x) 계산\n",
        "    hypothesis = model(x_train)\n",
        "    # cost 계산\n",
        "    cost = F.binary_cross_entropy(hypothesis, y_train)\n",
        "\n",
        "    # cost로 H(x) 개선\n",
        "    optimizer.zero_grad()\n",
        "    cost.backward()\n",
        "    optimizer.step()\n",
        "    \n",
        "    # 20번마다 로그 출력\n",
        "    if epoch % 100 == 0:\n",
        "        prediction = hypothesis >= torch.FloatTensor([0.5])\n",
        "        correct_prediction = prediction.float() == y_train\n",
        "        accuracy = correct_prediction.sum().item() / len(correct_prediction)\n",
        "        print('Epoch {:4d}/{} Cost: {:.6f} Accuracy {:2.2f}%'.format(\n",
        "            epoch, nb_epochs, cost.item(), accuracy * 100,\n",
        "        ))"
      ],
      "execution_count": 100,
      "outputs": [
        {
          "output_type": "stream",
          "text": [
            "Epoch    0/1000 Cost: 0.698987 Accuracy 50.00%\n",
            "Epoch  100/1000 Cost: 0.693136 Accuracy 50.00%\n",
            "Epoch  200/1000 Cost: 0.693135 Accuracy 50.00%\n",
            "Epoch  300/1000 Cost: 0.693135 Accuracy 50.00%\n",
            "Epoch  400/1000 Cost: 0.693135 Accuracy 50.00%\n",
            "Epoch  500/1000 Cost: 0.693134 Accuracy 50.00%\n",
            "Epoch  600/1000 Cost: 0.693134 Accuracy 50.00%\n",
            "Epoch  700/1000 Cost: 0.693134 Accuracy 50.00%\n",
            "Epoch  800/1000 Cost: 0.693133 Accuracy 50.00%\n",
            "Epoch  900/1000 Cost: 0.693133 Accuracy 50.00%\n",
            "Epoch 1000/1000 Cost: 0.693133 Accuracy 50.00%\n"
          ],
          "name": "stdout"
        }
      ]
    }
  ]
}