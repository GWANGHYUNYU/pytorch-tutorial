{
  "nbformat": 4,
  "nbformat_minor": 0,
  "metadata": {
    "colab": {
      "name": "08_1_xor.ipynb",
      "provenance": [],
      "collapsed_sections": [],
      "authorship_tag": "ABX9TyOuxYbuCgV/K+vGe+LJMNjJ",
      "include_colab_link": true
    },
    "kernelspec": {
      "name": "python3",
      "display_name": "Python 3"
    },
    "language_info": {
      "name": "python"
    }
  },
  "cells": [
    {
      "cell_type": "markdown",
      "metadata": {
        "id": "view-in-github",
        "colab_type": "text"
      },
      "source": [
        "<a href=\"https://colab.research.google.com/github/GWANGHYUNYU/pytorch-tutorial/blob/master/08_1_xor.ipynb\" target=\"_parent\"><img src=\"https://colab.research.google.com/assets/colab-badge.svg\" alt=\"Open In Colab\"/></a>"
      ]
    },
    {
      "cell_type": "code",
      "metadata": {
        "id": "azdWfsgifAvk"
      },
      "source": [
        "import torch\n",
        "import torch.nn as nn\n",
        "import torch.nn.functional as F\n",
        "import torch.optim as optim"
      ],
      "execution_count": null,
      "outputs": []
    },
    {
      "cell_type": "code",
      "metadata": {
        "id": "904uCP8llXCf"
      },
      "source": [
        "device = 'cuda' if torch.cuda.is_available() else 'cpu'\n",
        "\n",
        "# for reproducibility\n",
        "torch.manual_seed(777)\n",
        "if device == 'cuda':\n",
        "    torch.cuda.manual_seed_all(777)"
      ],
      "execution_count": null,
      "outputs": []
    },
    {
      "cell_type": "code",
      "metadata": {
        "id": "jpBDBc67kxqw"
      },
      "source": [
        "def get_AND_data():\n",
        "    X = [[0, 0], [0, 1], [1, 0], [1, 1]]\n",
        "    Y = [[0],[0],[0],[1]]\n",
        "    return X, Y\n",
        "\n",
        "def get_OR_data():\n",
        "    X = [[0, 0], [0, 1], [1, 0], [1, 1]]\n",
        "    Y = [[0],[1],[1],[1]]\n",
        "    return X, Y\n",
        "\n",
        "def get_XOR_data():\n",
        "    X = [[0, 0], [0, 1], [1, 0], [1, 1]]\n",
        "    Y = [[0], [1], [1], [0]]\n",
        "    return X, Y"
      ],
      "execution_count": null,
      "outputs": []
    },
    {
      "cell_type": "code",
      "metadata": {
        "id": "rWEJxM8YlOlo"
      },
      "source": [
        "# X, Y = get_AND_data()\n",
        "# X, Y = get_OR_data()\n",
        "X, Y = get_XOR_data()"
      ],
      "execution_count": null,
      "outputs": []
    },
    {
      "cell_type": "code",
      "metadata": {
        "id": "zxROFoV6lUJP"
      },
      "source": [
        "x_train = torch.FloatTensor(X)\n",
        "y_train = torch.FloatTensor(Y)"
      ],
      "execution_count": null,
      "outputs": []
    },
    {
      "cell_type": "code",
      "metadata": {
        "colab": {
          "base_uri": "https://localhost:8080/"
        },
        "id": "XiHRpn7SleQP",
        "outputId": "6cfa249e-36cc-4a64-bf9b-2cd66c76c9aa"
      },
      "source": [
        "print(x_train.shape)\n",
        "print(y_train.shape)"
      ],
      "execution_count": null,
      "outputs": [
        {
          "output_type": "stream",
          "text": [
            "torch.Size([4, 2])\n",
            "torch.Size([4, 1])\n"
          ],
          "name": "stdout"
        }
      ]
    },
    {
      "cell_type": "code",
      "metadata": {
        "id": "T1SSC_u5lfbP"
      },
      "source": [
        "class Classifier(nn.Module):\n",
        "    def __init__(self):\n",
        "        super().__init__()\n",
        "        self.linear = nn.Linear(2, 1)\n",
        "        self.sigmoid = nn.Sigmoid()\n",
        "\n",
        "    def forward(self, x):\n",
        "        return self.sigmoid(self.linear(x))"
      ],
      "execution_count": null,
      "outputs": []
    },
    {
      "cell_type": "code",
      "metadata": {
        "id": "nyKt-s3LlsOY"
      },
      "source": [
        "model = Classifier()"
      ],
      "execution_count": null,
      "outputs": []
    },
    {
      "cell_type": "code",
      "metadata": {
        "colab": {
          "base_uri": "https://localhost:8080/"
        },
        "id": "_wBnQQvZlulQ",
        "outputId": "29a6868b-e43a-4348-d3e7-c7fe705253cd"
      },
      "source": [
        "# optimizer 설정\n",
        "optimizer = optim.SGD(model.parameters(), lr=1)\n",
        "\n",
        "nb_epochs = 100\n",
        "for epoch in range(nb_epochs + 1):\n",
        "\n",
        "    # H(x) 계산\n",
        "    hypothesis = model(x_train)\n",
        "    # cost 계산\n",
        "    cost = F.binary_cross_entropy(hypothesis, y_train)\n",
        "\n",
        "    # cost로 H(x) 개선\n",
        "    optimizer.zero_grad()\n",
        "    cost.backward()\n",
        "    optimizer.step()\n",
        "    \n",
        "    # 20번마다 로그 출력\n",
        "    if epoch % 10 == 0:\n",
        "        prediction = hypothesis >= torch.FloatTensor([0.5])\n",
        "        correct_prediction = prediction.float() == y_train\n",
        "        accuracy = correct_prediction.sum().item() / len(correct_prediction)\n",
        "        print('Epoch {:4d}/{} Cost: {:.6f} Accuracy {:2.2f}%'.format(\n",
        "            epoch, nb_epochs, cost.item(), accuracy * 100,\n",
        "        ))"
      ],
      "execution_count": null,
      "outputs": [
        {
          "output_type": "stream",
          "text": [
            "Epoch    0/100 Cost: 0.727397 Accuracy 50.00%\n",
            "Epoch   10/100 Cost: 0.695116 Accuracy 50.00%\n",
            "Epoch   20/100 Cost: 0.693778 Accuracy 50.00%\n",
            "Epoch   30/100 Cost: 0.693361 Accuracy 50.00%\n",
            "Epoch   40/100 Cost: 0.693224 Accuracy 50.00%\n",
            "Epoch   50/100 Cost: 0.693176 Accuracy 50.00%\n",
            "Epoch   60/100 Cost: 0.693159 Accuracy 50.00%\n",
            "Epoch   70/100 Cost: 0.693152 Accuracy 50.00%\n",
            "Epoch   80/100 Cost: 0.693149 Accuracy 50.00%\n",
            "Epoch   90/100 Cost: 0.693148 Accuracy 50.00%\n",
            "Epoch  100/100 Cost: 0.693148 Accuracy 50.00%\n"
          ],
          "name": "stdout"
        }
      ]
    },
    {
      "cell_type": "code",
      "metadata": {
        "colab": {
          "base_uri": "https://localhost:8080/"
        },
        "id": "SKcd4m6Cm2c5",
        "outputId": "efa61c17-ffd2-4b1f-e59f-2b6064255f84"
      },
      "source": [
        "# Accuracy computation\n",
        "# True if hypothesis>0.5 else False\n",
        "with torch.no_grad():\n",
        "    hypothesis = model(x_train)\n",
        "    # print(type(hypothesis))\n",
        "    predicted = (hypothesis > 0.5)\n",
        "    # print(predicted)\n",
        "    correct_prediction = (predicted == y_train)\n",
        "    # print(correct_prediction, type(correct_prediction))\n",
        "    accuracy = correct_prediction.sum().item() / len(correct_prediction)\n",
        "    # print(accuracy)\n",
        "    print('\\nHypothesis: ', hypothesis.detach().cpu().numpy(), '\\nCorrect: ', predicted.detach().cpu().numpy(), '\\nAccuracy: ', accuracy)"
      ],
      "execution_count": null,
      "outputs": [
        {
          "output_type": "stream",
          "text": [
            "\n",
            "Hypothesis:  [[0.50067806]\n",
            " [0.5002141 ]\n",
            " [0.4999987 ]\n",
            " [0.49953476]] \n",
            "Correct:  [[ True]\n",
            " [ True]\n",
            " [False]\n",
            " [False]] \n",
            "Accuracy:  0.5\n"
          ],
          "name": "stdout"
        }
      ]
    },
    {
      "cell_type": "markdown",
      "metadata": {
        "id": "Mu3G66U5mSeg"
      },
      "source": [
        "XOR 문제를 해결하기 위한 MLP"
      ]
    },
    {
      "cell_type": "code",
      "metadata": {
        "id": "ihVys0apmXAH"
      },
      "source": [
        "X, Y = get_XOR_data()"
      ],
      "execution_count": null,
      "outputs": []
    },
    {
      "cell_type": "code",
      "metadata": {
        "colab": {
          "base_uri": "https://localhost:8080/"
        },
        "id": "--4WBitqqcLP",
        "outputId": "04c039ed-1891-4f41-f174-1119ea1ac08e"
      },
      "source": [
        "print(X, Y)"
      ],
      "execution_count": null,
      "outputs": [
        {
          "output_type": "stream",
          "text": [
            "[[0, 0], [0, 1], [1, 0], [1, 1]] [[0], [1], [1], [0]]\n"
          ],
          "name": "stdout"
        }
      ]
    },
    {
      "cell_type": "code",
      "metadata": {
        "id": "GWD80PeSosHg"
      },
      "source": [
        "x_train = torch.FloatTensor(X)\n",
        "y_train = torch.FloatTensor(Y)"
      ],
      "execution_count": null,
      "outputs": []
    },
    {
      "cell_type": "markdown",
      "metadata": {
        "id": "_s0QyJM4reEl"
      },
      "source": [
        "XOR 모델을 torch.nn.Sequential 로 만드는 방법"
      ]
    },
    {
      "cell_type": "code",
      "metadata": {
        "id": "wIBUCHR7rEIf"
      },
      "source": [
        "# nn layers\n",
        "linear1 = torch.nn.Linear(2, 2, bias=True)\n",
        "linear2 = torch.nn.Linear(2, 1, bias=True)\n",
        "sigmoid = torch.nn.Sigmoid()\n",
        "\n",
        "# model\n",
        "model = torch.nn.Sequential(linear1, sigmoid, linear2, sigmoid).to(device)"
      ],
      "execution_count": null,
      "outputs": []
    },
    {
      "cell_type": "markdown",
      "metadata": {
        "id": "ibgjMLMGrle2"
      },
      "source": [
        "XOR 모델을 torch.nn.Module 로 만드는 방법"
      ]
    },
    {
      "cell_type": "code",
      "metadata": {
        "id": "FL9zPqEnmRjY"
      },
      "source": [
        "class XOR_Classifier(nn.Module):\n",
        "    def __init__(self):\n",
        "        super().__init__()\n",
        "        self.linear1 = nn.Linear(2, 2, bias=True)\n",
        "        self.linear2 = nn.Linear(2, 1, bias=True)\n",
        "        self.sigmoid = nn.Sigmoid()\n",
        "\n",
        "    def forward(self, x):\n",
        "        x = self.sigmoid(self.linear1(x))\n",
        "        x = self.sigmoid(self.linear2(x))\n",
        "        return x"
      ],
      "execution_count": null,
      "outputs": []
    },
    {
      "cell_type": "code",
      "metadata": {
        "id": "A2j42KbWovTX"
      },
      "source": [
        "model = XOR_Classifier()"
      ],
      "execution_count": null,
      "outputs": []
    },
    {
      "cell_type": "code",
      "metadata": {
        "colab": {
          "base_uri": "https://localhost:8080/"
        },
        "id": "5G4Z5g-woysO",
        "outputId": "43e1db81-bac7-4cb5-e3ce-a1321e28060b"
      },
      "source": [
        "# optimizer 설정\n",
        "optimizer = optim.SGD(model.parameters(), lr=1)\n",
        "\n",
        "nb_epochs = 1000\n",
        "for epoch in range(nb_epochs + 1):\n",
        "\n",
        "    # H(x) 계산\n",
        "    hypothesis = model(x_train)\n",
        "    # cost 계산\n",
        "    cost = F.binary_cross_entropy(hypothesis, y_train)\n",
        "\n",
        "    # cost로 H(x) 개선\n",
        "    optimizer.zero_grad()\n",
        "    cost.backward()\n",
        "    optimizer.step()\n",
        "    \n",
        "    # 20번마다 로그 출력\n",
        "    if epoch % 100 == 0:\n",
        "        prediction = hypothesis >= torch.FloatTensor([0.5])\n",
        "        correct_prediction = prediction.float() == y_train\n",
        "        accuracy = correct_prediction.sum().item() / len(correct_prediction)\n",
        "        print('Epoch {:4d}/{} Cost: {:.6f} Accuracy {:2.2f}%'.format(\n",
        "            epoch, nb_epochs, cost.item(), accuracy * 100,\n",
        "        ))"
      ],
      "execution_count": null,
      "outputs": [
        {
          "output_type": "stream",
          "text": [
            "Epoch    0/1000 Cost: 0.741045 Accuracy 50.00%\n",
            "Epoch  100/1000 Cost: 0.691637 Accuracy 50.00%\n",
            "Epoch  200/1000 Cost: 0.682888 Accuracy 75.00%\n",
            "Epoch  300/1000 Cost: 0.619116 Accuracy 75.00%\n",
            "Epoch  400/1000 Cost: 0.445046 Accuracy 75.00%\n",
            "Epoch  500/1000 Cost: 0.164295 Accuracy 100.00%\n",
            "Epoch  600/1000 Cost: 0.072427 Accuracy 100.00%\n",
            "Epoch  700/1000 Cost: 0.043958 Accuracy 100.00%\n",
            "Epoch  800/1000 Cost: 0.031071 Accuracy 100.00%\n",
            "Epoch  900/1000 Cost: 0.023870 Accuracy 100.00%\n",
            "Epoch 1000/1000 Cost: 0.019313 Accuracy 100.00%\n"
          ],
          "name": "stdout"
        }
      ]
    },
    {
      "cell_type": "code",
      "metadata": {
        "colab": {
          "base_uri": "https://localhost:8080/"
        },
        "id": "SydSnWOZraaP",
        "outputId": "e60ee123-bcba-4f9f-88ae-d79e3029405d"
      },
      "source": [
        "# Accuracy computation\n",
        "# True if hypothesis>0.5 else False\n",
        "with torch.no_grad():\n",
        "    hypothesis = model(x_train)\n",
        "    # print(type(hypothesis))\n",
        "    predicted = (hypothesis > 0.5)\n",
        "    # print(predicted)\n",
        "    correct_prediction = (predicted == y_train)\n",
        "    # print(correct_prediction, type(correct_prediction))\n",
        "    accuracy = correct_prediction.sum().item() / len(correct_prediction)\n",
        "    # print(accuracy)\n",
        "    print('\\nHypothesis: ', hypothesis.detach().cpu().numpy(), '\\nCorrect: ', predicted.detach().cpu().numpy(), '\\nAccuracy: ', accuracy)"
      ],
      "execution_count": null,
      "outputs": [
        {
          "output_type": "stream",
          "text": [
            "\n",
            "Hypothesis:  [[0.02211061]\n",
            " [0.9825607 ]\n",
            " [0.98252976]\n",
            " [0.01933792]] \n",
            "Correct:  [[False]\n",
            " [ True]\n",
            " [ True]\n",
            " [False]] \n",
            "Accuracy:  1.0\n"
          ],
          "name": "stdout"
        }
      ]
    },
    {
      "cell_type": "markdown",
      "metadata": {
        "id": "zWQ0_wbPvrwp"
      },
      "source": [
        "MLP"
      ]
    },
    {
      "cell_type": "code",
      "metadata": {
        "id": "Sq1zdCAbwZ_V"
      },
      "source": [
        "X, Y = get_XOR_data()"
      ],
      "execution_count": null,
      "outputs": []
    },
    {
      "cell_type": "code",
      "metadata": {
        "id": "7sZizxWzwcD9"
      },
      "source": [
        "x_train = torch.FloatTensor(X)\n",
        "y_train = torch.FloatTensor(Y)"
      ],
      "execution_count": null,
      "outputs": []
    },
    {
      "cell_type": "code",
      "metadata": {
        "id": "5_UVfnWgEVHj"
      },
      "source": [
        "# nn layers\n",
        "linear1 = torch.nn.Linear(2, 10, bias=True)\n",
        "linear2 = torch.nn.Linear(10, 10, bias=True)\n",
        "linear3 = torch.nn.Linear(10, 10, bias=True)\n",
        "linear4 = torch.nn.Linear(10, 1, bias=True)\n",
        "sigmoid = torch.nn.Sigmoid()"
      ],
      "execution_count": null,
      "outputs": []
    },
    {
      "cell_type": "code",
      "metadata": {
        "id": "Ecsx0k7hEWsy"
      },
      "source": [
        "# model\n",
        "model = torch.nn.Sequential(linear1, sigmoid, linear2, sigmoid, linear3, sigmoid, linear4, sigmoid).to(device)"
      ],
      "execution_count": null,
      "outputs": []
    },
    {
      "cell_type": "code",
      "metadata": {
        "id": "AUGsuZDOE8OD"
      },
      "source": [
        "# define cost/loss & optimizer\n",
        "criterion = torch.nn.BCELoss().to(device)\n",
        "optimizer = torch.optim.SGD(model.parameters(), lr=1)  # modified learning rate from 0.1 to 1"
      ],
      "execution_count": null,
      "outputs": []
    },
    {
      "cell_type": "code",
      "metadata": {
        "colab": {
          "base_uri": "https://localhost:8080/"
        },
        "id": "45tJAakmE96a",
        "outputId": "2746dba6-37a7-4793-d276-8ca04aaa2c35"
      },
      "source": [
        "for step in range(10001):\n",
        "    optimizer.zero_grad()\n",
        "    hypothesis = model(x_train)\n",
        "\n",
        "    # cost/loss function\n",
        "    cost = criterion(hypothesis, y_train)\n",
        "    cost.backward()\n",
        "    optimizer.step()\n",
        "\n",
        "    if step % 100 == 0:\n",
        "        print(step, cost.item())"
      ],
      "execution_count": null,
      "outputs": [
        {
          "output_type": "stream",
          "text": [
            "0 0.7408947944641113\n",
            "100 0.6931389570236206\n",
            "200 0.6931374669075012\n",
            "300 0.6931357383728027\n",
            "400 0.6931341886520386\n",
            "500 0.6931324601173401\n",
            "600 0.693130612373352\n",
            "700 0.6931287050247192\n",
            "800 0.6931267976760864\n",
            "900 0.6931246519088745\n",
            "1000 0.6931225061416626\n",
            "1100 0.693120002746582\n",
            "1200 0.6931174993515015\n",
            "1300 0.6931147575378418\n",
            "1400 0.693111777305603\n",
            "1500 0.6931085586547852\n",
            "1600 0.6931051015853882\n",
            "1700 0.6931012868881226\n",
            "1800 0.6930969953536987\n",
            "1900 0.6930922269821167\n",
            "2000 0.6930870413780212\n",
            "2100 0.693081259727478\n",
            "2200 0.693074643611908\n",
            "2300 0.6930671334266663\n",
            "2400 0.6930586099624634\n",
            "2500 0.6930486559867859\n",
            "2600 0.693037211894989\n",
            "2700 0.6930238008499146\n",
            "2800 0.6930078268051147\n",
            "2900 0.6929886937141418\n",
            "3000 0.6929655075073242\n",
            "3100 0.6929367780685425\n",
            "3200 0.6929006576538086\n",
            "3300 0.6928543448448181\n",
            "3400 0.6927931904792786\n",
            "3500 0.6927102208137512\n",
            "3600 0.6925929188728333\n",
            "3700 0.6924187541007996\n",
            "3800 0.6921424269676208\n",
            "3900 0.6916618347167969\n",
            "4000 0.6907041668891907\n",
            "4100 0.6883158683776855\n",
            "4200 0.6790618896484375\n",
            "4300 0.554290235042572\n",
            "4400 0.029813911765813828\n",
            "4500 0.007725707720965147\n",
            "4600 0.004090764559805393\n",
            "4700 0.002710649510845542\n",
            "4800 0.002002117456868291\n",
            "4900 0.0015762344701215625\n",
            "5000 0.0012939843581989408\n",
            "5100 0.0010941395303234458\n",
            "5200 0.0009456344414502382\n",
            "5300 0.0008313219295814633\n",
            "5400 0.0007406904478557408\n",
            "5500 0.0006671866867691278\n",
            "5600 0.0006064374465495348\n",
            "5700 0.0005554732633754611\n",
            "5800 0.0005120858550071716\n",
            "5900 0.00047482800437137485\n",
            "6000 0.0004423571808729321\n",
            "6100 0.0004139275406487286\n",
            "6200 0.0003888230712618679\n",
            "6300 0.0003664473188109696\n",
            "6400 0.00034645714913494885\n",
            "6500 0.00032843509688973427\n",
            "6600 0.0003121424815617502\n",
            "6700 0.000297310936730355\n",
            "6800 0.00028380623552948236\n",
            "6900 0.0002714643778745085\n",
            "7000 0.00026007663109339774\n",
            "7100 0.0002495684311725199\n",
            "7200 0.0002398652140982449\n",
            "7300 0.00023086261353455484\n",
            "7400 0.00022250102483667433\n",
            "7500 0.0002146909828297794\n",
            "7600 0.0002073728246614337\n",
            "7700 0.00020053170737810433\n",
            "7800 0.00019413774134591222\n",
            "7900 0.00018810151959769428\n",
            "8000 0.00018243794329464436\n",
            "8100 0.00017708740779198706\n",
            "8200 0.00017203495372086763\n",
            "8300 0.00016726570902392268\n",
            "8400 0.0001627051387913525\n",
            "8500 0.00015842776338104159\n",
            "8600 0.0001543441612739116\n",
            "8700 0.0001504543179180473\n",
            "8800 0.00014672843099106103\n",
            "8900 0.0001431814016541466\n",
            "9000 0.0001398281310684979\n",
            "9100 0.00013663880235981196\n",
            "9200 0.00013353890972211957\n",
            "9300 0.0001305880578001961\n",
            "9400 0.00012777134543284774\n",
            "9500 0.00012505897029768676\n",
            "9600 0.00012246581900399178\n",
            "9700 0.0001199770049424842\n",
            "9800 0.00011754779552575201\n",
            "9900 0.00011526764137670398\n",
            "10000 0.00011304708459647372\n"
          ],
          "name": "stdout"
        }
      ]
    },
    {
      "cell_type": "code",
      "metadata": {
        "colab": {
          "base_uri": "https://localhost:8080/"
        },
        "id": "xxZdTV8pFHLE",
        "outputId": "1cd997d2-6c73-4402-8a4f-efddd435df80"
      },
      "source": [
        "# Accuracy computation\n",
        "# True if hypothesis>0.5 else False\n",
        "with torch.no_grad():\n",
        "    hypothesis = model(x_train)\n",
        "    predicted = (hypothesis > 0.5).float()\n",
        "    accuracy = (predicted == y_train).float().mean()\n",
        "    print('\\nHypothesis: ', hypothesis.detach().cpu().numpy(), '\\nCorrect: ', predicted.detach().cpu().numpy(), '\\nAccuracy: ', accuracy.item())"
      ],
      "execution_count": null,
      "outputs": [
        {
          "output_type": "stream",
          "text": [
            "\n",
            "Hypothesis:  [[6.8877263e-05]\n",
            " [9.9988139e-01]\n",
            " [9.9989223e-01]\n",
            " [1.5683484e-04]] \n",
            "Correct:  [[0.]\n",
            " [1.]\n",
            " [1.]\n",
            " [0.]] \n",
            "Accuracy:  1.0\n"
          ],
          "name": "stdout"
        }
      ]
    },
    {
      "cell_type": "code",
      "metadata": {
        "id": "rH-srRAcvs6F"
      },
      "source": [
        "class MLP_Classifier(nn.Module):\n",
        "    def __init__(self):\n",
        "        super().__init__()\n",
        "        self.linear1 = torch.nn.Linear(2, 10, bias=True)\n",
        "        self.linear2 = nn.Linear(10, 10, bias=True)\n",
        "        self.linear3 = nn.Linear(10, 5, bias=True)\n",
        "        self.linear4 = nn.Linear(5, 1, bias=True)\n",
        "        self.sigmoid = nn.Sigmoid()\n",
        "\n",
        "    def forward(self, x):\n",
        "        x = self.sigmoid(self.linear1(x))\n",
        "        x = self.sigmoid(self.linear2(x))\n",
        "        x = self.sigmoid(self.linear3(x))\n",
        "        x = self.sigmoid(self.linear4(x))\n",
        "        return x"
      ],
      "execution_count": null,
      "outputs": []
    },
    {
      "cell_type": "code",
      "metadata": {
        "id": "5ZDM5I8twCxl"
      },
      "source": [
        "model = MLP_Classifier()"
      ],
      "execution_count": null,
      "outputs": []
    },
    {
      "cell_type": "code",
      "metadata": {
        "colab": {
          "base_uri": "https://localhost:8080/"
        },
        "id": "Jxqv1R2jwFLF",
        "outputId": "d8085a4d-8da5-4f7d-e5a8-21199eaf7409"
      },
      "source": [
        "# optimizer 설정\n",
        "optimizer = optim.SGD(model.parameters(), lr=1)\n",
        "\n",
        "nb_epochs = 10001\n",
        "for epoch in range(nb_epochs + 1):\n",
        "\n",
        "    # H(x) 계산\n",
        "    hypothesis = model(x_train)\n",
        "    # cost 계산\n",
        "    cost = F.binary_cross_entropy(hypothesis, y_train)\n",
        "\n",
        "    # cost로 H(x) 개선\n",
        "    optimizer.zero_grad()\n",
        "    cost.backward()\n",
        "    optimizer.step()\n",
        "    \n",
        "    # 20번마다 로그 출력\n",
        "    if epoch % 100 == 0:\n",
        "        prediction = hypothesis >= torch.FloatTensor([0.5])\n",
        "        correct_prediction = prediction.float() == y_train\n",
        "        accuracy = correct_prediction.sum().item() / len(correct_prediction)\n",
        "        print('Epoch {:4d}/{} Cost: {:.6f} Accuracy {:2.2f}%'.format(\n",
        "            epoch, nb_epochs, cost.item(), accuracy * 100,\n",
        "        ))"
      ],
      "execution_count": null,
      "outputs": [
        {
          "output_type": "stream",
          "text": [
            "Epoch    0/10001 Cost: 0.693147 Accuracy 50.00%\n",
            "Epoch  100/10001 Cost: 0.693147 Accuracy 50.00%\n",
            "Epoch  200/10001 Cost: 0.693146 Accuracy 50.00%\n",
            "Epoch  300/10001 Cost: 0.693146 Accuracy 50.00%\n",
            "Epoch  400/10001 Cost: 0.693146 Accuracy 50.00%\n",
            "Epoch  500/10001 Cost: 0.693145 Accuracy 50.00%\n",
            "Epoch  600/10001 Cost: 0.693145 Accuracy 50.00%\n",
            "Epoch  700/10001 Cost: 0.693144 Accuracy 50.00%\n",
            "Epoch  800/10001 Cost: 0.693144 Accuracy 50.00%\n",
            "Epoch  900/10001 Cost: 0.693143 Accuracy 50.00%\n",
            "Epoch 1000/10001 Cost: 0.693143 Accuracy 50.00%\n",
            "Epoch 1100/10001 Cost: 0.693142 Accuracy 50.00%\n",
            "Epoch 1200/10001 Cost: 0.693142 Accuracy 50.00%\n",
            "Epoch 1300/10001 Cost: 0.693142 Accuracy 50.00%\n",
            "Epoch 1400/10001 Cost: 0.693141 Accuracy 50.00%\n",
            "Epoch 1500/10001 Cost: 0.693141 Accuracy 50.00%\n",
            "Epoch 1600/10001 Cost: 0.693140 Accuracy 50.00%\n",
            "Epoch 1700/10001 Cost: 0.693139 Accuracy 50.00%\n",
            "Epoch 1800/10001 Cost: 0.693139 Accuracy 50.00%\n",
            "Epoch 1900/10001 Cost: 0.693138 Accuracy 50.00%\n",
            "Epoch 2000/10001 Cost: 0.693138 Accuracy 50.00%\n",
            "Epoch 2100/10001 Cost: 0.693137 Accuracy 50.00%\n",
            "Epoch 2200/10001 Cost: 0.693136 Accuracy 50.00%\n",
            "Epoch 2300/10001 Cost: 0.693136 Accuracy 50.00%\n",
            "Epoch 2400/10001 Cost: 0.693135 Accuracy 50.00%\n",
            "Epoch 2500/10001 Cost: 0.693134 Accuracy 50.00%\n",
            "Epoch 2600/10001 Cost: 0.693133 Accuracy 50.00%\n",
            "Epoch 2700/10001 Cost: 0.693133 Accuracy 50.00%\n",
            "Epoch 2800/10001 Cost: 0.693132 Accuracy 50.00%\n",
            "Epoch 2900/10001 Cost: 0.693131 Accuracy 50.00%\n",
            "Epoch 3000/10001 Cost: 0.693130 Accuracy 50.00%\n",
            "Epoch 3100/10001 Cost: 0.693129 Accuracy 50.00%\n",
            "Epoch 3200/10001 Cost: 0.693128 Accuracy 50.00%\n",
            "Epoch 3300/10001 Cost: 0.693127 Accuracy 50.00%\n",
            "Epoch 3400/10001 Cost: 0.693125 Accuracy 50.00%\n",
            "Epoch 3500/10001 Cost: 0.693124 Accuracy 50.00%\n",
            "Epoch 3600/10001 Cost: 0.693123 Accuracy 50.00%\n",
            "Epoch 3700/10001 Cost: 0.693121 Accuracy 50.00%\n",
            "Epoch 3800/10001 Cost: 0.693120 Accuracy 50.00%\n",
            "Epoch 3900/10001 Cost: 0.693118 Accuracy 50.00%\n",
            "Epoch 4000/10001 Cost: 0.693116 Accuracy 50.00%\n",
            "Epoch 4100/10001 Cost: 0.693114 Accuracy 50.00%\n",
            "Epoch 4200/10001 Cost: 0.693112 Accuracy 50.00%\n",
            "Epoch 4300/10001 Cost: 0.693109 Accuracy 50.00%\n",
            "Epoch 4400/10001 Cost: 0.693107 Accuracy 50.00%\n",
            "Epoch 4500/10001 Cost: 0.693104 Accuracy 50.00%\n",
            "Epoch 4600/10001 Cost: 0.693101 Accuracy 50.00%\n",
            "Epoch 4700/10001 Cost: 0.693097 Accuracy 50.00%\n",
            "Epoch 4800/10001 Cost: 0.693094 Accuracy 50.00%\n",
            "Epoch 4900/10001 Cost: 0.693090 Accuracy 50.00%\n",
            "Epoch 5000/10001 Cost: 0.693085 Accuracy 50.00%\n",
            "Epoch 5100/10001 Cost: 0.693080 Accuracy 50.00%\n",
            "Epoch 5200/10001 Cost: 0.693074 Accuracy 50.00%\n",
            "Epoch 5300/10001 Cost: 0.693068 Accuracy 50.00%\n",
            "Epoch 5400/10001 Cost: 0.693061 Accuracy 50.00%\n",
            "Epoch 5500/10001 Cost: 0.693053 Accuracy 50.00%\n",
            "Epoch 5600/10001 Cost: 0.693043 Accuracy 50.00%\n",
            "Epoch 5700/10001 Cost: 0.693032 Accuracy 50.00%\n",
            "Epoch 5800/10001 Cost: 0.693020 Accuracy 50.00%\n",
            "Epoch 5900/10001 Cost: 0.693005 Accuracy 50.00%\n",
            "Epoch 6000/10001 Cost: 0.692988 Accuracy 50.00%\n",
            "Epoch 6100/10001 Cost: 0.692967 Accuracy 50.00%\n",
            "Epoch 6200/10001 Cost: 0.692942 Accuracy 50.00%\n",
            "Epoch 6300/10001 Cost: 0.692912 Accuracy 50.00%\n",
            "Epoch 6400/10001 Cost: 0.692874 Accuracy 50.00%\n",
            "Epoch 6500/10001 Cost: 0.692826 Accuracy 50.00%\n",
            "Epoch 6600/10001 Cost: 0.692764 Accuracy 50.00%\n",
            "Epoch 6700/10001 Cost: 0.692682 Accuracy 50.00%\n",
            "Epoch 6800/10001 Cost: 0.692569 Accuracy 50.00%\n",
            "Epoch 6900/10001 Cost: 0.692407 Accuracy 50.00%\n",
            "Epoch 7000/10001 Cost: 0.692163 Accuracy 50.00%\n",
            "Epoch 7100/10001 Cost: 0.691767 Accuracy 50.00%\n",
            "Epoch 7200/10001 Cost: 0.691055 Accuracy 50.00%\n",
            "Epoch 7300/10001 Cost: 0.689551 Accuracy 50.00%\n",
            "Epoch 7400/10001 Cost: 0.685337 Accuracy 100.00%\n",
            "Epoch 7500/10001 Cost: 0.663018 Accuracy 100.00%\n",
            "Epoch 7600/10001 Cost: 0.464621 Accuracy 50.00%\n",
            "Epoch 7700/10001 Cost: 0.019877 Accuracy 100.00%\n",
            "Epoch 7800/10001 Cost: 0.008247 Accuracy 100.00%\n",
            "Epoch 7900/10001 Cost: 0.005010 Accuracy 100.00%\n",
            "Epoch 8000/10001 Cost: 0.003546 Accuracy 100.00%\n",
            "Epoch 8100/10001 Cost: 0.002725 Accuracy 100.00%\n",
            "Epoch 8200/10001 Cost: 0.002203 Accuracy 100.00%\n",
            "Epoch 8300/10001 Cost: 0.001843 Accuracy 100.00%\n",
            "Epoch 8400/10001 Cost: 0.001582 Accuracy 100.00%\n",
            "Epoch 8500/10001 Cost: 0.001383 Accuracy 100.00%\n",
            "Epoch 8600/10001 Cost: 0.001227 Accuracy 100.00%\n",
            "Epoch 8700/10001 Cost: 0.001102 Accuracy 100.00%\n",
            "Epoch 8800/10001 Cost: 0.001000 Accuracy 100.00%\n",
            "Epoch 8900/10001 Cost: 0.000914 Accuracy 100.00%\n",
            "Epoch 9000/10001 Cost: 0.000842 Accuracy 100.00%\n",
            "Epoch 9100/10001 Cost: 0.000779 Accuracy 100.00%\n",
            "Epoch 9200/10001 Cost: 0.000725 Accuracy 100.00%\n",
            "Epoch 9300/10001 Cost: 0.000678 Accuracy 100.00%\n",
            "Epoch 9400/10001 Cost: 0.000637 Accuracy 100.00%\n",
            "Epoch 9500/10001 Cost: 0.000600 Accuracy 100.00%\n",
            "Epoch 9600/10001 Cost: 0.000567 Accuracy 100.00%\n",
            "Epoch 9700/10001 Cost: 0.000537 Accuracy 100.00%\n",
            "Epoch 9800/10001 Cost: 0.000511 Accuracy 100.00%\n",
            "Epoch 9900/10001 Cost: 0.000486 Accuracy 100.00%\n",
            "Epoch 10000/10001 Cost: 0.000464 Accuracy 100.00%\n"
          ],
          "name": "stdout"
        }
      ]
    },
    {
      "cell_type": "code",
      "metadata": {
        "colab": {
          "base_uri": "https://localhost:8080/"
        },
        "id": "aLNLrfabGh0p",
        "outputId": "82a792a5-3af6-4d57-abd7-3dde15d47d17"
      },
      "source": [
        "# Accuracy computation\n",
        "# True if hypothesis>0.5 else False\n",
        "with torch.no_grad():\n",
        "    hypothesis = model(x_train)\n",
        "    predicted = (hypothesis > 0.5).float()\n",
        "    accuracy = (predicted == y_train).float().mean()\n",
        "    print('\\nHypothesis: ', hypothesis.detach().cpu().numpy(), '\\nCorrect: ', predicted.detach().cpu().numpy(), '\\nAccuracy: ', accuracy.item())"
      ],
      "execution_count": null,
      "outputs": [
        {
          "output_type": "stream",
          "text": [
            "\n",
            "Hypothesis:  [[4.5305054e-04]\n",
            " [9.9956638e-01]\n",
            " [9.9949956e-01]\n",
            " [4.6742201e-04]] \n",
            "Correct:  [[0.]\n",
            " [1.]\n",
            " [1.]\n",
            " [0.]] \n",
            "Accuracy:  1.0\n"
          ],
          "name": "stdout"
        }
      ]
    }
  ]
}